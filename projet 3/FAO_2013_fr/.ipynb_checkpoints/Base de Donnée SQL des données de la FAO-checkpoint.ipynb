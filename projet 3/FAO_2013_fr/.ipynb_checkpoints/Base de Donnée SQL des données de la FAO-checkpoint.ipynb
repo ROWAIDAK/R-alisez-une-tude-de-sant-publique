{
 "cells": [
  {
   "cell_type": "markdown",
   "id": "6fcffb57",
   "metadata": {},
   "source": [
    "# P3_Réalisez une étude de santé publique"
   ]
  },
  {
   "cell_type": "code",
   "execution_count": 54,
   "id": "ba98c6ef",
   "metadata": {},
   "outputs": [],
   "source": [
    "#impotter des librairies\n",
    "import pandas as pd\n",
    "import numpy as np\n",
    "import matplotlib.pyplot as plt\n",
    "import warnings\n",
    "%matplotlib inline"
   ]
  },
  {
   "cell_type": "code",
   "execution_count": 55,
   "id": "cb65cb43",
   "metadata": {},
   "outputs": [],
   "source": [
    "#importer des database\n",
    "df_population = pd.read_csv('fr_population.csv')\n",
    "df_animaux = pd.read_csv('fr_animaux.csv')\n",
    "df_vegetaux = pd.read_csv('fr_vegetaux.csv')\n",
    "df_céréales = pd.read_csv('fr_céréales.csv')\n",
    "df_sousalimentation = pd.read_csv('fr_sousalimentation.csv')"
   ]
  },
  {
   "cell_type": "code",
   "execution_count": 73,
   "id": "0e9251fb",
   "metadata": {},
   "outputs": [],
   "source": [
    "#Supprimer la ligne Chine\n",
    "df_population = df_population[df_population['Code zone'] != 351]\n",
    "df_animaux = df_animaux[df_animaux['Code zone'] != 351]\n",
    "df_vegetaux = df_vegetaux[df_vegetaux['Code zone'] != 351]\n",
    "df_céréales = df_céréales[df_céréales['Code zone'] != 351]\n",
    "df_sousalimentation = df_sousalimentation[df_sousalimentation['Code zone'] != 351 ]"
   ]
  },
  {
   "cell_type": "code",
   "execution_count": 74,
   "id": "7d3f731b",
   "metadata": {},
   "outputs": [],
   "source": [
    "#Ajouter une colonne 'Radical' aux deux tables df_vegetaux et df_animaux\n",
    "df_vegetaux['Radical'] = 'plante'\n",
    "df_animaux['Radical'] = 'animal'"
   ]
  },
  {
   "cell_type": "code",
   "execution_count": 75,
   "id": "9970faab",
   "metadata": {},
   "outputs": [],
   "source": [
    "#fusionner les deux tables\n",
    "df_vegetaux_animaux = df_animaux.append (df_vegetaux) \n"
   ]
  },
  {
   "cell_type": "code",
   "execution_count": 76,
   "id": "7d259cb3",
   "metadata": {},
   "outputs": [],
   "source": [
    "# Jointure avec la table population sur le Code zone \n",
    "df_vegetaux_animaux= pd.merge(df_vegetaux_animaux,df_population, on = 'Code zone' )\n"
   ]
  },
  {
   "cell_type": "code",
   "execution_count": 77,
   "id": "d3d120cc",
   "metadata": {},
   "outputs": [],
   "source": [
    "#  recréer un DataFrame avec les colonnes nécessaires\n",
    "df_vegetaux_animaux= df_vegetaux_animaux[['Code Domaine_x', 'Domaine_x', 'Code zone', 'Zone_x', 'Code Élément_x',\n",
    "       'Élément_x', 'Code Produit_x', 'Produit_x', 'Année_x',\n",
    "       'Unité_x', 'Valeur_x','Radical', 'Valeur_y']]"
   ]
  },
  {
   "cell_type": "code",
   "execution_count": 78,
   "id": "bd16ded1",
   "metadata": {},
   "outputs": [],
   "source": [
    "#Changer les noms de colonnes\n",
    "df_vegetaux_animaux = df_vegetaux_animaux.rename(columns= {'Code Domaine_x':'Code Domaine', 'Domaine_x':'Domaine', 'Code zone': 'Code zone', 'Zone_x': 'Zone', 'Code Élément_x': 'Code Élément',\n",
    "       'Élément_x':'Élément', 'Code Produit_x':'Code Produit', 'Produit_x': 'Produit', 'Année_x': 'Année',\n",
    "       'Unité_x':'Unité', 'Valeur_x':'Valeur','Radical':'Radical', 'Valeur_y':'Population'})   "
   ]
  },
  {
   "cell_type": "code",
   "execution_count": 79,
   "id": "0e2ba358",
   "metadata": {},
   "outputs": [],
   "source": [
    "#Population par pays\n",
    "df_vegetaux_animaux['Population'] = df_vegetaux_animaux['Population'] * 1000"
   ]
  },
  {
   "cell_type": "code",
   "execution_count": 80,
   "id": "aafa7342",
   "metadata": {},
   "outputs": [],
   "source": [
    "# On créé un pivot avec les éléments en colonne\n",
    "df_vegetaux_animaux = df_vegetaux_animaux.pivot_table( index = [ 'Code zone', 'Zone', 'Code Produit', 'Produit', 'Année', 'Radical', 'Population'] , columns = 'Élément', values = 'Valeur', aggfunc = sum).reset_index()"
   ]
  },
  {
   "cell_type": "code",
   "execution_count": 81,
   "id": "37d502e1",
   "metadata": {},
   "outputs": [
    {
     "data": {
      "text/plain": [
       "array(['2012-2014', '2013-2015', '2014-2016', '2015-2017', '2016-2018'],\n",
       "      dtype=object)"
      ]
     },
     "execution_count": 81,
     "metadata": {},
     "output_type": "execute_result"
    }
   ],
   "source": [
    "df_sousalimentation ['Année'] .unique() "
   ]
  },
  {
   "cell_type": "code",
   "execution_count": 82,
   "id": "d05749d1",
   "metadata": {},
   "outputs": [],
   "source": [
    "df_sousalimentation_an = df_sousalimentation.pivot_table(index = ['Code zone','Zone','Code Produit','Produit'], columns = 'Année', values = 'Valeur', aggfunc = sum).reset_index()\n"
   ]
  },
  {
   "cell_type": "code",
   "execution_count": 72,
   "id": "18ee53b1",
   "metadata": {},
   "outputs": [
    {
     "data": {
      "text/html": [
       "<div>\n",
       "<style scoped>\n",
       "    .dataframe tbody tr th:only-of-type {\n",
       "        vertical-align: middle;\n",
       "    }\n",
       "\n",
       "    .dataframe tbody tr th {\n",
       "        vertical-align: top;\n",
       "    }\n",
       "\n",
       "    .dataframe thead th {\n",
       "        text-align: right;\n",
       "    }\n",
       "</style>\n",
       "<table border=\"1\" class=\"dataframe\">\n",
       "  <thead>\n",
       "    <tr style=\"text-align: right;\">\n",
       "      <th>Année</th>\n",
       "      <th>Code zone</th>\n",
       "      <th>Zone</th>\n",
       "      <th>Code Produit</th>\n",
       "      <th>Produit</th>\n",
       "      <th>2012-2014</th>\n",
       "      <th>2013-2015</th>\n",
       "      <th>2014-2016</th>\n",
       "      <th>2015-2017</th>\n",
       "      <th>2016-2018</th>\n",
       "    </tr>\n",
       "  </thead>\n",
       "  <tbody>\n",
       "    <tr>\n",
       "      <th>0</th>\n",
       "      <td>1</td>\n",
       "      <td>Arménie</td>\n",
       "      <td>210011</td>\n",
       "      <td>Nombre de personnes sous-alimentées (millions)...</td>\n",
       "      <td>0.1</td>\n",
       "      <td>0.1</td>\n",
       "      <td>0.1</td>\n",
       "      <td>0.1</td>\n",
       "      <td>0.1</td>\n",
       "    </tr>\n",
       "    <tr>\n",
       "      <th>1</th>\n",
       "      <td>2</td>\n",
       "      <td>Afghanistan</td>\n",
       "      <td>210011</td>\n",
       "      <td>Nombre de personnes sous-alimentées (millions)...</td>\n",
       "      <td>7.9</td>\n",
       "      <td>8.8</td>\n",
       "      <td>9.6</td>\n",
       "      <td>10.2</td>\n",
       "      <td>10.6</td>\n",
       "    </tr>\n",
       "    <tr>\n",
       "      <th>2</th>\n",
       "      <td>3</td>\n",
       "      <td>Albanie</td>\n",
       "      <td>210011</td>\n",
       "      <td>Nombre de personnes sous-alimentées (millions)...</td>\n",
       "      <td>0.2</td>\n",
       "      <td>0.2</td>\n",
       "      <td>0.2</td>\n",
       "      <td>0.2</td>\n",
       "      <td>0.2</td>\n",
       "    </tr>\n",
       "    <tr>\n",
       "      <th>3</th>\n",
       "      <td>4</td>\n",
       "      <td>Algérie</td>\n",
       "      <td>210011</td>\n",
       "      <td>Nombre de personnes sous-alimentées (millions)...</td>\n",
       "      <td>1.7</td>\n",
       "      <td>1.6</td>\n",
       "      <td>1.6</td>\n",
       "      <td>1.6</td>\n",
       "      <td>1.6</td>\n",
       "    </tr>\n",
       "    <tr>\n",
       "      <th>4</th>\n",
       "      <td>5</td>\n",
       "      <td>Samoa américaines</td>\n",
       "      <td>210011</td>\n",
       "      <td>Nombre de personnes sous-alimentées (millions)...</td>\n",
       "      <td>0.0</td>\n",
       "      <td>0</td>\n",
       "      <td>0</td>\n",
       "      <td>0</td>\n",
       "      <td>0</td>\n",
       "    </tr>\n",
       "    <tr>\n",
       "      <th>...</th>\n",
       "      <td>...</td>\n",
       "      <td>...</td>\n",
       "      <td>...</td>\n",
       "      <td>...</td>\n",
       "      <td>...</td>\n",
       "      <td>...</td>\n",
       "      <td>...</td>\n",
       "      <td>...</td>\n",
       "      <td>...</td>\n",
       "    </tr>\n",
       "    <tr>\n",
       "      <th>198</th>\n",
       "      <td>272</td>\n",
       "      <td>Serbie</td>\n",
       "      <td>210011</td>\n",
       "      <td>Nombre de personnes sous-alimentées (millions)...</td>\n",
       "      <td>0.5</td>\n",
       "      <td>0.5</td>\n",
       "      <td>0.5</td>\n",
       "      <td>0.5</td>\n",
       "      <td>0.5</td>\n",
       "    </tr>\n",
       "    <tr>\n",
       "      <th>199</th>\n",
       "      <td>273</td>\n",
       "      <td>Monténégro</td>\n",
       "      <td>210011</td>\n",
       "      <td>Nombre de personnes sous-alimentées (millions)...</td>\n",
       "      <td>0.0</td>\n",
       "      <td>0</td>\n",
       "      <td>0</td>\n",
       "      <td>0</td>\n",
       "      <td>0</td>\n",
       "    </tr>\n",
       "    <tr>\n",
       "      <th>200</th>\n",
       "      <td>276</td>\n",
       "      <td>Soudan</td>\n",
       "      <td>210011</td>\n",
       "      <td>Nombre de personnes sous-alimentées (millions)...</td>\n",
       "      <td>8.3</td>\n",
       "      <td>7.9</td>\n",
       "      <td>7.8</td>\n",
       "      <td>7.9</td>\n",
       "      <td>8.2</td>\n",
       "    </tr>\n",
       "    <tr>\n",
       "      <th>201</th>\n",
       "      <td>277</td>\n",
       "      <td>Soudan du Sud</td>\n",
       "      <td>210011</td>\n",
       "      <td>Nombre de personnes sous-alimentées (millions)...</td>\n",
       "      <td>0.0</td>\n",
       "      <td>0</td>\n",
       "      <td>0</td>\n",
       "      <td>0</td>\n",
       "      <td>0</td>\n",
       "    </tr>\n",
       "    <tr>\n",
       "      <th>202</th>\n",
       "      <td>299</td>\n",
       "      <td>Palestine</td>\n",
       "      <td>210011</td>\n",
       "      <td>Nombre de personnes sous-alimentées (millions)...</td>\n",
       "      <td>0.0</td>\n",
       "      <td>0</td>\n",
       "      <td>0</td>\n",
       "      <td>0</td>\n",
       "      <td>0</td>\n",
       "    </tr>\n",
       "  </tbody>\n",
       "</table>\n",
       "<p>203 rows × 9 columns</p>\n",
       "</div>"
      ],
      "text/plain": [
       "Année  Code zone               Zone  Code Produit  \\\n",
       "0              1            Arménie        210011   \n",
       "1              2        Afghanistan        210011   \n",
       "2              3            Albanie        210011   \n",
       "3              4            Algérie        210011   \n",
       "4              5  Samoa américaines        210011   \n",
       "..           ...                ...           ...   \n",
       "198          272             Serbie        210011   \n",
       "199          273         Monténégro        210011   \n",
       "200          276             Soudan        210011   \n",
       "201          277      Soudan du Sud        210011   \n",
       "202          299          Palestine        210011   \n",
       "\n",
       "Année                                            Produit  2012-2014 2013-2015  \\\n",
       "0      Nombre de personnes sous-alimentées (millions)...        0.1       0.1   \n",
       "1      Nombre de personnes sous-alimentées (millions)...        7.9       8.8   \n",
       "2      Nombre de personnes sous-alimentées (millions)...        0.2       0.2   \n",
       "3      Nombre de personnes sous-alimentées (millions)...        1.7       1.6   \n",
       "4      Nombre de personnes sous-alimentées (millions)...        0.0         0   \n",
       "..                                                   ...        ...       ...   \n",
       "198    Nombre de personnes sous-alimentées (millions)...        0.5       0.5   \n",
       "199    Nombre de personnes sous-alimentées (millions)...        0.0         0   \n",
       "200    Nombre de personnes sous-alimentées (millions)...        8.3       7.9   \n",
       "201    Nombre de personnes sous-alimentées (millions)...        0.0         0   \n",
       "202    Nombre de personnes sous-alimentées (millions)...        0.0         0   \n",
       "\n",
       "Année 2014-2016 2015-2017 2016-2018  \n",
       "0           0.1       0.1       0.1  \n",
       "1           9.6      10.2      10.6  \n",
       "2           0.2       0.2       0.2  \n",
       "3           1.6       1.6       1.6  \n",
       "4             0         0         0  \n",
       "..          ...       ...       ...  \n",
       "198         0.5       0.5       0.5  \n",
       "199           0         0         0  \n",
       "200         7.8       7.9       8.2  \n",
       "201           0         0         0  \n",
       "202           0         0         0  \n",
       "\n",
       "[203 rows x 9 columns]"
      ]
     },
     "execution_count": 72,
     "metadata": {},
     "output_type": "execute_result"
    }
   ],
   "source": [
    "df_sousalimentation_an[df_sousalimentation_an['2012-2014'] == '<0.1'] = 0\n",
    "\n",
    "# Puis on passe la colonne en type numeric\n",
    "df_sousalimentation_an['2012-2014'] = df_sousalimentation_an['2012-2014'].apply(pd.to_numeric)\n",
    "df_sousalimentation_an\n"
   ]
  },
  {
   "cell_type": "code",
   "execution_count": null,
   "id": "fafafe39",
   "metadata": {},
   "outputs": [],
   "source": [
    "# Population 2013\n",
    "df_population_2013 = df_population [['Code zone', 'Zone', 'Année','Valeur']]\n",
    "df_population_2013['Valeur'] = df_population_2013['Valeur'] * 1000\n",
    "df_population_2013 = df_population_2013.rename (columns ={'Zone':'Pays',  'Code zone':'code pays','Année': 'année', 'Valeur' :'population'})\n",
    "\n",
    "df_population_2013.to_csv(\"exports/population.csv\", index = False)\n",
    "df_population_2013\n"
   ]
  },
  {
   "cell_type": "markdown",
   "id": "26fa6a55",
   "metadata": {},
   "source": [
    "# Question 16 : Proposez une clé primaire pertinente pour  table dispo_alim.\n",
    "Une table appelée dispo_alim contenant pour chaque pays et pour chaque produit en 2013, les informations suivantes:\n",
    "la nature du produit (deux valeurs possibles : “animal” ou “végétal”)\n",
    "disponibilité alimentaire en tonnes\n",
    "disponibilité alimentaire en Kcal/personne/jour\n",
    "disponibilité alimentaire de protéines en g/personne/jour\n",
    "disponibilité alimentaire de matières grasses en g/personne/jour\n",
    "Elle devra contenir ces colonnes : pays, code_pays, année, produit, code_produit, origin, dispo_alim_tonnes, dispo_alim_kcal_p_j, dispo_prot, dispo_mat_gr .\n",
    "Question 16 : Proposez une clé primaire pertinente pour  table dispo_alim."
   ]
  },
  {
   "cell_type": "code",
   "execution_count": 71,
   "id": "48f7d1a1",
   "metadata": {},
   "outputs": [
    {
     "name": "stderr",
     "output_type": "stream",
     "text": [
      "<ipython-input-71-174c0dce2fa5>:4: SettingWithCopyWarning: \n",
      "A value is trying to be set on a copy of a slice from a DataFrame.\n",
      "Try using .loc[row_indexer,col_indexer] = value instead\n",
      "\n",
      "See the caveats in the documentation: https://pandas.pydata.org/pandas-docs/stable/user_guide/indexing.html#returning-a-view-versus-a-copy\n",
      "  df_dispo_alim['disponibilité alimentaire en tonnes'] = df_dispo_alim['Disponibilité alimentaire en quantité (kg/personne/an)']* df_dispo_alim['Population']*365 /1000\n"
     ]
    }
   ],
   "source": [
    "df_dispo_alim = df_vegetaux_animaux[['Code zone','Zone','Année','Code Produit', 'Produit', 'Radical',  'Population' , 'Disponibilité alimentaire en quantité (kg/personne/an)',  'Disponibilité alimentaire (Kcal/personne/jour)','Disponibilité de protéines en quantité (g/personne/jour)', 'Disponibilité de matière grasse en quantité (g/personne/jour)']]\n",
    "\n",
    "#calculer disponibilité alimentaire en tonnes\n",
    "df_dispo_alim['disponibilité alimentaire en tonnes'] = df_dispo_alim['Disponibilité alimentaire en quantité (kg/personne/an)']* df_dispo_alim['Population']*365 /1000\n",
    "df_dispo_alim = df_dispo_alim.rename(columns = {'Code zone': 'code_pays','Zone': 'pays','Année':  'année','Code Produit': 'code_produit', 'Produit':'produit' , 'Radical': 'origin','disponibilité alimentaire en tonnes':'dispo_alim_tonnes',  'Disponibilité alimentaire (Kcal/personne/jour)': 'dispo_alim_kcal_p_j','Disponibilité de protéines en quantité (g/personne/jour)': 'dispo_prot', 'Disponibilité de matière grasse en quantité (g/personne/jour)': 'dispo_mat_gr'  })\n",
    "df_dispo_alim.drop('Population', axis='columns', inplace=True)\n",
    "df_dispo_alim.drop('Disponibilité alimentaire en quantité (kg/personne/an)', axis='columns', inplace=True)\n",
    "df_dispo_alim.to_csv('exports/dispo_alim.csv', index=False)\n",
    "\n"
   ]
  },
  {
   "cell_type": "markdown",
   "id": "91c60fc5",
   "metadata": {},
   "source": [
    "# Réponse à la question 16\n",
    "Le \"code pays\" ne peut pas être considéré comme la clé primaire, car il y a autant d'entrées pour un même pays que le nombre de produits.\n",
    "De plus, le \"code produit\" ne peut pas être considéré comme une clé primaire car il y aura autant d'entrées pour un même produit que le nombre de pays.\n",
    "Nous allons donc considérer la clé primaire qui se compose de deux colonnes,\"code pays\" et \"code produit\""
   ]
  },
  {
   "cell_type": "markdown",
   "id": "b519fdc4",
   "metadata": {},
   "source": [
    "# Question 17 : Proposez une clé primaire pertinente pour  table  \"equilibre_prod\".\n",
    "Une table appelée equilibre_prod contenant pour chaque pays et pour chaque produit en 2013, les quantités suivantes :\n",
    "disponibilité intérieure\n",
    "aliments pour animaux\n",
    "semences\n",
    "pertes\n",
    "transformés\n",
    "nourriture\n",
    "autres utilisations\n",
    "Elle devra contenir ces colonnes : pays, code_pays, année, produit, code_produit, dispo_int, alim_ani, semences, pertes, transfo, nourriture, autres_utilisations.\n",
    "\n"
   ]
  },
  {
   "cell_type": "code",
   "execution_count": 36,
   "id": "6a88a06d",
   "metadata": {},
   "outputs": [
    {
     "ename": "KeyError",
     "evalue": "\"['Autres utilisations (non alimentaire)', 'Traitement', 'Semences', 'Disponibilité intérieure', 'Aliments pour animaux', 'Nourriture', 'Pertes'] not in index\"",
     "output_type": "error",
     "traceback": [
      "\u001b[0;31m---------------------------------------------------------------------------\u001b[0m",
      "\u001b[0;31mKeyError\u001b[0m                                  Traceback (most recent call last)",
      "\u001b[0;32m<ipython-input-36-4319276764c9>\u001b[0m in \u001b[0;36m<module>\u001b[0;34m\u001b[0m\n\u001b[1;32m      1\u001b[0m \u001b[0;31m# Export du dataframe equilibre_prod\u001b[0m\u001b[0;34m\u001b[0m\u001b[0;34m\u001b[0m\u001b[0;34m\u001b[0m\u001b[0m\n\u001b[0;32m----> 2\u001b[0;31m \u001b[0mdf_equilibre_prod\u001b[0m \u001b[0;34m=\u001b[0m \u001b[0mdf_vegetaux_animaux\u001b[0m\u001b[0;34m[\u001b[0m\u001b[0;34m[\u001b[0m\u001b[0;34m'Zone'\u001b[0m\u001b[0;34m,\u001b[0m\u001b[0;34m'Code zone'\u001b[0m\u001b[0;34m,\u001b[0m \u001b[0;34m'Année'\u001b[0m\u001b[0;34m,\u001b[0m\u001b[0;34m'Produit'\u001b[0m\u001b[0;34m,\u001b[0m \u001b[0;34m'Code Produit'\u001b[0m\u001b[0;34m,\u001b[0m\u001b[0;34m'Disponibilité intérieure'\u001b[0m\u001b[0;34m,\u001b[0m \u001b[0;34m'Aliments pour animaux'\u001b[0m\u001b[0;34m,\u001b[0m \u001b[0;34m'Semences'\u001b[0m\u001b[0;34m,\u001b[0m \u001b[0;34m'Pertes'\u001b[0m\u001b[0;34m,\u001b[0m\u001b[0;34m'Traitement'\u001b[0m\u001b[0;34m,\u001b[0m\u001b[0;34m'Nourriture'\u001b[0m\u001b[0;34m,\u001b[0m\u001b[0;34m'Autres utilisations (non alimentaire)'\u001b[0m\u001b[0;34m]\u001b[0m\u001b[0;34m]\u001b[0m\u001b[0;34m\u001b[0m\u001b[0;34m\u001b[0m\u001b[0m\n\u001b[0m\u001b[1;32m      3\u001b[0m \u001b[0mdf_equilibre_prod\u001b[0m \u001b[0;34m=\u001b[0m \u001b[0mdf_equilibre_prod\u001b[0m\u001b[0;34m.\u001b[0m\u001b[0mrename\u001b[0m\u001b[0;34m(\u001b[0m\u001b[0mcolumns\u001b[0m \u001b[0;34m=\u001b[0m  \u001b[0;34m{\u001b[0m\u001b[0;34m'Code zone'\u001b[0m\u001b[0;34m:\u001b[0m\u001b[0;34m'code_pays'\u001b[0m\u001b[0;34m,\u001b[0m \u001b[0;34m'Zone'\u001b[0m\u001b[0;34m:\u001b[0m\u001b[0;34m'pays'\u001b[0m\u001b[0;34m,\u001b[0m \u001b[0;34m'Code Produit'\u001b[0m \u001b[0;34m:\u001b[0m\u001b[0;34m'code_produit'\u001b[0m\u001b[0;34m,\u001b[0m \u001b[0;34m'Produit'\u001b[0m\u001b[0;34m:\u001b[0m\u001b[0;34m'produit'\u001b[0m\u001b[0;34m,\u001b[0m \u001b[0;34m'Année'\u001b[0m\u001b[0;34m:\u001b[0m\u001b[0;34m'année'\u001b[0m\u001b[0;34m,\u001b[0m\u001b[0;34m'Disponibilité intérieure'\u001b[0m\u001b[0;34m:\u001b[0m \u001b[0;34m'dispo_int'\u001b[0m\u001b[0;34m,\u001b[0m \u001b[0;34m'Aliments pour animaux'\u001b[0m\u001b[0;34m:\u001b[0m\u001b[0;34m'alim_ani'\u001b[0m\u001b[0;34m,\u001b[0m \u001b[0;34m'Semences'\u001b[0m\u001b[0;34m:\u001b[0m \u001b[0;34m'semences'\u001b[0m\u001b[0;34m,\u001b[0m \u001b[0;34m'Pertes'\u001b[0m\u001b[0;34m:\u001b[0m \u001b[0;34m'pertes'\u001b[0m\u001b[0;34m,\u001b[0m\u001b[0;34m'Traitement'\u001b[0m\u001b[0;34m:\u001b[0m \u001b[0;34m'transfo'\u001b[0m\u001b[0;34m,\u001b[0m\u001b[0;34m'Nourriture'\u001b[0m\u001b[0;34m:\u001b[0m\u001b[0;34m'nourriture'\u001b[0m\u001b[0;34m,\u001b[0m\u001b[0;34m'Autres utilisations (non alimentaire)'\u001b[0m\u001b[0;34m:\u001b[0m\u001b[0;34m'autres_utilisations'\u001b[0m\u001b[0;34m}\u001b[0m\u001b[0;34m)\u001b[0m\u001b[0;34m\u001b[0m\u001b[0;34m\u001b[0m\u001b[0m\n\u001b[1;32m      4\u001b[0m \u001b[0;34m\u001b[0m\u001b[0m\n\u001b[1;32m      5\u001b[0m \u001b[0;31m# Conversion des unités \"Millier de tonnes\" en Tonnes\u001b[0m\u001b[0;34m\u001b[0m\u001b[0;34m\u001b[0m\u001b[0;34m\u001b[0m\u001b[0m\n",
      "\u001b[0;32m~/opt/anaconda3/lib/python3.8/site-packages/pandas/core/frame.py\u001b[0m in \u001b[0;36m__getitem__\u001b[0;34m(self, key)\u001b[0m\n\u001b[1;32m   3028\u001b[0m             \u001b[0;32mif\u001b[0m \u001b[0mis_iterator\u001b[0m\u001b[0;34m(\u001b[0m\u001b[0mkey\u001b[0m\u001b[0;34m)\u001b[0m\u001b[0;34m:\u001b[0m\u001b[0;34m\u001b[0m\u001b[0;34m\u001b[0m\u001b[0m\n\u001b[1;32m   3029\u001b[0m                 \u001b[0mkey\u001b[0m \u001b[0;34m=\u001b[0m \u001b[0mlist\u001b[0m\u001b[0;34m(\u001b[0m\u001b[0mkey\u001b[0m\u001b[0;34m)\u001b[0m\u001b[0;34m\u001b[0m\u001b[0;34m\u001b[0m\u001b[0m\n\u001b[0;32m-> 3030\u001b[0;31m             \u001b[0mindexer\u001b[0m \u001b[0;34m=\u001b[0m \u001b[0mself\u001b[0m\u001b[0;34m.\u001b[0m\u001b[0mloc\u001b[0m\u001b[0;34m.\u001b[0m\u001b[0m_get_listlike_indexer\u001b[0m\u001b[0;34m(\u001b[0m\u001b[0mkey\u001b[0m\u001b[0;34m,\u001b[0m \u001b[0maxis\u001b[0m\u001b[0;34m=\u001b[0m\u001b[0;36m1\u001b[0m\u001b[0;34m,\u001b[0m \u001b[0mraise_missing\u001b[0m\u001b[0;34m=\u001b[0m\u001b[0;32mTrue\u001b[0m\u001b[0;34m)\u001b[0m\u001b[0;34m[\u001b[0m\u001b[0;36m1\u001b[0m\u001b[0;34m]\u001b[0m\u001b[0;34m\u001b[0m\u001b[0;34m\u001b[0m\u001b[0m\n\u001b[0m\u001b[1;32m   3031\u001b[0m \u001b[0;34m\u001b[0m\u001b[0m\n\u001b[1;32m   3032\u001b[0m         \u001b[0;31m# take() does not accept boolean indexers\u001b[0m\u001b[0;34m\u001b[0m\u001b[0;34m\u001b[0m\u001b[0;34m\u001b[0m\u001b[0m\n",
      "\u001b[0;32m~/opt/anaconda3/lib/python3.8/site-packages/pandas/core/indexing.py\u001b[0m in \u001b[0;36m_get_listlike_indexer\u001b[0;34m(self, key, axis, raise_missing)\u001b[0m\n\u001b[1;32m   1264\u001b[0m             \u001b[0mkeyarr\u001b[0m\u001b[0;34m,\u001b[0m \u001b[0mindexer\u001b[0m\u001b[0;34m,\u001b[0m \u001b[0mnew_indexer\u001b[0m \u001b[0;34m=\u001b[0m \u001b[0max\u001b[0m\u001b[0;34m.\u001b[0m\u001b[0m_reindex_non_unique\u001b[0m\u001b[0;34m(\u001b[0m\u001b[0mkeyarr\u001b[0m\u001b[0;34m)\u001b[0m\u001b[0;34m\u001b[0m\u001b[0;34m\u001b[0m\u001b[0m\n\u001b[1;32m   1265\u001b[0m \u001b[0;34m\u001b[0m\u001b[0m\n\u001b[0;32m-> 1266\u001b[0;31m         \u001b[0mself\u001b[0m\u001b[0;34m.\u001b[0m\u001b[0m_validate_read_indexer\u001b[0m\u001b[0;34m(\u001b[0m\u001b[0mkeyarr\u001b[0m\u001b[0;34m,\u001b[0m \u001b[0mindexer\u001b[0m\u001b[0;34m,\u001b[0m \u001b[0maxis\u001b[0m\u001b[0;34m,\u001b[0m \u001b[0mraise_missing\u001b[0m\u001b[0;34m=\u001b[0m\u001b[0mraise_missing\u001b[0m\u001b[0;34m)\u001b[0m\u001b[0;34m\u001b[0m\u001b[0;34m\u001b[0m\u001b[0m\n\u001b[0m\u001b[1;32m   1267\u001b[0m         \u001b[0;32mreturn\u001b[0m \u001b[0mkeyarr\u001b[0m\u001b[0;34m,\u001b[0m \u001b[0mindexer\u001b[0m\u001b[0;34m\u001b[0m\u001b[0;34m\u001b[0m\u001b[0m\n\u001b[1;32m   1268\u001b[0m \u001b[0;34m\u001b[0m\u001b[0m\n",
      "\u001b[0;32m~/opt/anaconda3/lib/python3.8/site-packages/pandas/core/indexing.py\u001b[0m in \u001b[0;36m_validate_read_indexer\u001b[0;34m(self, key, indexer, axis, raise_missing)\u001b[0m\n\u001b[1;32m   1314\u001b[0m             \u001b[0;32mif\u001b[0m \u001b[0mraise_missing\u001b[0m\u001b[0;34m:\u001b[0m\u001b[0;34m\u001b[0m\u001b[0;34m\u001b[0m\u001b[0m\n\u001b[1;32m   1315\u001b[0m                 \u001b[0mnot_found\u001b[0m \u001b[0;34m=\u001b[0m \u001b[0mlist\u001b[0m\u001b[0;34m(\u001b[0m\u001b[0mset\u001b[0m\u001b[0;34m(\u001b[0m\u001b[0mkey\u001b[0m\u001b[0;34m)\u001b[0m \u001b[0;34m-\u001b[0m \u001b[0mset\u001b[0m\u001b[0;34m(\u001b[0m\u001b[0max\u001b[0m\u001b[0;34m)\u001b[0m\u001b[0;34m)\u001b[0m\u001b[0;34m\u001b[0m\u001b[0;34m\u001b[0m\u001b[0m\n\u001b[0;32m-> 1316\u001b[0;31m                 \u001b[0;32mraise\u001b[0m \u001b[0mKeyError\u001b[0m\u001b[0;34m(\u001b[0m\u001b[0;34mf\"{not_found} not in index\"\u001b[0m\u001b[0;34m)\u001b[0m\u001b[0;34m\u001b[0m\u001b[0;34m\u001b[0m\u001b[0m\n\u001b[0m\u001b[1;32m   1317\u001b[0m \u001b[0;34m\u001b[0m\u001b[0m\n\u001b[1;32m   1318\u001b[0m             \u001b[0mnot_found\u001b[0m \u001b[0;34m=\u001b[0m \u001b[0mkey\u001b[0m\u001b[0;34m[\u001b[0m\u001b[0mmissing_mask\u001b[0m\u001b[0;34m]\u001b[0m\u001b[0;34m\u001b[0m\u001b[0;34m\u001b[0m\u001b[0m\n",
      "\u001b[0;31mKeyError\u001b[0m: \"['Autres utilisations (non alimentaire)', 'Traitement', 'Semences', 'Disponibilité intérieure', 'Aliments pour animaux', 'Nourriture', 'Pertes'] not in index\""
     ]
    }
   ],
   "source": [
    "# Export du dataframe equilibre_prod\n",
    "df_equilibre_prod = df_vegetaux_animaux[['Zone','Code zone', 'Année','Produit', 'Code Produit','Disponibilité intérieure', 'Aliments pour animaux', 'Semences', 'Pertes','Traitement','Nourriture','Autres utilisations (non alimentaire)']]\n",
    "df_equilibre_prod = df_equilibre_prod.rename(columns =  {'Code zone':'code_pays', 'Zone':'pays', 'Code Produit' :'code_produit', 'Produit':'produit', 'Année':'année','Disponibilité intérieure': 'dispo_int', 'Aliments pour animaux':'alim_ani', 'Semences': 'semences', 'Pertes': 'pertes','Traitement': 'transfo','Nourriture':'nourriture','Autres utilisations (non alimentaire)':'autres_utilisations'})\n",
    "\n",
    "# Conversion des unités \"Millier de tonnes\" en Tonnes\n",
    "df_equilibre_prod.loc[:, ['dispo_int', 'alim_ani', 'semences', 'pertes', 'transfo', 'nourriture','autres_utilisations']]*=1000\n",
    "df_equilibre_prod.to_csv('exports/equilibre_prod.csv', index= False)\n",
    "df_equilibre_prod\n"
   ]
  },
  {
   "cell_type": "markdown",
   "id": "f2180e97",
   "metadata": {},
   "source": [
    "# Réponse à la question 17 : Choix de la clé primaire\n",
    "Le \"code pays\" ne peut pas être considéré comme la clé primaire, car il y a autant d'entrées pour un même pays que le nombre de produits. De plus, le \"code produit\" ne peut pas être considéré comme une clé primaire car il y aura autant d'entrées pour un même produit que le nombre de pays. Nous allons donc considérer la clé primaire qui se compose de deux colonnes,\" code pays\" et \"code produit\""
   ]
  },
  {
   "cell_type": "markdown",
   "id": "77be918c",
   "metadata": {},
   "source": [
    "# Question 18 : proposez encore une fois une clé primaire pertinente pour  table  sous_nutrition.\n",
    "Une table appelée sous_nutrition, contenant le nombre de personnes en sous-alimentation pour chaque pays en 2013. Elle devra contenir 4 colonnes : pays, code_pays, année, nb_personnes.\n"
   ]
  },
  {
   "cell_type": "code",
   "execution_count": 21,
   "id": "c81068b3",
   "metadata": {},
   "outputs": [
    {
     "name": "stderr",
     "output_type": "stream",
     "text": [
      "<ipython-input-21-53cafd2a7eb9>:3: SettingWithCopyWarning: \n",
      "A value is trying to be set on a copy of a slice from a DataFrame.\n",
      "Try using .loc[row_indexer,col_indexer] = value instead\n",
      "\n",
      "See the caveats in the documentation: https://pandas.pydata.org/pandas-docs/stable/user_guide/indexing.html#returning-a-view-versus-a-copy\n",
      "  df_sous_nutrition [' année'] = 2013\n",
      "<ipython-input-21-53cafd2a7eb9>:4: SettingWithCopyWarning: \n",
      "A value is trying to be set on a copy of a slice from a DataFrame.\n",
      "Try using .loc[row_indexer,col_indexer] = value instead\n",
      "\n",
      "See the caveats in the documentation: https://pandas.pydata.org/pandas-docs/stable/user_guide/indexing.html#returning-a-view-versus-a-copy\n",
      "  df_sous_nutrition['2012-2014'] = df_sous_nutrition['2012-2014'] * 1000000\n"
     ]
    }
   ],
   "source": [
    "#Une table appelée sous_nutrition, contenant le nombre de personnes en sous-alimentation pour chaque pays en 2013. Elle devra contenir 4 colonnes : pays, code_pays, année, nb_personnes.\n",
    "df_sous_nutrition = df_sousalimentation_an[['Zone','Code zone','2012-2014']]\n",
    "df_sous_nutrition [' année'] = 2013\n",
    "df_sous_nutrition['2012-2014'] = df_sous_nutrition['2012-2014'] * 1000000\n",
    "\n",
    "df_sous_nutrition= df_sous_nutrition.rename(columns={'Code zone':' code pays', 'Zone': 'pays','2012-2014':'nb_personnes'})\n",
    "df_sous_nutrition.to_csv('exports/sous_nutrition.csv' , index = False)"
   ]
  },
  {
   "cell_type": "code",
   "execution_count": 22,
   "id": "cfb3c25a",
   "metadata": {},
   "outputs": [
    {
     "data": {
      "text/html": [
       "<div>\n",
       "<style scoped>\n",
       "    .dataframe tbody tr th:only-of-type {\n",
       "        vertical-align: middle;\n",
       "    }\n",
       "\n",
       "    .dataframe tbody tr th {\n",
       "        vertical-align: top;\n",
       "    }\n",
       "\n",
       "    .dataframe thead th {\n",
       "        text-align: right;\n",
       "    }\n",
       "</style>\n",
       "<table border=\"1\" class=\"dataframe\">\n",
       "  <thead>\n",
       "    <tr style=\"text-align: right;\">\n",
       "      <th>Année</th>\n",
       "      <th>pays</th>\n",
       "      <th>code pays</th>\n",
       "      <th>nb_personnes</th>\n",
       "      <th>année</th>\n",
       "    </tr>\n",
       "  </thead>\n",
       "  <tbody>\n",
       "    <tr>\n",
       "      <th>0</th>\n",
       "      <td>Arménie</td>\n",
       "      <td>1</td>\n",
       "      <td>100000.0</td>\n",
       "      <td>2013</td>\n",
       "    </tr>\n",
       "    <tr>\n",
       "      <th>1</th>\n",
       "      <td>Afghanistan</td>\n",
       "      <td>2</td>\n",
       "      <td>7900000.0</td>\n",
       "      <td>2013</td>\n",
       "    </tr>\n",
       "    <tr>\n",
       "      <th>2</th>\n",
       "      <td>Albanie</td>\n",
       "      <td>3</td>\n",
       "      <td>200000.0</td>\n",
       "      <td>2013</td>\n",
       "    </tr>\n",
       "    <tr>\n",
       "      <th>3</th>\n",
       "      <td>Algérie</td>\n",
       "      <td>4</td>\n",
       "      <td>1700000.0</td>\n",
       "      <td>2013</td>\n",
       "    </tr>\n",
       "    <tr>\n",
       "      <th>4</th>\n",
       "      <td>Samoa américaines</td>\n",
       "      <td>5</td>\n",
       "      <td>0.0</td>\n",
       "      <td>2013</td>\n",
       "    </tr>\n",
       "    <tr>\n",
       "      <th>...</th>\n",
       "      <td>...</td>\n",
       "      <td>...</td>\n",
       "      <td>...</td>\n",
       "      <td>...</td>\n",
       "    </tr>\n",
       "    <tr>\n",
       "      <th>198</th>\n",
       "      <td>Serbie</td>\n",
       "      <td>272</td>\n",
       "      <td>500000.0</td>\n",
       "      <td>2013</td>\n",
       "    </tr>\n",
       "    <tr>\n",
       "      <th>199</th>\n",
       "      <td>Monténégro</td>\n",
       "      <td>273</td>\n",
       "      <td>0.0</td>\n",
       "      <td>2013</td>\n",
       "    </tr>\n",
       "    <tr>\n",
       "      <th>200</th>\n",
       "      <td>Soudan</td>\n",
       "      <td>276</td>\n",
       "      <td>8300000.0</td>\n",
       "      <td>2013</td>\n",
       "    </tr>\n",
       "    <tr>\n",
       "      <th>201</th>\n",
       "      <td>Soudan du Sud</td>\n",
       "      <td>277</td>\n",
       "      <td>0.0</td>\n",
       "      <td>2013</td>\n",
       "    </tr>\n",
       "    <tr>\n",
       "      <th>202</th>\n",
       "      <td>Palestine</td>\n",
       "      <td>299</td>\n",
       "      <td>0.0</td>\n",
       "      <td>2013</td>\n",
       "    </tr>\n",
       "  </tbody>\n",
       "</table>\n",
       "<p>203 rows × 4 columns</p>\n",
       "</div>"
      ],
      "text/plain": [
       "Année               pays   code pays  nb_personnes   année\n",
       "0                Arménie           1      100000.0    2013\n",
       "1            Afghanistan           2     7900000.0    2013\n",
       "2                Albanie           3      200000.0    2013\n",
       "3                Algérie           4     1700000.0    2013\n",
       "4      Samoa américaines           5           0.0    2013\n",
       "..                   ...         ...           ...     ...\n",
       "198               Serbie         272      500000.0    2013\n",
       "199           Monténégro         273           0.0    2013\n",
       "200               Soudan         276     8300000.0    2013\n",
       "201        Soudan du Sud         277           0.0    2013\n",
       "202            Palestine         299           0.0    2013\n",
       "\n",
       "[203 rows x 4 columns]"
      ]
     },
     "execution_count": 22,
     "metadata": {},
     "output_type": "execute_result"
    }
   ],
   "source": [
    "df_sous_nutrition"
   ]
  },
  {
   "cell_type": "markdown",
   "id": "fdc11bc9",
   "metadata": {},
   "source": [
    "# Réponse à la question 18 : \n",
    "J'ai choisi la propriété \"code pays\" comme clé primaire car elle est unique et courte et ne peut pas être nulle"
   ]
  },
  {
   "cell_type": "code",
   "execution_count": null,
   "id": "64d41139",
   "metadata": {},
   "outputs": [],
   "source": []
  },
  {
   "cell_type": "code",
   "execution_count": null,
   "id": "f1c8268c",
   "metadata": {},
   "outputs": [],
   "source": []
  },
  {
   "cell_type": "code",
   "execution_count": null,
   "id": "67f5adfc",
   "metadata": {},
   "outputs": [],
   "source": []
  },
  {
   "cell_type": "code",
   "execution_count": null,
   "id": "b07a704b",
   "metadata": {},
   "outputs": [],
   "source": []
  },
  {
   "cell_type": "code",
   "execution_count": null,
   "id": "04440e1f",
   "metadata": {},
   "outputs": [],
   "source": []
  },
  {
   "cell_type": "code",
   "execution_count": null,
   "id": "a6f42d72",
   "metadata": {},
   "outputs": [],
   "source": []
  },
  {
   "cell_type": "code",
   "execution_count": null,
   "id": "30d63d94",
   "metadata": {},
   "outputs": [],
   "source": []
  },
  {
   "cell_type": "code",
   "execution_count": null,
   "id": "6c39b9b2",
   "metadata": {},
   "outputs": [],
   "source": []
  },
  {
   "cell_type": "code",
   "execution_count": null,
   "id": "f20e8de0",
   "metadata": {},
   "outputs": [],
   "source": []
  },
  {
   "cell_type": "code",
   "execution_count": null,
   "id": "e6a0fd19",
   "metadata": {},
   "outputs": [],
   "source": []
  }
 ],
 "metadata": {
  "kernelspec": {
   "display_name": "Python 3",
   "language": "python",
   "name": "python3"
  },
  "language_info": {
   "codemirror_mode": {
    "name": "ipython",
    "version": 3
   },
   "file_extension": ".py",
   "mimetype": "text/x-python",
   "name": "python",
   "nbconvert_exporter": "python",
   "pygments_lexer": "ipython3",
   "version": "3.8.8"
  }
 },
 "nbformat": 4,
 "nbformat_minor": 5
}

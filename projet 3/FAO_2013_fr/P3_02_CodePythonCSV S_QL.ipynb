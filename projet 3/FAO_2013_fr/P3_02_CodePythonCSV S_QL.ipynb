{
 "cells": [
  {
   "cell_type": "markdown",
   "id": "6fcffb57",
   "metadata": {},
   "source": [
    "# Exportation des DataFrames pour intégration MySql# P3_Réalisez une étude de santé publique"
   ]
  },
  {
   "cell_type": "code",
   "execution_count": 339,
   "id": "ba98c6ef",
   "metadata": {},
   "outputs": [],
   "source": [
    "#impotter des librairies\n",
    "import pandas as pd\n",
    "import numpy as np\n",
    "#impotter de librairie sqlite3 et Créer une base de données\n"
   ]
  },
  {
   "cell_type": "code",
   "execution_count": 340,
   "id": "cb65cb43",
   "metadata": {},
   "outputs": [],
   "source": [
    "#importer des database\n",
    "df_population = pd.read_csv('fr_population.csv')\n",
    "df_animaux = pd.read_csv('fr_animaux.csv')\n",
    "df_vegetaux = pd.read_csv('fr_vegetaux.csv')\n",
    "df_céréales = pd.read_csv('fr_céréales.csv')\n",
    "df_sousalimentation = pd.read_csv('fr_sousalimentation.csv')"
   ]
  },
  {
   "cell_type": "code",
   "execution_count": 341,
   "id": "0e9251fb",
   "metadata": {},
   "outputs": [],
   "source": [
    "#Supprimer la ligne Chine\n",
    "df_population = df_population[df_population['Code zone'] != 351]\n",
    "df_animaux = df_animaux[df_animaux['Code zone'] != 351]\n",
    "df_vegetaux = df_vegetaux[df_vegetaux['Code zone'] != 351]\n",
    "df_céréales = df_céréales[df_céréales['Code zone'] != 351]\n",
    "df_sousalimentation = df_sousalimentation[df_sousalimentation['Code zone'] != 351 ]"
   ]
  },
  {
   "cell_type": "code",
   "execution_count": 342,
   "id": "7d3f731b",
   "metadata": {},
   "outputs": [],
   "source": [
    "#Ajouter une colonne 'Radical' aux deux tables df_vegetaux et df_animaux\n",
    "df_vegetaux['Radical'] = 'vegetal'\n",
    "df_animaux['Radical'] = 'animal'"
   ]
  },
  {
   "cell_type": "code",
   "execution_count": 343,
   "id": "9970faab",
   "metadata": {},
   "outputs": [],
   "source": [
    "#fusionner les deux tables\n",
    "df_vegetaux_animaux = df_animaux.append (df_vegetaux) \n"
   ]
  },
  {
   "cell_type": "code",
   "execution_count": 344,
   "id": "7d259cb3",
   "metadata": {},
   "outputs": [],
   "source": [
    "# Jointure avec la table population sur le Code zone \n",
    "df_vegetaux_animaux= pd.merge(df_vegetaux_animaux,df_population, on = 'Code zone' )\n"
   ]
  },
  {
   "cell_type": "code",
   "execution_count": 345,
   "id": "d3d120cc",
   "metadata": {},
   "outputs": [],
   "source": [
    "#  recréer un DataFrame avec les colonnes nécessaires\n",
    "df_vegetaux_animaux= df_vegetaux_animaux[['Code Domaine_x', 'Domaine_x', 'Code zone', 'Zone_x', 'Code Élément_x',\n",
    "       'Élément_x', 'Code Produit_x', 'Produit_x', 'Année_x',\n",
    "       'Unité_x', 'Valeur_x','Radical', 'Valeur_y']]"
   ]
  },
  {
   "cell_type": "code",
   "execution_count": 346,
   "id": "bd16ded1",
   "metadata": {},
   "outputs": [],
   "source": [
    "#Changer les noms de colonnes\n",
    "df_vegetaux_animaux = df_vegetaux_animaux.rename(columns= {'Code Domaine_x':'Code Domaine', 'Domaine_x':'Domaine', 'Code zone': 'Code zone', 'Zone_x': 'Zone', 'Code Élément_x': 'Code Élément',\n",
    "       'Élément_x':'Élément', 'Code Produit_x':'Code Produit', 'Produit_x': 'Produit', 'Année_x': 'Année',\n",
    "       'Unité_x':'Unité', 'Valeur_x':'Valeur','Radical':'Radical', 'Valeur_y':'Population'})   "
   ]
  },
  {
   "cell_type": "code",
   "execution_count": 347,
   "id": "0e2ba358",
   "metadata": {},
   "outputs": [],
   "source": [
    "#Population par pays\n",
    "df_vegetaux_animaux['Population'] = df_vegetaux_animaux['Population'] * 1000"
   ]
  },
  {
   "cell_type": "code",
   "execution_count": 348,
   "id": "aafa7342",
   "metadata": {},
   "outputs": [
    {
     "data": {
      "text/html": [
       "<div>\n",
       "<style scoped>\n",
       "    .dataframe tbody tr th:only-of-type {\n",
       "        vertical-align: middle;\n",
       "    }\n",
       "\n",
       "    .dataframe tbody tr th {\n",
       "        vertical-align: top;\n",
       "    }\n",
       "\n",
       "    .dataframe thead th {\n",
       "        text-align: right;\n",
       "    }\n",
       "</style>\n",
       "<table border=\"1\" class=\"dataframe\">\n",
       "  <thead>\n",
       "    <tr style=\"text-align: right;\">\n",
       "      <th>Élément</th>\n",
       "      <th>Code zone</th>\n",
       "      <th>Zone</th>\n",
       "      <th>Code Produit</th>\n",
       "      <th>Produit</th>\n",
       "      <th>Année</th>\n",
       "      <th>Radical</th>\n",
       "      <th>Population</th>\n",
       "      <th>Aliments pour animaux</th>\n",
       "      <th>Autres utilisations (non alimentaire)</th>\n",
       "      <th>Disponibilité alimentaire (Kcal/personne/jour)</th>\n",
       "      <th>...</th>\n",
       "      <th>Disponibilité de protéines en quantité (g/personne/jour)</th>\n",
       "      <th>Disponibilité intérieure</th>\n",
       "      <th>Exportations - Quantité</th>\n",
       "      <th>Importations - Quantité</th>\n",
       "      <th>Nourriture</th>\n",
       "      <th>Pertes</th>\n",
       "      <th>Production</th>\n",
       "      <th>Semences</th>\n",
       "      <th>Traitement</th>\n",
       "      <th>Variation de stock</th>\n",
       "    </tr>\n",
       "  </thead>\n",
       "  <tbody>\n",
       "    <tr>\n",
       "      <th>0</th>\n",
       "      <td>1</td>\n",
       "      <td>Arménie</td>\n",
       "      <td>2511</td>\n",
       "      <td>Blé</td>\n",
       "      <td>2013</td>\n",
       "      <td>vegetal</td>\n",
       "      <td>2977000</td>\n",
       "      <td>93.0</td>\n",
       "      <td>0.0</td>\n",
       "      <td>1024.0</td>\n",
       "      <td>...</td>\n",
       "      <td>30.52</td>\n",
       "      <td>554.0</td>\n",
       "      <td>1.0</td>\n",
       "      <td>361.0</td>\n",
       "      <td>389.0</td>\n",
       "      <td>32.0</td>\n",
       "      <td>312.0</td>\n",
       "      <td>30.0</td>\n",
       "      <td>10.0</td>\n",
       "      <td>-118.0</td>\n",
       "    </tr>\n",
       "    <tr>\n",
       "      <th>1</th>\n",
       "      <td>1</td>\n",
       "      <td>Arménie</td>\n",
       "      <td>2513</td>\n",
       "      <td>Orge</td>\n",
       "      <td>2013</td>\n",
       "      <td>vegetal</td>\n",
       "      <td>2977000</td>\n",
       "      <td>137.0</td>\n",
       "      <td>26.0</td>\n",
       "      <td>0.0</td>\n",
       "      <td>...</td>\n",
       "      <td>0.00</td>\n",
       "      <td>198.0</td>\n",
       "      <td>0.0</td>\n",
       "      <td>9.0</td>\n",
       "      <td>0.0</td>\n",
       "      <td>15.0</td>\n",
       "      <td>189.0</td>\n",
       "      <td>14.0</td>\n",
       "      <td>7.0</td>\n",
       "      <td>0.0</td>\n",
       "    </tr>\n",
       "    <tr>\n",
       "      <th>2</th>\n",
       "      <td>1</td>\n",
       "      <td>Arménie</td>\n",
       "      <td>2514</td>\n",
       "      <td>Maïs</td>\n",
       "      <td>2013</td>\n",
       "      <td>vegetal</td>\n",
       "      <td>2977000</td>\n",
       "      <td>96.0</td>\n",
       "      <td>NaN</td>\n",
       "      <td>0.0</td>\n",
       "      <td>...</td>\n",
       "      <td>0.01</td>\n",
       "      <td>102.0</td>\n",
       "      <td>NaN</td>\n",
       "      <td>82.0</td>\n",
       "      <td>0.0</td>\n",
       "      <td>7.0</td>\n",
       "      <td>21.0</td>\n",
       "      <td>0.0</td>\n",
       "      <td>NaN</td>\n",
       "      <td>NaN</td>\n",
       "    </tr>\n",
       "    <tr>\n",
       "      <th>3</th>\n",
       "      <td>1</td>\n",
       "      <td>Arménie</td>\n",
       "      <td>2515</td>\n",
       "      <td>Seigle</td>\n",
       "      <td>2013</td>\n",
       "      <td>vegetal</td>\n",
       "      <td>2977000</td>\n",
       "      <td>1.0</td>\n",
       "      <td>NaN</td>\n",
       "      <td>1.0</td>\n",
       "      <td>...</td>\n",
       "      <td>0.02</td>\n",
       "      <td>1.0</td>\n",
       "      <td>NaN</td>\n",
       "      <td>0.0</td>\n",
       "      <td>0.0</td>\n",
       "      <td>0.0</td>\n",
       "      <td>1.0</td>\n",
       "      <td>0.0</td>\n",
       "      <td>NaN</td>\n",
       "      <td>0.0</td>\n",
       "    </tr>\n",
       "    <tr>\n",
       "      <th>4</th>\n",
       "      <td>1</td>\n",
       "      <td>Arménie</td>\n",
       "      <td>2516</td>\n",
       "      <td>Avoine</td>\n",
       "      <td>2013</td>\n",
       "      <td>vegetal</td>\n",
       "      <td>2977000</td>\n",
       "      <td>4.0</td>\n",
       "      <td>NaN</td>\n",
       "      <td>2.0</td>\n",
       "      <td>...</td>\n",
       "      <td>0.09</td>\n",
       "      <td>6.0</td>\n",
       "      <td>NaN</td>\n",
       "      <td>1.0</td>\n",
       "      <td>1.0</td>\n",
       "      <td>0.0</td>\n",
       "      <td>5.0</td>\n",
       "      <td>0.0</td>\n",
       "      <td>NaN</td>\n",
       "      <td>NaN</td>\n",
       "    </tr>\n",
       "  </tbody>\n",
       "</table>\n",
       "<p>5 rows × 22 columns</p>\n",
       "</div>"
      ],
      "text/plain": [
       "Élément  Code zone     Zone  Code Produit Produit  Année  Radical  Population  \\\n",
       "0                1  Arménie          2511     Blé   2013  vegetal     2977000   \n",
       "1                1  Arménie          2513    Orge   2013  vegetal     2977000   \n",
       "2                1  Arménie          2514    Maïs   2013  vegetal     2977000   \n",
       "3                1  Arménie          2515  Seigle   2013  vegetal     2977000   \n",
       "4                1  Arménie          2516  Avoine   2013  vegetal     2977000   \n",
       "\n",
       "Élément  Aliments pour animaux  Autres utilisations (non alimentaire)  \\\n",
       "0                         93.0                                    0.0   \n",
       "1                        137.0                                   26.0   \n",
       "2                         96.0                                    NaN   \n",
       "3                          1.0                                    NaN   \n",
       "4                          4.0                                    NaN   \n",
       "\n",
       "Élément  Disponibilité alimentaire (Kcal/personne/jour)  ...  \\\n",
       "0                                                1024.0  ...   \n",
       "1                                                   0.0  ...   \n",
       "2                                                   0.0  ...   \n",
       "3                                                   1.0  ...   \n",
       "4                                                   2.0  ...   \n",
       "\n",
       "Élément  Disponibilité de protéines en quantité (g/personne/jour)  \\\n",
       "0                                                    30.52          \n",
       "1                                                     0.00          \n",
       "2                                                     0.01          \n",
       "3                                                     0.02          \n",
       "4                                                     0.09          \n",
       "\n",
       "Élément  Disponibilité intérieure  Exportations - Quantité  \\\n",
       "0                           554.0                      1.0   \n",
       "1                           198.0                      0.0   \n",
       "2                           102.0                      NaN   \n",
       "3                             1.0                      NaN   \n",
       "4                             6.0                      NaN   \n",
       "\n",
       "Élément  Importations - Quantité  Nourriture  Pertes  Production  Semences  \\\n",
       "0                          361.0       389.0    32.0       312.0      30.0   \n",
       "1                            9.0         0.0    15.0       189.0      14.0   \n",
       "2                           82.0         0.0     7.0        21.0       0.0   \n",
       "3                            0.0         0.0     0.0         1.0       0.0   \n",
       "4                            1.0         1.0     0.0         5.0       0.0   \n",
       "\n",
       "Élément  Traitement  Variation de stock  \n",
       "0              10.0              -118.0  \n",
       "1               7.0                 0.0  \n",
       "2               NaN                 NaN  \n",
       "3               NaN                 0.0  \n",
       "4               NaN                 NaN  \n",
       "\n",
       "[5 rows x 22 columns]"
      ]
     },
     "execution_count": 348,
     "metadata": {},
     "output_type": "execute_result"
    }
   ],
   "source": [
    "# On créé un pivot avec les éléments en colonne\n",
    "df_vegetaux_animaux = df_vegetaux_animaux.pivot_table( index = [ 'Code zone', 'Zone', 'Code Produit', 'Produit', 'Année', 'Radical', 'Population'] , columns = 'Élément', values = 'Valeur', aggfunc = sum).reset_index()\n",
    "df_vegetaux_animaux.head()\n"
   ]
  },
  {
   "cell_type": "code",
   "execution_count": 349,
   "id": "15756ff2",
   "metadata": {},
   "outputs": [],
   "source": [
    "import sqlite3\n",
    "#Faire la base de données \"la faim dans le monde en 2013.db\"\n",
    "con = sqlite3.connect('la faim dans le monde en 2013.db')\n",
    "cursor =con.cursor()\n"
   ]
  },
  {
   "cell_type": "markdown",
   "id": "0b26d2ae",
   "metadata": {},
   "source": [
    "### Une table appelée population, contenant la population de chaque pays pour 2013. Elle devra contenir 4 colonnes : pays, code_pays, annee, population.\n"
   ]
  },
  {
   "cell_type": "code",
   "execution_count": 350,
   "id": "dd71b0c3",
   "metadata": {},
   "outputs": [
    {
     "name": "stderr",
     "output_type": "stream",
     "text": [
      "<ipython-input-350-a610f6eee758>:3: SettingWithCopyWarning: \n",
      "A value is trying to be set on a copy of a slice from a DataFrame.\n",
      "Try using .loc[row_indexer,col_indexer] = value instead\n",
      "\n",
      "See the caveats in the documentation: https://pandas.pydata.org/pandas-docs/stable/user_guide/indexing.html#returning-a-view-versus-a-copy\n",
      "  df_population_2013['Valeur'] = df_population_2013['Valeur'] * 1000\n"
     ]
    },
    {
     "data": {
      "text/html": [
       "<div>\n",
       "<style scoped>\n",
       "    .dataframe tbody tr th:only-of-type {\n",
       "        vertical-align: middle;\n",
       "    }\n",
       "\n",
       "    .dataframe tbody tr th {\n",
       "        vertical-align: top;\n",
       "    }\n",
       "\n",
       "    .dataframe thead th {\n",
       "        text-align: right;\n",
       "    }\n",
       "</style>\n",
       "<table border=\"1\" class=\"dataframe\">\n",
       "  <thead>\n",
       "    <tr style=\"text-align: right;\">\n",
       "      <th></th>\n",
       "      <th>pays</th>\n",
       "      <th>code_pays</th>\n",
       "      <th>annee</th>\n",
       "      <th>population</th>\n",
       "    </tr>\n",
       "  </thead>\n",
       "  <tbody>\n",
       "    <tr>\n",
       "      <th>0</th>\n",
       "      <td>Afghanistan</td>\n",
       "      <td>2</td>\n",
       "      <td>2013</td>\n",
       "      <td>30552000</td>\n",
       "    </tr>\n",
       "    <tr>\n",
       "      <th>1</th>\n",
       "      <td>Afrique du Sud</td>\n",
       "      <td>202</td>\n",
       "      <td>2013</td>\n",
       "      <td>52776000</td>\n",
       "    </tr>\n",
       "    <tr>\n",
       "      <th>2</th>\n",
       "      <td>Albanie</td>\n",
       "      <td>3</td>\n",
       "      <td>2013</td>\n",
       "      <td>3173000</td>\n",
       "    </tr>\n",
       "    <tr>\n",
       "      <th>3</th>\n",
       "      <td>Algérie</td>\n",
       "      <td>4</td>\n",
       "      <td>2013</td>\n",
       "      <td>39208000</td>\n",
       "    </tr>\n",
       "    <tr>\n",
       "      <th>4</th>\n",
       "      <td>Allemagne</td>\n",
       "      <td>79</td>\n",
       "      <td>2013</td>\n",
       "      <td>82727000</td>\n",
       "    </tr>\n",
       "  </tbody>\n",
       "</table>\n",
       "</div>"
      ],
      "text/plain": [
       "             pays  code_pays  annee  population\n",
       "0     Afghanistan          2   2013    30552000\n",
       "1  Afrique du Sud        202   2013    52776000\n",
       "2         Albanie          3   2013     3173000\n",
       "3         Algérie          4   2013    39208000\n",
       "4       Allemagne         79   2013    82727000"
      ]
     },
     "execution_count": 350,
     "metadata": {},
     "output_type": "execute_result"
    }
   ],
   "source": [
    "# Population 2013\n",
    "df_population_2013 = df_population [[ 'Zone','Code zone', 'Année','Valeur']]\n",
    "df_population_2013['Valeur'] = df_population_2013['Valeur'] * 1000\n",
    "df_population_2013 = df_population_2013.rename (columns ={'Zone':'pays',  'Code zone':'code_pays','Année': 'annee', 'Valeur' :'population'})\n",
    "df_population_2013.head()\n"
   ]
  },
  {
   "cell_type": "code",
   "execution_count": 351,
   "id": "e5863296",
   "metadata": {},
   "outputs": [],
   "source": [
    "#Pour exporter une trame de données de Python vers une base de données, nous passons par le fichier CSV. En Python, en utilisant to_csv :\n",
    "df_population_2013.to_csv(\"exports/population.csv\", index = False)\n",
    "\n"
   ]
  },
  {
   "cell_type": "code",
   "execution_count": 352,
   "id": "ec4a6358",
   "metadata": {},
   "outputs": [
    {
     "ename": "DatabaseError",
     "evalue": "Execution failed on sql 'DROP TABLE \"population\"': database is locked",
     "output_type": "error",
     "traceback": [
      "\u001b[0;31m---------------------------------------------------------------------------\u001b[0m",
      "\u001b[0;31mOperationalError\u001b[0m                          Traceback (most recent call last)",
      "\u001b[0;32m~/opt/anaconda3/lib/python3.8/site-packages/pandas/io/sql.py\u001b[0m in \u001b[0;36mexecute\u001b[0;34m(self, *args, **kwargs)\u001b[0m\n\u001b[1;32m   1724\u001b[0m         \u001b[0;32mtry\u001b[0m\u001b[0;34m:\u001b[0m\u001b[0;34m\u001b[0m\u001b[0;34m\u001b[0m\u001b[0m\n\u001b[0;32m-> 1725\u001b[0;31m             \u001b[0mcur\u001b[0m\u001b[0;34m.\u001b[0m\u001b[0mexecute\u001b[0m\u001b[0;34m(\u001b[0m\u001b[0;34m*\u001b[0m\u001b[0margs\u001b[0m\u001b[0;34m,\u001b[0m \u001b[0;34m**\u001b[0m\u001b[0mkwargs\u001b[0m\u001b[0;34m)\u001b[0m\u001b[0;34m\u001b[0m\u001b[0;34m\u001b[0m\u001b[0m\n\u001b[0m\u001b[1;32m   1726\u001b[0m             \u001b[0;32mreturn\u001b[0m \u001b[0mcur\u001b[0m\u001b[0;34m\u001b[0m\u001b[0;34m\u001b[0m\u001b[0m\n",
      "\u001b[0;31mOperationalError\u001b[0m: database is locked",
      "\nThe above exception was the direct cause of the following exception:\n",
      "\u001b[0;31mDatabaseError\u001b[0m                             Traceback (most recent call last)",
      "\u001b[0;32m<ipython-input-352-b1cd123e53e4>\u001b[0m in \u001b[0;36m<module>\u001b[0;34m\u001b[0m\n\u001b[1;32m      1\u001b[0m \u001b[0;31m#Mise de population dans la base de donnée\u001b[0m\u001b[0;34m\u001b[0m\u001b[0;34m\u001b[0m\u001b[0;34m\u001b[0m\u001b[0m\n\u001b[0;32m----> 2\u001b[0;31m df_population_2013.to_sql(\n\u001b[0m\u001b[1;32m      3\u001b[0m     \u001b[0mname\u001b[0m\u001b[0;34m=\u001b[0m\u001b[0;34m'population'\u001b[0m\u001b[0;34m,\u001b[0m \u001b[0;31m# nom de la table\u001b[0m\u001b[0;34m\u001b[0m\u001b[0;34m\u001b[0m\u001b[0m\n\u001b[1;32m      4\u001b[0m    \u001b[0mcon\u001b[0m \u001b[0;34m=\u001b[0m \u001b[0msqlite3\u001b[0m\u001b[0;34m.\u001b[0m\u001b[0mconnect\u001b[0m\u001b[0;34m(\u001b[0m\u001b[0;34m'la faim dans le monde en 2013.db'\u001b[0m\u001b[0;34m)\u001b[0m\u001b[0;34m,\u001b[0m \u001b[0;31m# connexion utilisé (ici, celle donnée par SQLAlchemy)\u001b[0m\u001b[0;34m\u001b[0m\u001b[0;34m\u001b[0m\u001b[0m\n\u001b[1;32m      5\u001b[0m     \u001b[0mindex\u001b[0m\u001b[0;34m=\u001b[0m\u001b[0;32mFalse\u001b[0m\u001b[0;34m,\u001b[0m  \u001b[0;31m# on ne veut pas écrire les index dans la table\u001b[0m\u001b[0;34m\u001b[0m\u001b[0;34m\u001b[0m\u001b[0m\n",
      "\u001b[0;32m~/opt/anaconda3/lib/python3.8/site-packages/pandas/core/generic.py\u001b[0m in \u001b[0;36mto_sql\u001b[0;34m(self, name, con, schema, if_exists, index, index_label, chunksize, dtype, method)\u001b[0m\n\u001b[1;32m   2777\u001b[0m         \u001b[0;32mfrom\u001b[0m \u001b[0mpandas\u001b[0m\u001b[0;34m.\u001b[0m\u001b[0mio\u001b[0m \u001b[0;32mimport\u001b[0m \u001b[0msql\u001b[0m\u001b[0;34m\u001b[0m\u001b[0;34m\u001b[0m\u001b[0m\n\u001b[1;32m   2778\u001b[0m \u001b[0;34m\u001b[0m\u001b[0m\n\u001b[0;32m-> 2779\u001b[0;31m         sql.to_sql(\n\u001b[0m\u001b[1;32m   2780\u001b[0m             \u001b[0mself\u001b[0m\u001b[0;34m,\u001b[0m\u001b[0;34m\u001b[0m\u001b[0;34m\u001b[0m\u001b[0m\n\u001b[1;32m   2781\u001b[0m             \u001b[0mname\u001b[0m\u001b[0;34m,\u001b[0m\u001b[0;34m\u001b[0m\u001b[0;34m\u001b[0m\u001b[0m\n",
      "\u001b[0;32m~/opt/anaconda3/lib/python3.8/site-packages/pandas/io/sql.py\u001b[0m in \u001b[0;36mto_sql\u001b[0;34m(frame, name, con, schema, if_exists, index, index_label, chunksize, dtype, method)\u001b[0m\n\u001b[1;32m    599\u001b[0m         )\n\u001b[1;32m    600\u001b[0m \u001b[0;34m\u001b[0m\u001b[0m\n\u001b[0;32m--> 601\u001b[0;31m     pandas_sql.to_sql(\n\u001b[0m\u001b[1;32m    602\u001b[0m         \u001b[0mframe\u001b[0m\u001b[0;34m,\u001b[0m\u001b[0;34m\u001b[0m\u001b[0;34m\u001b[0m\u001b[0m\n\u001b[1;32m    603\u001b[0m         \u001b[0mname\u001b[0m\u001b[0;34m,\u001b[0m\u001b[0;34m\u001b[0m\u001b[0;34m\u001b[0m\u001b[0m\n",
      "\u001b[0;32m~/opt/anaconda3/lib/python3.8/site-packages/pandas/io/sql.py\u001b[0m in \u001b[0;36mto_sql\u001b[0;34m(self, frame, name, if_exists, index, index_label, schema, chunksize, dtype, method)\u001b[0m\n\u001b[1;32m   1869\u001b[0m             \u001b[0mdtype\u001b[0m\u001b[0;34m=\u001b[0m\u001b[0mdtype\u001b[0m\u001b[0;34m,\u001b[0m\u001b[0;34m\u001b[0m\u001b[0;34m\u001b[0m\u001b[0m\n\u001b[1;32m   1870\u001b[0m         )\n\u001b[0;32m-> 1871\u001b[0;31m         \u001b[0mtable\u001b[0m\u001b[0;34m.\u001b[0m\u001b[0mcreate\u001b[0m\u001b[0;34m(\u001b[0m\u001b[0;34m)\u001b[0m\u001b[0;34m\u001b[0m\u001b[0;34m\u001b[0m\u001b[0m\n\u001b[0m\u001b[1;32m   1872\u001b[0m         \u001b[0mtable\u001b[0m\u001b[0;34m.\u001b[0m\u001b[0minsert\u001b[0m\u001b[0;34m(\u001b[0m\u001b[0mchunksize\u001b[0m\u001b[0;34m,\u001b[0m \u001b[0mmethod\u001b[0m\u001b[0;34m)\u001b[0m\u001b[0;34m\u001b[0m\u001b[0;34m\u001b[0m\u001b[0m\n\u001b[1;32m   1873\u001b[0m \u001b[0;34m\u001b[0m\u001b[0m\n",
      "\u001b[0;32m~/opt/anaconda3/lib/python3.8/site-packages/pandas/io/sql.py\u001b[0m in \u001b[0;36mcreate\u001b[0;34m(self)\u001b[0m\n\u001b[1;32m    738\u001b[0m                 \u001b[0;32mraise\u001b[0m \u001b[0mValueError\u001b[0m\u001b[0;34m(\u001b[0m\u001b[0;34mf\"Table '{self.name}' already exists.\"\u001b[0m\u001b[0;34m)\u001b[0m\u001b[0;34m\u001b[0m\u001b[0;34m\u001b[0m\u001b[0m\n\u001b[1;32m    739\u001b[0m             \u001b[0;32melif\u001b[0m \u001b[0mself\u001b[0m\u001b[0;34m.\u001b[0m\u001b[0mif_exists\u001b[0m \u001b[0;34m==\u001b[0m \u001b[0;34m\"replace\"\u001b[0m\u001b[0;34m:\u001b[0m\u001b[0;34m\u001b[0m\u001b[0;34m\u001b[0m\u001b[0m\n\u001b[0;32m--> 740\u001b[0;31m                 \u001b[0mself\u001b[0m\u001b[0;34m.\u001b[0m\u001b[0mpd_sql\u001b[0m\u001b[0;34m.\u001b[0m\u001b[0mdrop_table\u001b[0m\u001b[0;34m(\u001b[0m\u001b[0mself\u001b[0m\u001b[0;34m.\u001b[0m\u001b[0mname\u001b[0m\u001b[0;34m,\u001b[0m \u001b[0mself\u001b[0m\u001b[0;34m.\u001b[0m\u001b[0mschema\u001b[0m\u001b[0;34m)\u001b[0m\u001b[0;34m\u001b[0m\u001b[0;34m\u001b[0m\u001b[0m\n\u001b[0m\u001b[1;32m    741\u001b[0m                 \u001b[0mself\u001b[0m\u001b[0;34m.\u001b[0m\u001b[0m_execute_create\u001b[0m\u001b[0;34m(\u001b[0m\u001b[0;34m)\u001b[0m\u001b[0;34m\u001b[0m\u001b[0;34m\u001b[0m\u001b[0m\n\u001b[1;32m    742\u001b[0m             \u001b[0;32melif\u001b[0m \u001b[0mself\u001b[0m\u001b[0;34m.\u001b[0m\u001b[0mif_exists\u001b[0m \u001b[0;34m==\u001b[0m \u001b[0;34m\"append\"\u001b[0m\u001b[0;34m:\u001b[0m\u001b[0;34m\u001b[0m\u001b[0;34m\u001b[0m\u001b[0m\n",
      "\u001b[0;32m~/opt/anaconda3/lib/python3.8/site-packages/pandas/io/sql.py\u001b[0m in \u001b[0;36mdrop_table\u001b[0;34m(self, name, schema)\u001b[0m\n\u001b[1;32m   1887\u001b[0m     \u001b[0;32mdef\u001b[0m \u001b[0mdrop_table\u001b[0m\u001b[0;34m(\u001b[0m\u001b[0mself\u001b[0m\u001b[0;34m,\u001b[0m \u001b[0mname\u001b[0m\u001b[0;34m,\u001b[0m \u001b[0mschema\u001b[0m\u001b[0;34m=\u001b[0m\u001b[0;32mNone\u001b[0m\u001b[0;34m)\u001b[0m\u001b[0;34m:\u001b[0m\u001b[0;34m\u001b[0m\u001b[0;34m\u001b[0m\u001b[0m\n\u001b[1;32m   1888\u001b[0m         \u001b[0mdrop_sql\u001b[0m \u001b[0;34m=\u001b[0m \u001b[0;34mf\"DROP TABLE {_get_valid_sqlite_name(name)}\"\u001b[0m\u001b[0;34m\u001b[0m\u001b[0;34m\u001b[0m\u001b[0m\n\u001b[0;32m-> 1889\u001b[0;31m         \u001b[0mself\u001b[0m\u001b[0;34m.\u001b[0m\u001b[0mexecute\u001b[0m\u001b[0;34m(\u001b[0m\u001b[0mdrop_sql\u001b[0m\u001b[0;34m)\u001b[0m\u001b[0;34m\u001b[0m\u001b[0;34m\u001b[0m\u001b[0m\n\u001b[0m\u001b[1;32m   1890\u001b[0m \u001b[0;34m\u001b[0m\u001b[0m\n\u001b[1;32m   1891\u001b[0m     \u001b[0;32mdef\u001b[0m \u001b[0m_create_sql_schema\u001b[0m\u001b[0;34m(\u001b[0m\u001b[0mself\u001b[0m\u001b[0;34m,\u001b[0m \u001b[0mframe\u001b[0m\u001b[0;34m,\u001b[0m \u001b[0mtable_name\u001b[0m\u001b[0;34m,\u001b[0m \u001b[0mkeys\u001b[0m\u001b[0;34m=\u001b[0m\u001b[0;32mNone\u001b[0m\u001b[0;34m,\u001b[0m \u001b[0mdtype\u001b[0m\u001b[0;34m=\u001b[0m\u001b[0;32mNone\u001b[0m\u001b[0;34m,\u001b[0m \u001b[0mschema\u001b[0m\u001b[0;34m=\u001b[0m\u001b[0;32mNone\u001b[0m\u001b[0;34m)\u001b[0m\u001b[0;34m:\u001b[0m\u001b[0;34m\u001b[0m\u001b[0;34m\u001b[0m\u001b[0m\n",
      "\u001b[0;32m~/opt/anaconda3/lib/python3.8/site-packages/pandas/io/sql.py\u001b[0m in \u001b[0;36mexecute\u001b[0;34m(self, *args, **kwargs)\u001b[0m\n\u001b[1;32m   1735\u001b[0m \u001b[0;34m\u001b[0m\u001b[0m\n\u001b[1;32m   1736\u001b[0m             \u001b[0mex\u001b[0m \u001b[0;34m=\u001b[0m \u001b[0mDatabaseError\u001b[0m\u001b[0;34m(\u001b[0m\u001b[0;34mf\"Execution failed on sql '{args[0]}': {exc}\"\u001b[0m\u001b[0;34m)\u001b[0m\u001b[0;34m\u001b[0m\u001b[0;34m\u001b[0m\u001b[0m\n\u001b[0;32m-> 1737\u001b[0;31m             \u001b[0;32mraise\u001b[0m \u001b[0mex\u001b[0m \u001b[0;32mfrom\u001b[0m \u001b[0mexc\u001b[0m\u001b[0;34m\u001b[0m\u001b[0;34m\u001b[0m\u001b[0m\n\u001b[0m\u001b[1;32m   1738\u001b[0m \u001b[0;34m\u001b[0m\u001b[0m\n\u001b[1;32m   1739\u001b[0m     \u001b[0;34m@\u001b[0m\u001b[0mstaticmethod\u001b[0m\u001b[0;34m\u001b[0m\u001b[0;34m\u001b[0m\u001b[0m\n",
      "\u001b[0;31mDatabaseError\u001b[0m: Execution failed on sql 'DROP TABLE \"population\"': database is locked"
     ]
    }
   ],
   "source": [
    "#Mise de population dans la base de donnée\n",
    "df_population_2013.to_sql(\n",
    "    name='population', # nom de la table\n",
    "   con = sqlite3.connect('la faim dans le monde en 2013.db'), # connexion utilisé (ici, celle donnée par SQLAlchemy)\n",
    "    index=False,  # on ne veut pas écrire les index dans la table\n",
    "    if_exists='replace' # si la table existe déjà, on l'écrase\n",
    ")"
   ]
  },
  {
   "cell_type": "markdown",
   "id": "4a738117",
   "metadata": {},
   "source": [
    "### Une table appelée dispo_alim contenant pour chaque pays et pour chaque produit en 2013, les informations suivantes:\\\n",
    "la nature du produit (deux valeurs possibles : “animal” ou “végétal”)\\\n",
    "disponibilité alimentaire en tonnes\\\n",
    "disponibilité alimentaire en Kcal/personne/jour\\\n",
    "disponibilité alimentaire de protéines en g/personne/jour\\\n",
    "disponibilité alimentaire de matières grasses en g/personne/jour\\\n",
    "Elle devra contenir ces colonnes : pays, code_pays, année, produit, code_produit, origin, dispo_alim_tonnes, \\dispo_alim_kcal_p_j, dispo_prot, dispo_mat_gr .\n"
   ]
  },
  {
   "cell_type": "code",
   "execution_count": null,
   "id": "48f7d1a1",
   "metadata": {},
   "outputs": [],
   "source": [
    "df_dispo_alim = df_vegetaux_animaux[['Code zone','Zone','Année','Code Produit', 'Produit', 'Radical',  'Population' , 'Disponibilité alimentaire en quantité (kg/personne/an)',  'Disponibilité alimentaire (Kcal/personne/jour)','Disponibilité de protéines en quantité (g/personne/jour)', 'Disponibilité de matière grasse en quantité (g/personne/jour)']]\n",
    "\n",
    "#calculer disponibilité alimentaire en tonnes\n",
    "df_dispo_alim['disponibilité alimentaire en tonnes'] = df_dispo_alim['Disponibilité alimentaire en quantité (kg/personne/an)']* df_dispo_alim['Population']*365 /1000\n",
    "df_dispo_alim = df_dispo_alim.rename(columns = {'Code zone': 'code_pays','Zone': 'pays','Année':  'année','Code Produit': 'code_produit', 'Produit':'produit' , 'Radical': 'origin','disponibilité alimentaire en tonnes':'dispo_alim_tonnes',  'Disponibilité alimentaire (Kcal/personne/jour)': 'dispo_alim_kcal_p_j','Disponibilité de protéines en quantité (g/personne/jour)': 'dispo_prot', 'Disponibilité de matière grasse en quantité (g/personne/jour)': 'dispo_mat_gr'  })\n",
    "df_dispo_alim.drop('Population', axis='columns', inplace=True)\n",
    "df_dispo_alim.drop('Disponibilité alimentaire en quantité (kg/personne/an)', axis='columns', inplace=True)\n",
    "\n",
    "df_dispo_alim = df_dispo_alim.dropna(subset=['dispo_alim_tonnes', 'dispo_alim_kcal_p_j', 'dispo_prot', 'dispo_mat_gr'],how='all')\n",
    "df_dispo_alim.head()\n"
   ]
  },
  {
   "cell_type": "code",
   "execution_count": null,
   "id": "44b9e6df",
   "metadata": {},
   "outputs": [],
   "source": [
    "  # Exporter le tableau sous forme de fichier CSV\n",
    "df_dispo_alim.to_csv('exports/dispo_alim.csv', index=False)"
   ]
  },
  {
   "cell_type": "code",
   "execution_count": null,
   "id": "c3a57401",
   "metadata": {},
   "outputs": [],
   "source": [
    "#Mise de population dans la base de donnée\n",
    "df_dispo_alim.to_sql(\n",
    "    name='dispo_alim', # nom de la table\n",
    "   con = sqlite3.connect('la faim dans le monde en 2013.db'), # connexion utilisé (ici, celle donnée par SQLAlchemy)\n",
    "    index=False,  # on ne veut pas écrire les index dans la table\n",
    "    if_exists='replace' # si la table existe déjà, on l'écrase\n",
    ")\n",
    "\n",
    "\n"
   ]
  },
  {
   "cell_type": "markdown",
   "id": "3f4c3a80",
   "metadata": {},
   "source": [
    "### Une table appelée equilibre_prod contenant pour chaque pays et pour chaque produit en 2013, les quantités suivantes :\\\n",
    "disponibilité intérieure\\\n",
    "aliments pour animaux\\\n",
    "semences\\\n",
    "pertes\\\n",
    "transformés\\\n",
    "nourriture\\\n",
    "autres utilisations\\\n",
    "Elle devra contenir ces colonnes : pays, code_pays, année, produit, code_produit, dispo_int, alim_ani, semences, \\pertes, transfo, nourriture, autres_utilisations.\n",
    "\n"
   ]
  },
  {
   "cell_type": "code",
   "execution_count": null,
   "id": "6a88a06d",
   "metadata": {},
   "outputs": [],
   "source": [
    "# Export du dataframe equilibre_prod\n",
    "df_equilibre_prod = df_vegetaux_animaux[['Zone','Code zone', 'Année','Produit', 'Code Produit','Disponibilité intérieure', 'Aliments pour animaux', 'Semences', 'Pertes','Traitement','Nourriture','Autres utilisations (non alimentaire)']]\n",
    "df_equilibre_prod = df_equilibre_prod.rename(columns =  {'Code zone':'code_pays', 'Zone':'pays', 'Code Produit' :'code_produit', 'Produit':'produit', 'Année':'année','Disponibilité intérieure': 'dispo_int', 'Aliments pour animaux':'alim_ani', 'Semences': 'semences', 'Pertes': 'pertes','Traitement': 'transfo','Nourriture':'nourriture','Autres utilisations (non alimentaire)':'autres_utilisations'})\n",
    "\n",
    "# Conversion des unités \"Millier de tonnes\" en Tonnes\n",
    "df_equilibre_prod.loc[:, ['dispo_int', 'alim_ani', 'semences', 'pertes', 'transfo', 'nourriture','autres_utilisations']]*=1000\n",
    "\n",
    "df_equilibre_prod.head()\n"
   ]
  },
  {
   "cell_type": "code",
   "execution_count": null,
   "id": "88dca370",
   "metadata": {},
   "outputs": [],
   "source": [
    "#Exporter le tableau sous forme de fichier CSV.\n",
    "df_equilibre_prod.to_csv('exports/equilibre_prod.csv', index= False)"
   ]
  },
  {
   "cell_type": "code",
   "execution_count": null,
   "id": "a38b2223",
   "metadata": {},
   "outputs": [],
   "source": [
    "#Mise de population dans la base de donnée\n",
    "df_equilibre_prod.to_sql(\n",
    "    name='equilibre_prod', # nom de la table\n",
    "   con = sqlite3.connect('la faim dans le monde en 2013.db'), # connexion utilisé (ici, celle donnée par SQLAlchemy)\n",
    "    index=False,  # on ne veut pas écrire les index dans la table\n",
    "    if_exists='replace' # si la table existe déjà, on l'écrase\n",
    ")\n",
    "\n"
   ]
  },
  {
   "cell_type": "markdown",
   "id": "888557ea",
   "metadata": {},
   "source": [
    "### Une table appelée sous_nutrition, contenant le nombre de personnes en sous-alimentation pour chaque pays en 2013.\\\n",
    "Elle devra contenir 4 colonnes : pays, code_pays, année, nb_personnes.\n"
   ]
  },
  {
   "cell_type": "code",
   "execution_count": null,
   "id": "9302d2d0",
   "metadata": {},
   "outputs": [],
   "source": [
    "df_sousalimentation_an = df_sousalimentation.pivot_table(index = ['Code zone','Zone','Code Produit','Produit'], columns = 'Année', values = 'Valeur', aggfunc = sum).reset_index()\n",
    "df_sousalimentation_an[df_sousalimentation_an['2012-2014'] == '<0.1'] = 0\n",
    "\n",
    "# Puis on passe la colonne en type numeric\n",
    "df_sousalimentation_an['2012-2014'] = pd.to_numeric(df_sousalimentation_an['2012-2014'] , errors='coerce')\n",
    "\n"
   ]
  },
  {
   "cell_type": "code",
   "execution_count": null,
   "id": "c81068b3",
   "metadata": {},
   "outputs": [],
   "source": [
    "#Une table appelée sous_nutrition, contenant le nombre de personnes en sous-alimentation pour chaque pays en 2013. Elle devra contenir 4 colonnes : pays, code_pays, année, nb_personnes.\n",
    "df_sous_nutrition = df_sousalimentation_an[['Zone','Code zone','2012-2014']]\n",
    "df_sous_nutrition ['annee'] = 2013\n",
    "df_sous_nutrition['2012-2014'] = df_sous_nutrition['2012-2014'] * 1000000\n",
    "\n",
    "df_sous_nutrition= df_sous_nutrition.rename(columns={'Code zone':' code_pays', 'Zone': 'pays','2012-2014':'nb_personnes'})\n"
   ]
  },
  {
   "cell_type": "code",
   "execution_count": null,
   "id": "18ee53b1",
   "metadata": {},
   "outputs": [],
   "source": [
    "df_sousalimentation_an[df_sousalimentation_an['2012-2014'] == '<0.1'] = 0\n",
    "\n",
    "# Puis on passe la colonne en type numeric\n",
    "df_sousalimentation_an['2012-2014'] = df_sousalimentation_an['2012-2014'].apply(pd.to_numeric)\n",
    "\n"
   ]
  },
  {
   "cell_type": "code",
   "execution_count": null,
   "id": "cfb3c25a",
   "metadata": {},
   "outputs": [],
   "source": [
    "df_sous_nutrition"
   ]
  },
  {
   "cell_type": "code",
   "execution_count": null,
   "id": "a288af79",
   "metadata": {},
   "outputs": [],
   "source": [
    "#Exporter le tableau sous forme de fichier CSV.\n",
    "df_sous_nutrition.to_csv('exports/sous_nutrition.csv' , index = False)"
   ]
  },
  {
   "cell_type": "code",
   "execution_count": null,
   "id": "877a6698",
   "metadata": {},
   "outputs": [],
   "source": [
    "#Mise de population dans la base de donnée\n",
    "df_sous_nutrition.to_sql(\n",
    "    name='sous_nutrition', # nom de la table\n",
    "   con = sqlite3.connect('la faim dans le monde en 2013.db'), # connexion utilisé (ici, celle donnée par SQLAlchemy)\n",
    "    index=False,  # on ne veut pas écrire les index dans la table\n",
    "    if_exists='replace' # si la table existe déjà, on l'écrase\n",
    ")\n"
   ]
  }
 ],
 "metadata": {
  "kernelspec": {
   "display_name": "Python 3",
   "language": "python",
   "name": "python3"
  },
  "language_info": {
   "codemirror_mode": {
    "name": "ipython",
    "version": 3
   },
   "file_extension": ".py",
   "mimetype": "text/x-python",
   "name": "python",
   "nbconvert_exporter": "python",
   "pygments_lexer": "ipython3",
   "version": "3.8.8"
  }
 },
 "nbformat": 4,
 "nbformat_minor": 5
}

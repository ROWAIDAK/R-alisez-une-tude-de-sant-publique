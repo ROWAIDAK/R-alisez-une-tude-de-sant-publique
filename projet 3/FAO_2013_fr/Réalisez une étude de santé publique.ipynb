{
 "cells": [
  {
   "cell_type": "markdown",
   "id": "6fcffb57",
   "metadata": {},
   "source": [
    "# P3_Réalisez une étude de santé publique"
   ]
  },
  {
   "cell_type": "markdown",
   "id": "f9b37953",
   "metadata": {},
   "source": [
    "## Importer  pandas et lire des bases de données"
   ]
  },
  {
   "cell_type": "code",
   "execution_count": null,
   "id": "ba98c6ef",
   "metadata": {},
   "outputs": [],
   "source": [
    "import pandas as pd\n",
    "import numpy as np\n",
    "import matplotlib.pyplot as plt\n",
    "%matplotlib inline"
   ]
  },
  {
   "cell_type": "code",
   "execution_count": null,
   "id": "cb65cb43",
   "metadata": {},
   "outputs": [],
   "source": [
    "df_population = pd.read_csv('fr_population.csv')\n",
    "df_animaux = pd.read_csv('fr_animaux.csv')\n",
    "df_vegetaux = pd.read_csv('fr_vegetaux.csv')\n",
    "df_céréales = pd.read_csv('fr_céréales.csv')\n",
    "df_sousalimentation = pd.read_csv('fr_sousalimentation.csv')"
   ]
  },
  {
   "cell_type": "code",
   "execution_count": null,
   "id": "97fed3f1",
   "metadata": {},
   "outputs": [],
   "source": [
    "df_population \n",
    "df_animaux \n",
    "df_vegetaux \n",
    "df_céréales \n",
    "df_sousalimentation "
   ]
  },
  {
   "cell_type": "markdown",
   "id": "916fa0fd",
   "metadata": {},
   "source": [
    "### Connaître la base de données"
   ]
  },
  {
   "cell_type": "code",
   "execution_count": null,
   "id": "16e193c4",
   "metadata": {},
   "outputs": [],
   "source": [
    "df_population.columns"
   ]
  },
  {
   "cell_type": "code",
   "execution_count": null,
   "id": "0658cdce",
   "metadata": {},
   "outputs": [],
   "source": [
    "df_population.shape"
   ]
  },
  {
   "cell_type": "code",
   "execution_count": null,
   "id": "52ab327d",
   "metadata": {},
   "outputs": [],
   "source": [
    "df_population.info()"
   ]
  },
  {
   "cell_type": "code",
   "execution_count": null,
   "id": "7473d547",
   "metadata": {},
   "outputs": [],
   "source": [
    "df_population.nunique()"
   ]
  },
  {
   "cell_type": "code",
   "execution_count": null,
   "id": "2bcee892",
   "metadata": {},
   "outputs": [],
   "source": [
    "df_population.head()"
   ]
  },
  {
   "cell_type": "code",
   "execution_count": null,
   "id": "370bb8d2",
   "metadata": {},
   "outputs": [],
   "source": [
    "df_population.tail()"
   ]
  },
  {
   "cell_type": "code",
   "execution_count": null,
   "id": "6cd1be96",
   "metadata": {},
   "outputs": [],
   "source": [
    "x= (df_population['Description du Symbole']=='Agrégat, peut inclure des données officielles, semi-officielles, estimées ou calculées')\n"
   ]
  },
  {
   "cell_type": "code",
   "execution_count": null,
   "id": "8cd45e75",
   "metadata": {},
   "outputs": [],
   "source": [
    "df_population[x]"
   ]
  },
  {
   "cell_type": "code",
   "execution_count": null,
   "id": "125bd255",
   "metadata": {},
   "outputs": [],
   "source": [
    "df_population[x]"
   ]
  },
  {
   "cell_type": "code",
   "execution_count": null,
   "id": "12f609b0",
   "metadata": {},
   "outputs": [],
   "source": []
  }
 ],
 "metadata": {
  "kernelspec": {
   "display_name": "Python 3",
   "language": "python",
   "name": "python3"
  },
  "language_info": {
   "codemirror_mode": {
    "name": "ipython",
    "version": 3
   },
   "file_extension": ".py",
   "mimetype": "text/x-python",
   "name": "python",
   "nbconvert_exporter": "python",
   "pygments_lexer": "ipython3",
   "version": "3.8.8"
  }
 },
 "nbformat": 4,
 "nbformat_minor": 5
}

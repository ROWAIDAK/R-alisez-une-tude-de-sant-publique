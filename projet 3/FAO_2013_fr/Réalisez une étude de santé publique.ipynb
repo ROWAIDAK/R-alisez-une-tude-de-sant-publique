{
 "cells": [
  {
   "cell_type": "markdown",
   "id": "6fcffb57",
   "metadata": {},
   "source": [
    "# P3_Réalisez une étude de santé publique"
   ]
  },
  {
   "cell_type": "markdown",
   "id": "f9b37953",
   "metadata": {},
   "source": [
    "## Importer  pandas et lire des bases de données"
   ]
  },
  {
   "cell_type": "code",
   "execution_count": 2,
   "id": "ba98c6ef",
   "metadata": {},
   "outputs": [],
   "source": [
    "import pandas as pd\n",
    "import numpy as np\n",
    "import matplotlib.pyplot as plt\n",
    "%matplotlib inline"
   ]
  },
  {
   "cell_type": "code",
   "execution_count": 3,
   "id": "cb65cb43",
   "metadata": {},
   "outputs": [],
   "source": [
    "df_population = pd.read_csv('fr_population.csv')\n",
    "df_animaux = pd.read_csv('fr_animaux.csv')\n",
    "df_vegetaux = pd.read_csv('fr_vegetaux.csv')\n",
    "df_céréales = pd.read_csv('fr_céréales.csv')\n",
    "df_sousalimentation = pd.read_csv('fr_sousalimentation.csv')"
   ]
  },
  {
   "cell_type": "markdown",
   "id": "916fa0fd",
   "metadata": {},
   "source": [
    "### Connaître la base de données\n",
    "df_population \n",
    "df_animaux \n",
    "df_vegetaux \n",
    "df_céréales \n",
    "df_sousalimentation "
   ]
  },
  {
   "cell_type": "code",
   "execution_count": 5,
   "id": "16e193c4",
   "metadata": {},
   "outputs": [
    {
     "data": {
      "text/plain": [
       "Index(['Code Domaine', 'Domaine', 'Code zone', 'Zone', 'Code Élément',\n",
       "       'Élément', 'Code Produit', 'Produit', 'Code année', 'Année', 'Unité',\n",
       "       'Valeur', 'Symbole', 'Description du Symbole'],\n",
       "      dtype='object')"
      ]
     },
     "execution_count": 5,
     "metadata": {},
     "output_type": "execute_result"
    }
   ],
   "source": [
    "df_population.columns"
   ]
  },
  {
   "cell_type": "code",
   "execution_count": 6,
   "id": "0658cdce",
   "metadata": {},
   "outputs": [
    {
     "data": {
      "text/plain": [
       "(175, 14)"
      ]
     },
     "execution_count": 6,
     "metadata": {},
     "output_type": "execute_result"
    }
   ],
   "source": [
    "df_population.shape"
   ]
  },
  {
   "cell_type": "code",
   "execution_count": 7,
   "id": "52ab327d",
   "metadata": {},
   "outputs": [
    {
     "name": "stdout",
     "output_type": "stream",
     "text": [
      "<class 'pandas.core.frame.DataFrame'>\n",
      "RangeIndex: 175 entries, 0 to 174\n",
      "Data columns (total 14 columns):\n",
      " #   Column                  Non-Null Count  Dtype \n",
      "---  ------                  --------------  ----- \n",
      " 0   Code Domaine            175 non-null    object\n",
      " 1   Domaine                 175 non-null    object\n",
      " 2   Code zone               175 non-null    int64 \n",
      " 3   Zone                    175 non-null    object\n",
      " 4   Code Élément            175 non-null    int64 \n",
      " 5   Élément                 175 non-null    object\n",
      " 6   Code Produit            175 non-null    int64 \n",
      " 7   Produit                 175 non-null    object\n",
      " 8   Code année              175 non-null    int64 \n",
      " 9   Année                   175 non-null    int64 \n",
      " 10  Unité                   175 non-null    object\n",
      " 11  Valeur                  175 non-null    int64 \n",
      " 12  Symbole                 1 non-null      object\n",
      " 13  Description du Symbole  175 non-null    object\n",
      "dtypes: int64(6), object(8)\n",
      "memory usage: 19.3+ KB\n"
     ]
    }
   ],
   "source": [
    "df_population.info()"
   ]
  },
  {
   "cell_type": "code",
   "execution_count": 8,
   "id": "7473d547",
   "metadata": {},
   "outputs": [
    {
     "data": {
      "text/plain": [
       "Code Domaine                1\n",
       "Domaine                     1\n",
       "Code zone                 175\n",
       "Zone                      175\n",
       "Code Élément                1\n",
       "Élément                     1\n",
       "Code Produit                1\n",
       "Produit                     1\n",
       "Code année                  1\n",
       "Année                       1\n",
       "Unité                       1\n",
       "Valeur                    175\n",
       "Symbole                     1\n",
       "Description du Symbole      2\n",
       "dtype: int64"
      ]
     },
     "execution_count": 8,
     "metadata": {},
     "output_type": "execute_result"
    }
   ],
   "source": [
    "df_population.nunique()"
   ]
  },
  {
   "cell_type": "code",
   "execution_count": 9,
   "id": "2bcee892",
   "metadata": {},
   "outputs": [
    {
     "data": {
      "text/html": [
       "<div>\n",
       "<style scoped>\n",
       "    .dataframe tbody tr th:only-of-type {\n",
       "        vertical-align: middle;\n",
       "    }\n",
       "\n",
       "    .dataframe tbody tr th {\n",
       "        vertical-align: top;\n",
       "    }\n",
       "\n",
       "    .dataframe thead th {\n",
       "        text-align: right;\n",
       "    }\n",
       "</style>\n",
       "<table border=\"1\" class=\"dataframe\">\n",
       "  <thead>\n",
       "    <tr style=\"text-align: right;\">\n",
       "      <th></th>\n",
       "      <th>Code Domaine</th>\n",
       "      <th>Domaine</th>\n",
       "      <th>Code zone</th>\n",
       "      <th>Zone</th>\n",
       "      <th>Code Élément</th>\n",
       "      <th>Élément</th>\n",
       "      <th>Code Produit</th>\n",
       "      <th>Produit</th>\n",
       "      <th>Code année</th>\n",
       "      <th>Année</th>\n",
       "      <th>Unité</th>\n",
       "      <th>Valeur</th>\n",
       "      <th>Symbole</th>\n",
       "      <th>Description du Symbole</th>\n",
       "    </tr>\n",
       "  </thead>\n",
       "  <tbody>\n",
       "    <tr>\n",
       "      <th>0</th>\n",
       "      <td>FBSH</td>\n",
       "      <td>Bilans Alimentaire (Ancienne méthodologie et p...</td>\n",
       "      <td>2</td>\n",
       "      <td>Afghanistan</td>\n",
       "      <td>511</td>\n",
       "      <td>Population totale</td>\n",
       "      <td>2501</td>\n",
       "      <td>Population</td>\n",
       "      <td>2013</td>\n",
       "      <td>2013</td>\n",
       "      <td>1000 personnes</td>\n",
       "      <td>30552</td>\n",
       "      <td>NaN</td>\n",
       "      <td>Donnée officielle</td>\n",
       "    </tr>\n",
       "    <tr>\n",
       "      <th>1</th>\n",
       "      <td>FBSH</td>\n",
       "      <td>Bilans Alimentaire (Ancienne méthodologie et p...</td>\n",
       "      <td>202</td>\n",
       "      <td>Afrique du Sud</td>\n",
       "      <td>511</td>\n",
       "      <td>Population totale</td>\n",
       "      <td>2501</td>\n",
       "      <td>Population</td>\n",
       "      <td>2013</td>\n",
       "      <td>2013</td>\n",
       "      <td>1000 personnes</td>\n",
       "      <td>52776</td>\n",
       "      <td>NaN</td>\n",
       "      <td>Donnée officielle</td>\n",
       "    </tr>\n",
       "    <tr>\n",
       "      <th>2</th>\n",
       "      <td>FBSH</td>\n",
       "      <td>Bilans Alimentaire (Ancienne méthodologie et p...</td>\n",
       "      <td>3</td>\n",
       "      <td>Albanie</td>\n",
       "      <td>511</td>\n",
       "      <td>Population totale</td>\n",
       "      <td>2501</td>\n",
       "      <td>Population</td>\n",
       "      <td>2013</td>\n",
       "      <td>2013</td>\n",
       "      <td>1000 personnes</td>\n",
       "      <td>3173</td>\n",
       "      <td>NaN</td>\n",
       "      <td>Donnée officielle</td>\n",
       "    </tr>\n",
       "    <tr>\n",
       "      <th>3</th>\n",
       "      <td>FBSH</td>\n",
       "      <td>Bilans Alimentaire (Ancienne méthodologie et p...</td>\n",
       "      <td>4</td>\n",
       "      <td>Algérie</td>\n",
       "      <td>511</td>\n",
       "      <td>Population totale</td>\n",
       "      <td>2501</td>\n",
       "      <td>Population</td>\n",
       "      <td>2013</td>\n",
       "      <td>2013</td>\n",
       "      <td>1000 personnes</td>\n",
       "      <td>39208</td>\n",
       "      <td>NaN</td>\n",
       "      <td>Donnée officielle</td>\n",
       "    </tr>\n",
       "    <tr>\n",
       "      <th>4</th>\n",
       "      <td>FBSH</td>\n",
       "      <td>Bilans Alimentaire (Ancienne méthodologie et p...</td>\n",
       "      <td>79</td>\n",
       "      <td>Allemagne</td>\n",
       "      <td>511</td>\n",
       "      <td>Population totale</td>\n",
       "      <td>2501</td>\n",
       "      <td>Population</td>\n",
       "      <td>2013</td>\n",
       "      <td>2013</td>\n",
       "      <td>1000 personnes</td>\n",
       "      <td>82727</td>\n",
       "      <td>NaN</td>\n",
       "      <td>Donnée officielle</td>\n",
       "    </tr>\n",
       "  </tbody>\n",
       "</table>\n",
       "</div>"
      ],
      "text/plain": [
       "  Code Domaine                                            Domaine  Code zone  \\\n",
       "0         FBSH  Bilans Alimentaire (Ancienne méthodologie et p...          2   \n",
       "1         FBSH  Bilans Alimentaire (Ancienne méthodologie et p...        202   \n",
       "2         FBSH  Bilans Alimentaire (Ancienne méthodologie et p...          3   \n",
       "3         FBSH  Bilans Alimentaire (Ancienne méthodologie et p...          4   \n",
       "4         FBSH  Bilans Alimentaire (Ancienne méthodologie et p...         79   \n",
       "\n",
       "             Zone  Code Élément            Élément  Code Produit     Produit  \\\n",
       "0     Afghanistan           511  Population totale          2501  Population   \n",
       "1  Afrique du Sud           511  Population totale          2501  Population   \n",
       "2         Albanie           511  Population totale          2501  Population   \n",
       "3         Algérie           511  Population totale          2501  Population   \n",
       "4       Allemagne           511  Population totale          2501  Population   \n",
       "\n",
       "   Code année  Année           Unité  Valeur Symbole Description du Symbole  \n",
       "0        2013   2013  1000 personnes   30552     NaN      Donnée officielle  \n",
       "1        2013   2013  1000 personnes   52776     NaN      Donnée officielle  \n",
       "2        2013   2013  1000 personnes    3173     NaN      Donnée officielle  \n",
       "3        2013   2013  1000 personnes   39208     NaN      Donnée officielle  \n",
       "4        2013   2013  1000 personnes   82727     NaN      Donnée officielle  "
      ]
     },
     "execution_count": 9,
     "metadata": {},
     "output_type": "execute_result"
    }
   ],
   "source": [
    "df_population.head()"
   ]
  },
  {
   "cell_type": "markdown",
   "id": "7de2c38d",
   "metadata": {},
   "source": [
    "### Question 1 : donnez le résultat de votre calcul pour l'année 2013."
   ]
  },
  {
   "cell_type": "code",
   "execution_count": 50,
   "id": "8f41f5aa",
   "metadata": {},
   "outputs": [
    {
     "name": "stdout",
     "output_type": "stream",
     "text": [
      "<class 'pandas.core.frame.DataFrame'>\n",
      "RangeIndex: 175 entries, 0 to 174\n",
      "Data columns (total 14 columns):\n",
      " #   Column                  Non-Null Count  Dtype \n",
      "---  ------                  --------------  ----- \n",
      " 0   Code Domaine            175 non-null    object\n",
      " 1   Domaine                 175 non-null    object\n",
      " 2   Code zone               175 non-null    int64 \n",
      " 3   Zone                    175 non-null    object\n",
      " 4   Code Élément            175 non-null    int64 \n",
      " 5   Élément                 175 non-null    object\n",
      " 6   Code Produit            175 non-null    int64 \n",
      " 7   Produit                 175 non-null    object\n",
      " 8   Code année              175 non-null    int64 \n",
      " 9   Année                   175 non-null    int64 \n",
      " 10  Unité                   175 non-null    object\n",
      " 11  Valeur                  175 non-null    int64 \n",
      " 12  Symbole                 1 non-null      object\n",
      " 13  Description du Symbole  175 non-null    object\n",
      "dtypes: int64(6), object(8)\n",
      "memory usage: 19.3+ KB\n"
     ]
    }
   ],
   "source": [
    "df_population.info()"
   ]
  },
  {
   "cell_type": "code",
   "execution_count": 51,
   "id": "c67f575c",
   "metadata": {},
   "outputs": [
    {
     "data": {
      "text/plain": [
       "Code Domaine                1\n",
       "Domaine                     1\n",
       "Code zone                 175\n",
       "Zone                      175\n",
       "Code Élément                1\n",
       "Élément                     1\n",
       "Code Produit                1\n",
       "Produit                     1\n",
       "Code année                  1\n",
       "Année                       1\n",
       "Unité                       1\n",
       "Valeur                    175\n",
       "Symbole                     1\n",
       "Description du Symbole      2\n",
       "dtype: int64"
      ]
     },
     "execution_count": 51,
     "metadata": {},
     "output_type": "execute_result"
    }
   ],
   "source": [
    "df_population.nunique()"
   ]
  },
  {
   "cell_type": "code",
   "execution_count": 69,
   "id": "b3b5bfcb",
   "metadata": {},
   "outputs": [
    {
     "data": {
      "text/plain": [
       "1"
      ]
     },
     "execution_count": 69,
     "metadata": {},
     "output_type": "execute_result"
    }
   ],
   "source": [
    "df_population['Année'] .nunique()"
   ]
  },
  {
   "cell_type": "code",
   "execution_count": 70,
   "id": "f8de3a62",
   "metadata": {},
   "outputs": [
    {
     "data": {
      "text/plain": [
       "array([2013])"
      ]
     },
     "execution_count": 70,
     "metadata": {},
     "output_type": "execute_result"
    }
   ],
   "source": [
    "df_population['Année'] . unique()"
   ]
  },
  {
   "cell_type": "code",
   "execution_count": 65,
   "id": "98098ba3",
   "metadata": {},
   "outputs": [
    {
     "data": {
      "text/plain": [
       "array(['Donnée officielle',\n",
       "       'Agrégat, peut inclure des données officielles, semi-officielles, estimées ou calculées'],\n",
       "      dtype=object)"
      ]
     },
     "execution_count": 65,
     "metadata": {},
     "output_type": "execute_result"
    }
   ],
   "source": [
    "df_population ['Description du Symbole']. unique ()"
   ]
  },
  {
   "cell_type": "code",
   "execution_count": 55,
   "id": "5d790b08",
   "metadata": {},
   "outputs": [
    {
     "data": {
      "text/plain": [
       "0      Donnée officielle\n",
       "1      Donnée officielle\n",
       "2      Donnée officielle\n",
       "3      Donnée officielle\n",
       "4      Donnée officielle\n",
       "             ...        \n",
       "170    Donnée officielle\n",
       "171    Donnée officielle\n",
       "172    Donnée officielle\n",
       "173    Donnée officielle\n",
       "174    Donnée officielle\n",
       "Name: Description du Symbole, Length: 175, dtype: object"
      ]
     },
     "execution_count": 55,
     "metadata": {},
     "output_type": "execute_result"
    }
   ],
   "source": [
    "df_population['Description du Symbole']==' données officielles'"
   ]
  },
  {
   "cell_type": "code",
   "execution_count": 54,
   "id": "6cd1be96",
   "metadata": {},
   "outputs": [
    {
     "data": {
      "text/plain": [
       "0      False\n",
       "1      False\n",
       "2      False\n",
       "3      False\n",
       "4      False\n",
       "       ...  \n",
       "170    False\n",
       "171    False\n",
       "172    False\n",
       "173    False\n",
       "174    False\n",
       "Name: Description du Symbole, Length: 175, dtype: bool"
      ]
     },
     "execution_count": 54,
     "metadata": {},
     "output_type": "execute_result"
    }
   ],
   "source": [
    "x= (df_population['Description du Symbole']=='Agrégat, peut inclure des données officielles, semi-officielles, estimées ou calculées')\n",
    "x"
   ]
  },
  {
   "cell_type": "code",
   "execution_count": 12,
   "id": "8cd45e75",
   "metadata": {},
   "outputs": [
    {
     "data": {
      "text/html": [
       "<div>\n",
       "<style scoped>\n",
       "    .dataframe tbody tr th:only-of-type {\n",
       "        vertical-align: middle;\n",
       "    }\n",
       "\n",
       "    .dataframe tbody tr th {\n",
       "        vertical-align: top;\n",
       "    }\n",
       "\n",
       "    .dataframe thead th {\n",
       "        text-align: right;\n",
       "    }\n",
       "</style>\n",
       "<table border=\"1\" class=\"dataframe\">\n",
       "  <thead>\n",
       "    <tr style=\"text-align: right;\">\n",
       "      <th></th>\n",
       "      <th>Code Domaine</th>\n",
       "      <th>Domaine</th>\n",
       "      <th>Code zone</th>\n",
       "      <th>Zone</th>\n",
       "      <th>Code Élément</th>\n",
       "      <th>Élément</th>\n",
       "      <th>Code Produit</th>\n",
       "      <th>Produit</th>\n",
       "      <th>Code année</th>\n",
       "      <th>Année</th>\n",
       "      <th>Unité</th>\n",
       "      <th>Valeur</th>\n",
       "      <th>Symbole</th>\n",
       "      <th>Description du Symbole</th>\n",
       "    </tr>\n",
       "  </thead>\n",
       "  <tbody>\n",
       "    <tr>\n",
       "      <th>33</th>\n",
       "      <td>FBSH</td>\n",
       "      <td>Bilans Alimentaire (Ancienne méthodologie et p...</td>\n",
       "      <td>351</td>\n",
       "      <td>Chine</td>\n",
       "      <td>511</td>\n",
       "      <td>Population totale</td>\n",
       "      <td>2501</td>\n",
       "      <td>Population</td>\n",
       "      <td>2013</td>\n",
       "      <td>2013</td>\n",
       "      <td>1000 personnes</td>\n",
       "      <td>1416667</td>\n",
       "      <td>A</td>\n",
       "      <td>Agrégat, peut inclure des données officielles,...</td>\n",
       "    </tr>\n",
       "  </tbody>\n",
       "</table>\n",
       "</div>"
      ],
      "text/plain": [
       "   Code Domaine                                            Domaine  Code zone  \\\n",
       "33         FBSH  Bilans Alimentaire (Ancienne méthodologie et p...        351   \n",
       "\n",
       "     Zone  Code Élément            Élément  Code Produit     Produit  \\\n",
       "33  Chine           511  Population totale          2501  Population   \n",
       "\n",
       "    Code année  Année           Unité   Valeur Symbole  \\\n",
       "33        2013   2013  1000 personnes  1416667       A   \n",
       "\n",
       "                               Description du Symbole  \n",
       "33  Agrégat, peut inclure des données officielles,...  "
      ]
     },
     "execution_count": 12,
     "metadata": {},
     "output_type": "execute_result"
    }
   ],
   "source": [
    "df_population[x]"
   ]
  },
  {
   "cell_type": "markdown",
   "id": "b6214bae",
   "metadata": {},
   "source": [
    "# population mondiale"
   ]
  },
  {
   "cell_type": "code",
   "execution_count": null,
   "id": "3bf4933c",
   "metadata": {},
   "outputs": [],
   "source": [
    "population2013 = (df_population['Valeur'].sum()*1000)\n",
    "population2013"
   ]
  },
  {
   "cell_type": "code",
   "execution_count": 72,
   "id": "ddafe545",
   "metadata": {},
   "outputs": [
    {
     "name": "stdout",
     "output_type": "stream",
     "text": [
      "La population de la terre est  8413993000 , Mais en 2013, la population de la Terre, selon les données des Nations Unies, était de 7 210 581 976 \"https://www.worldometers.info/world-population/world-population-by-year/\"\n"
     ]
    }
   ],
   "source": [
    "print ('La population de la terre est ',population2013 , ', Mais en 2013, la population de la Terre, selon les données des Nations Unies, était de 7 210 581 976 \"https://www.worldometers.info/world-population/world-population-by-year/\"'\n",
    ")"
   ]
  },
  {
   "cell_type": "markdown",
   "id": "26f79d05",
   "metadata": {},
   "source": [
    "La Chine est comptée deux fois, dans la ligne 33 les données non officielles sont en double\n",
    "Si nous supprimons) la ligne contenant l'index 33 de notre ensemble de données."
   ]
  },
  {
   "cell_type": "code",
   "execution_count": 73,
   "id": "043982d3",
   "metadata": {},
   "outputs": [
    {
     "data": {
      "text/plain": [
       "6997326000"
      ]
     },
     "execution_count": 73,
     "metadata": {},
     "output_type": "execute_result"
    }
   ],
   "source": [
    "df_population['Valeur'].sum()*1000 - 1416667000"
   ]
  },
  {
   "cell_type": "code",
   "execution_count": null,
   "id": "992a439d",
   "metadata": {},
   "outputs": [],
   "source": []
  }
 ],
 "metadata": {
  "kernelspec": {
   "display_name": "Python 3",
   "language": "python",
   "name": "python3"
  },
  "language_info": {
   "codemirror_mode": {
    "name": "ipython",
    "version": 3
   },
   "file_extension": ".py",
   "mimetype": "text/x-python",
   "name": "python",
   "nbconvert_exporter": "python",
   "pygments_lexer": "ipython3",
   "version": "3.8.8"
  }
 },
 "nbformat": 4,
 "nbformat_minor": 5
}

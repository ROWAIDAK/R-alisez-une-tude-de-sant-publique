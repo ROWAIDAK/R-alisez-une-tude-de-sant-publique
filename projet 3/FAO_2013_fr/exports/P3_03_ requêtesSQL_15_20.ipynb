{
 "cells": [
  {
   "cell_type": "markdown",
   "id": "6fcffb57",
   "metadata": {},
   "source": [
    "# Exportation des DataFrames pour intégration Sqlit # P3_Réalisez une étude de santé publique"
   ]
  },
  {
   "cell_type": "code",
   "execution_count": 298,
   "id": "ba98c6ef",
   "metadata": {},
   "outputs": [],
   "source": [
    "#impotter des librairies\n",
    "import pandas as pd\n",
    "import numpy as np\n",
    "#impotter de librairie sqlite3 et Créer une base de données\n",
    "import csv ,sqlite3\n",
    "#Faire la base de données \n",
    "con = sqlite3.connect('la faim dans le monde en 2013.db ')\n",
    "cur =con.cursor()"
   ]
  },
  {
   "cell_type": "markdown",
   "id": "b553dfeb",
   "metadata": {},
   "source": [
    "# Question 15 : Proposez une clé primaire pertinente pour cette table.¶\n",
    "Votre base devra contenir ces différentes tables : Une table appelée population, contenant la population de chaque pays pour 2013. Elle devra contenir 4 colonnes : pays, code_pays, annee, population."
   ]
  },
  {
   "cell_type": "markdown",
   "id": "51544e97",
   "metadata": {},
   "source": [
    "##### Réponse à la question 15 : Tableau « Population »\\ J'ai choisi la propriété \"code pays\" comme clé primaire car elle est unique et courte et ne peut pas être nulle"
   ]
  },
  {
   "cell_type": "code",
   "execution_count": 299,
   "id": "4939b3ce",
   "metadata": {},
   "outputs": [],
   "source": [
    "#Créer une table à l'aide de sqlite\n",
    "cur.execute(\"\"\"CREATE TABLE 'population' (\n",
    "\"pays\" TEXT NOT NULL,\n",
    " \"code_pays\" INTEGER NOT NULL,\n",
    " \"annee\" INTEGER NOT NULL,\n",
    " \"population\" INTEGER NOT NULL,\n",
    " PRIMARY KEY(\"code_pays\")\n",
    ")\"\"\");\n"
   ]
  },
  {
   "cell_type": "code",
   "execution_count": 300,
   "id": "c4741d09",
   "metadata": {},
   "outputs": [],
   "source": [
    "#importer un fichier CSV\n",
    "df_population = pd.read_csv('population.csv')\n",
    "#Exporter la table en tant que SQL dans une base de données\n",
    "df_population.to_sql('population', con, if_exists='append', index=False)"
   ]
  },
  {
   "cell_type": "code",
   "execution_count": 301,
   "id": "8f3d97a3",
   "metadata": {},
   "outputs": [
    {
     "data": {
      "text/plain": [
       "[('Arménie', 1, 2013, 2977000),\n",
       " ('Afghanistan', 2, 2013, 30552000),\n",
       " ('Albanie', 3, 2013, 3173000),\n",
       " ('Algérie', 4, 2013, 39208000),\n",
       " ('Angola', 7, 2013, 21472000),\n",
       " ('Antigua-et-Barbuda', 8, 2013, 90000),\n",
       " ('Argentine', 9, 2013, 41446000),\n",
       " ('Australie', 10, 2013, 23343000),\n",
       " ('Autriche', 11, 2013, 8495000),\n",
       " ('Bahamas', 12, 2013, 377000),\n",
       " ('Barbade', 14, 2013, 285000),\n",
       " ('Bangladesh', 16, 2013, 156595000),\n",
       " ('Bermudes', 17, 2013, 65000),\n",
       " ('Bolivie (État plurinational de)', 19, 2013, 10671000),\n",
       " ('Botswana', 20, 2013, 2021000),\n",
       " ('Brésil', 21, 2013, 200362000),\n",
       " ('Belize', 23, 2013, 332000),\n",
       " ('Îles Salomon', 25, 2013, 561000),\n",
       " ('Brunéi Darussalam', 26, 2013, 418000),\n",
       " ('Bulgarie', 27, 2013, 7223000),\n",
       " ('Myanmar', 28, 2013, 53259000),\n",
       " ('Cameroun', 32, 2013, 22254000),\n",
       " ('Canada', 33, 2013, 35182000),\n",
       " ('Cabo Verde', 35, 2013, 499000),\n",
       " ('République centrafricaine', 37, 2013, 4616000),\n",
       " ('Sri Lanka', 38, 2013, 21273000),\n",
       " ('Tchad', 39, 2013, 12825000),\n",
       " ('Chili', 40, 2013, 17620000),\n",
       " ('Chine, continentale', 41, 2013, 1385567000),\n",
       " ('Colombie', 44, 2013, 48321000),\n",
       " ('Congo', 46, 2013, 4448000),\n",
       " ('Costa Rica', 48, 2013, 4872000),\n",
       " ('Cuba', 49, 2013, 11266000),\n",
       " ('Chypre', 50, 2013, 1141000),\n",
       " ('Azerbaïdjan', 52, 2013, 9413000),\n",
       " ('Bénin', 53, 2013, 10323000),\n",
       " ('Danemark', 54, 2013, 5619000),\n",
       " ('Dominique', 55, 2013, 72000),\n",
       " ('République dominicaine', 56, 2013, 10404000),\n",
       " ('Bélarus', 57, 2013, 9357000),\n",
       " ('Équateur', 58, 2013, 15738000),\n",
       " ('Égypte', 59, 2013, 82056000),\n",
       " ('El Salvador', 60, 2013, 6340000),\n",
       " ('Estonie', 63, 2013, 1287000),\n",
       " ('Fidji', 66, 2013, 881000),\n",
       " ('Finlande', 67, 2013, 5426000),\n",
       " ('France', 68, 2013, 64291000),\n",
       " ('Polynésie française', 70, 2013, 277000),\n",
       " ('Djibouti', 72, 2013, 873000),\n",
       " ('Géorgie', 73, 2013, 4341000),\n",
       " ('Gabon', 74, 2013, 1672000),\n",
       " ('Gambie', 75, 2013, 1849000),\n",
       " ('Allemagne', 79, 2013, 82727000),\n",
       " ('Bosnie-Herzégovine', 80, 2013, 3829000),\n",
       " ('Ghana', 81, 2013, 25905000),\n",
       " ('Kiribati', 83, 2013, 102000),\n",
       " ('Grèce', 84, 2013, 11128000),\n",
       " ('Grenade', 86, 2013, 106000),\n",
       " ('Guatemala', 89, 2013, 15468000),\n",
       " ('Guinée', 90, 2013, 11745000),\n",
       " ('Guyana', 91, 2013, 800000),\n",
       " ('Haïti', 93, 2013, 10317000),\n",
       " ('Honduras', 95, 2013, 8096000),\n",
       " ('Chine - RAS de Hong-Kong', 96, 2013, 7204000),\n",
       " ('Hongrie', 97, 2013, 9955000),\n",
       " ('Croatie', 98, 2013, 4290000),\n",
       " ('Islande', 99, 2013, 330000),\n",
       " ('Inde', 100, 2013, 1252140000),\n",
       " ('Indonésie', 101, 2013, 249866000),\n",
       " (\"Iran (République islamique d')\", 102, 2013, 77447000),\n",
       " ('Iraq', 103, 2013, 33765000),\n",
       " ('Irlande', 104, 2013, 4627000),\n",
       " ('Israël', 105, 2013, 7733000),\n",
       " ('Italie', 106, 2013, 60990000),\n",
       " (\"Côte d'Ivoire\", 107, 2013, 20316000),\n",
       " ('Kazakhstan', 108, 2013, 16441000),\n",
       " ('Jamaïque', 109, 2013, 2784000),\n",
       " ('Japon', 110, 2013, 127144000),\n",
       " ('Jordanie', 112, 2013, 7274000),\n",
       " ('Kirghizistan', 113, 2013, 5548000),\n",
       " ('Kenya', 114, 2013, 44354000),\n",
       " ('Cambodge', 115, 2013, 15135000),\n",
       " ('République populaire démocratique de Corée', 116, 2013, 24895000),\n",
       " ('République de Corée', 117, 2013, 49263000),\n",
       " ('Koweït', 118, 2013, 3369000),\n",
       " ('Lettonie', 119, 2013, 2050000),\n",
       " ('République démocratique populaire lao', 120, 2013, 6770000),\n",
       " ('Liban', 121, 2013, 4822000),\n",
       " ('Lesotho', 122, 2013, 2074000),\n",
       " ('Libéria', 123, 2013, 4294000),\n",
       " ('Lituanie', 126, 2013, 3017000),\n",
       " ('Chine - RAS de Macao', 128, 2013, 566000),\n",
       " ('Madagascar', 129, 2013, 22925000),\n",
       " ('Malawi', 130, 2013, 16363000),\n",
       " ('Malaisie', 131, 2013, 29717000),\n",
       " ('Maldives', 132, 2013, 345000),\n",
       " ('Mali', 133, 2013, 15302000),\n",
       " ('Malte', 134, 2013, 429000),\n",
       " ('Mauritanie', 136, 2013, 3890000),\n",
       " ('Maurice', 137, 2013, 1244000),\n",
       " ('Mexique', 138, 2013, 122332000),\n",
       " ('Mongolie', 141, 2013, 2839000),\n",
       " ('Maroc', 143, 2013, 33008000),\n",
       " ('Mozambique', 144, 2013, 25834000),\n",
       " ('République de Moldova', 146, 2013, 3487000),\n",
       " ('Namibie', 147, 2013, 2303000),\n",
       " ('Népal', 149, 2013, 27797000),\n",
       " ('Pays-Bas', 150, 2013, 16759000),\n",
       " ('Nouvelle-Calédonie', 153, 2013, 256000),\n",
       " ('Macédoine du Nord', 154, 2013, 2107000),\n",
       " ('Vanuatu', 155, 2013, 253000),\n",
       " ('Nouvelle-Zélande', 156, 2013, 4506000),\n",
       " ('Nicaragua', 157, 2013, 6080000),\n",
       " ('Niger', 158, 2013, 17831000),\n",
       " ('Nigéria', 159, 2013, 173615000),\n",
       " ('Norvège', 162, 2013, 5043000),\n",
       " ('Pakistan', 165, 2013, 182143000),\n",
       " ('Panama', 166, 2013, 3864000),\n",
       " ('Tchéquie (la)', 167, 2013, 10702000),\n",
       " ('Paraguay', 169, 2013, 6802000),\n",
       " ('Pérou', 170, 2013, 30376000),\n",
       " ('Philippines', 171, 2013, 98394000),\n",
       " ('Pologne', 173, 2013, 38217000),\n",
       " ('Portugal', 174, 2013, 10608000),\n",
       " ('Guinée-Bissau', 175, 2013, 1704000),\n",
       " ('Timor-Leste', 176, 2013, 1133000),\n",
       " ('Zimbabwe', 181, 2013, 14150000),\n",
       " ('Roumanie', 183, 2013, 21699000),\n",
       " ('Rwanda', 184, 2013, 11777000),\n",
       " ('Fédération de Russie', 185, 2013, 142834000),\n",
       " ('Saint-Kitts-et-Nevis', 188, 2013, 54000),\n",
       " ('Sainte-Lucie', 189, 2013, 182000),\n",
       " ('Saint-Vincent-et-les Grenadines', 191, 2013, 109000),\n",
       " ('Sao Tomé-et-Principe', 193, 2013, 193000),\n",
       " ('Arabie saoudite', 194, 2013, 28829000),\n",
       " ('Sénégal', 195, 2013, 14133000),\n",
       " ('Sierra Leone', 197, 2013, 6092000),\n",
       " ('Slovénie', 198, 2013, 2072000),\n",
       " ('Slovaquie', 199, 2013, 5450000),\n",
       " ('Afrique du Sud', 202, 2013, 52776000),\n",
       " ('Espagne', 203, 2013, 46927000),\n",
       " ('Suriname', 207, 2013, 539000),\n",
       " ('Tadjikistan', 208, 2013, 8208000),\n",
       " ('Eswatini', 209, 2013, 1250000),\n",
       " ('Suède', 210, 2013, 9571000),\n",
       " ('Suisse', 211, 2013, 8078000),\n",
       " ('Turkménistan', 213, 2013, 5240000),\n",
       " ('Chine, Taiwan Province de', 214, 2013, 23330000),\n",
       " ('République-Unie de Tanzanie', 215, 2013, 49253000),\n",
       " ('Thaïlande', 216, 2013, 67011000),\n",
       " ('Togo', 217, 2013, 6817000),\n",
       " ('Trinité-et-Tobago', 220, 2013, 1341000),\n",
       " ('Oman', 221, 2013, 3632000),\n",
       " ('Tunisie', 222, 2013, 10997000),\n",
       " ('Turquie', 223, 2013, 74933000),\n",
       " ('Émirats arabes unis', 225, 2013, 9346000),\n",
       " ('Ouganda', 226, 2013, 37579000),\n",
       " ('Royaume-Uni', 229, 2013, 63384000),\n",
       " ('Ukraine', 230, 2013, 45239000),\n",
       " (\"États-Unis d'Amérique\", 231, 2013, 320051000),\n",
       " ('Burkina Faso', 233, 2013, 16935000),\n",
       " ('Uruguay', 234, 2013, 3407000),\n",
       " ('Ouzbékistan', 235, 2013, 28934000),\n",
       " ('Venezuela (République bolivarienne du)', 236, 2013, 30405000),\n",
       " ('Viet Nam', 237, 2013, 91680000),\n",
       " ('Éthiopie', 238, 2013, 94101000),\n",
       " ('Samoa', 244, 2013, 190000),\n",
       " ('Yémen', 249, 2013, 24407000),\n",
       " ('Zambie', 251, 2013, 14539000),\n",
       " ('Belgique', 255, 2013, 11104000),\n",
       " ('Luxembourg', 256, 2013, 530000),\n",
       " ('Serbie', 272, 2013, 9511000),\n",
       " ('Monténégro', 273, 2013, 621000),\n",
       " ('Soudan', 276, 2013, 37964000)]"
      ]
     },
     "execution_count": 301,
     "metadata": {},
     "output_type": "execute_result"
    }
   ],
   "source": [
    "#Requête de table\n",
    "cur.execute (\"select * from 'population'\")\n",
    "cur.fetchall()"
   ]
  },
  {
   "cell_type": "code",
   "execution_count": 302,
   "id": "d451c218",
   "metadata": {},
   "outputs": [
    {
     "name": "stdout",
     "output_type": "stream",
     "text": [
      "Arménie 1 2013 2977000\n",
      "Afghanistan 2 2013 30552000\n",
      "Albanie 3 2013 3173000\n",
      "Algérie 4 2013 39208000\n",
      "Angola 7 2013 21472000\n",
      "Antigua-et-Barbuda 8 2013 90000\n",
      "Argentine 9 2013 41446000\n",
      "Australie 10 2013 23343000\n",
      "Autriche 11 2013 8495000\n",
      "Bahamas 12 2013 377000\n",
      "Barbade 14 2013 285000\n",
      "Bangladesh 16 2013 156595000\n",
      "Bermudes 17 2013 65000\n",
      "Bolivie (État plurinational de) 19 2013 10671000\n",
      "Botswana 20 2013 2021000\n",
      "Brésil 21 2013 200362000\n",
      "Belize 23 2013 332000\n",
      "Îles Salomon 25 2013 561000\n",
      "Brunéi Darussalam 26 2013 418000\n",
      "Bulgarie 27 2013 7223000\n",
      "Myanmar 28 2013 53259000\n",
      "Cameroun 32 2013 22254000\n",
      "Canada 33 2013 35182000\n",
      "Cabo Verde 35 2013 499000\n",
      "République centrafricaine 37 2013 4616000\n",
      "Sri Lanka 38 2013 21273000\n",
      "Tchad 39 2013 12825000\n",
      "Chili 40 2013 17620000\n",
      "Chine, continentale 41 2013 1385567000\n",
      "Colombie 44 2013 48321000\n",
      "Congo 46 2013 4448000\n",
      "Costa Rica 48 2013 4872000\n",
      "Cuba 49 2013 11266000\n",
      "Chypre 50 2013 1141000\n",
      "Azerbaïdjan 52 2013 9413000\n",
      "Bénin 53 2013 10323000\n",
      "Danemark 54 2013 5619000\n",
      "Dominique 55 2013 72000\n",
      "République dominicaine 56 2013 10404000\n",
      "Bélarus 57 2013 9357000\n",
      "Équateur 58 2013 15738000\n",
      "Égypte 59 2013 82056000\n",
      "El Salvador 60 2013 6340000\n",
      "Estonie 63 2013 1287000\n",
      "Fidji 66 2013 881000\n",
      "Finlande 67 2013 5426000\n",
      "France 68 2013 64291000\n",
      "Polynésie française 70 2013 277000\n",
      "Djibouti 72 2013 873000\n",
      "Géorgie 73 2013 4341000\n",
      "Gabon 74 2013 1672000\n",
      "Gambie 75 2013 1849000\n",
      "Allemagne 79 2013 82727000\n",
      "Bosnie-Herzégovine 80 2013 3829000\n",
      "Ghana 81 2013 25905000\n",
      "Kiribati 83 2013 102000\n",
      "Grèce 84 2013 11128000\n",
      "Grenade 86 2013 106000\n",
      "Guatemala 89 2013 15468000\n",
      "Guinée 90 2013 11745000\n",
      "Guyana 91 2013 800000\n",
      "Haïti 93 2013 10317000\n",
      "Honduras 95 2013 8096000\n",
      "Chine - RAS de Hong-Kong 96 2013 7204000\n",
      "Hongrie 97 2013 9955000\n",
      "Croatie 98 2013 4290000\n",
      "Islande 99 2013 330000\n",
      "Inde 100 2013 1252140000\n",
      "Indonésie 101 2013 249866000\n",
      "Iran (République islamique d') 102 2013 77447000\n",
      "Iraq 103 2013 33765000\n",
      "Irlande 104 2013 4627000\n",
      "Israël 105 2013 7733000\n",
      "Italie 106 2013 60990000\n",
      "Côte d'Ivoire 107 2013 20316000\n",
      "Kazakhstan 108 2013 16441000\n",
      "Jamaïque 109 2013 2784000\n",
      "Japon 110 2013 127144000\n",
      "Jordanie 112 2013 7274000\n",
      "Kirghizistan 113 2013 5548000\n",
      "Kenya 114 2013 44354000\n",
      "Cambodge 115 2013 15135000\n",
      "République populaire démocratique de Corée 116 2013 24895000\n",
      "République de Corée 117 2013 49263000\n",
      "Koweït 118 2013 3369000\n",
      "Lettonie 119 2013 2050000\n",
      "République démocratique populaire lao 120 2013 6770000\n",
      "Liban 121 2013 4822000\n",
      "Lesotho 122 2013 2074000\n",
      "Libéria 123 2013 4294000\n",
      "Lituanie 126 2013 3017000\n",
      "Chine - RAS de Macao 128 2013 566000\n",
      "Madagascar 129 2013 22925000\n",
      "Malawi 130 2013 16363000\n",
      "Malaisie 131 2013 29717000\n",
      "Maldives 132 2013 345000\n",
      "Mali 133 2013 15302000\n",
      "Malte 134 2013 429000\n",
      "Mauritanie 136 2013 3890000\n",
      "Maurice 137 2013 1244000\n",
      "Mexique 138 2013 122332000\n",
      "Mongolie 141 2013 2839000\n",
      "Maroc 143 2013 33008000\n",
      "Mozambique 144 2013 25834000\n",
      "République de Moldova 146 2013 3487000\n",
      "Namibie 147 2013 2303000\n",
      "Népal 149 2013 27797000\n",
      "Pays-Bas 150 2013 16759000\n",
      "Nouvelle-Calédonie 153 2013 256000\n",
      "Macédoine du Nord 154 2013 2107000\n",
      "Vanuatu 155 2013 253000\n",
      "Nouvelle-Zélande 156 2013 4506000\n",
      "Nicaragua 157 2013 6080000\n",
      "Niger 158 2013 17831000\n",
      "Nigéria 159 2013 173615000\n",
      "Norvège 162 2013 5043000\n",
      "Pakistan 165 2013 182143000\n",
      "Panama 166 2013 3864000\n",
      "Tchéquie (la) 167 2013 10702000\n",
      "Paraguay 169 2013 6802000\n",
      "Pérou 170 2013 30376000\n",
      "Philippines 171 2013 98394000\n",
      "Pologne 173 2013 38217000\n",
      "Portugal 174 2013 10608000\n",
      "Guinée-Bissau 175 2013 1704000\n",
      "Timor-Leste 176 2013 1133000\n",
      "Zimbabwe 181 2013 14150000\n",
      "Roumanie 183 2013 21699000\n",
      "Rwanda 184 2013 11777000\n",
      "Fédération de Russie 185 2013 142834000\n",
      "Saint-Kitts-et-Nevis 188 2013 54000\n",
      "Sainte-Lucie 189 2013 182000\n",
      "Saint-Vincent-et-les Grenadines 191 2013 109000\n",
      "Sao Tomé-et-Principe 193 2013 193000\n",
      "Arabie saoudite 194 2013 28829000\n",
      "Sénégal 195 2013 14133000\n",
      "Sierra Leone 197 2013 6092000\n",
      "Slovénie 198 2013 2072000\n",
      "Slovaquie 199 2013 5450000\n",
      "Afrique du Sud 202 2013 52776000\n",
      "Espagne 203 2013 46927000\n",
      "Suriname 207 2013 539000\n",
      "Tadjikistan 208 2013 8208000\n",
      "Eswatini 209 2013 1250000\n",
      "Suède 210 2013 9571000\n",
      "Suisse 211 2013 8078000\n",
      "Turkménistan 213 2013 5240000\n",
      "Chine, Taiwan Province de 214 2013 23330000\n",
      "République-Unie de Tanzanie 215 2013 49253000\n",
      "Thaïlande 216 2013 67011000\n",
      "Togo 217 2013 6817000\n",
      "Trinité-et-Tobago 220 2013 1341000\n",
      "Oman 221 2013 3632000\n",
      "Tunisie 222 2013 10997000\n",
      "Turquie 223 2013 74933000\n",
      "Émirats arabes unis 225 2013 9346000\n",
      "Ouganda 226 2013 37579000\n",
      "Royaume-Uni 229 2013 63384000\n",
      "Ukraine 230 2013 45239000\n",
      "États-Unis d'Amérique 231 2013 320051000\n",
      "Burkina Faso 233 2013 16935000\n",
      "Uruguay 234 2013 3407000\n",
      "Ouzbékistan 235 2013 28934000\n",
      "Venezuela (République bolivarienne du) 236 2013 30405000\n",
      "Viet Nam 237 2013 91680000\n",
      "Éthiopie 238 2013 94101000\n",
      "Samoa 244 2013 190000\n",
      "Yémen 249 2013 24407000\n",
      "Zambie 251 2013 14539000\n",
      "Belgique 255 2013 11104000\n",
      "Luxembourg 256 2013 530000\n",
      "Serbie 272 2013 9511000\n",
      "Monténégro 273 2013 621000\n",
      "Soudan 276 2013 37964000\n"
     ]
    }
   ],
   "source": [
    "#Requête de table\n",
    "var = cur.execute (\"select * from 'population'\")\n",
    "for record in var :\n",
    "    print (record[0] ,record[1] , record[2], record[3])"
   ]
  },
  {
   "cell_type": "markdown",
   "id": "f4b52c9b",
   "metadata": {},
   "source": [
    "# Question 16 : Proposez une clé primaire pertinente pour cette table.\n",
    "Une table appelée dispo_alim contenant pour chaque pays et pour chaque produit en 2013, les informations suivantes:\\\n",
    "la nature du produit (deux valeurs possibles : “animal” ou “végétal”)\\\n",
    "disponibilité alimentaire en tonnes\\\n",
    "disponibilité alimentaire en Kcal/personne/jour\\\n",
    "disponibilité alimentaire de protéines en g/personne/jour\\\n",
    "disponibilité alimentaire de matières grasses en g/personne/jour\\\n",
    "Elle devra contenir ces colonnes : pays, code_pays, année, produit, code_produit, origin, dispo_alim_tonnes, \\dispo_alim_kcal_p_j, dispo_prot, dispo_mat_gr .\n"
   ]
  },
  {
   "cell_type": "markdown",
   "id": "d22bae9f",
   "metadata": {},
   "source": [
    "##### Réponse à la question 16. Le \"code pays\" ne peut pas être considéré comme la clé primaire, car il y a autant d'entrées pour un même pays que le nombre de produits.  De plus, le \"code produit\" ne peut pas être considéré comme une clé primaire car il y aura autant d'entrées pour un même produit que le nombre de pays. Nous allons donc considérer la clé primaire qui se compose de deux colonnes,\"code pays\" et \"code produit\""
   ]
  },
  {
   "cell_type": "code",
   "execution_count": 303,
   "id": "bec4104a",
   "metadata": {},
   "outputs": [],
   "source": [
    "#Créer une table à l'aide de sqlite\n",
    "cur.execute(\"\"\"CREATE TABLE 'dispo_alim' (\n",
    " \"code_pays\" INTEGER NOT NULL,\n",
    " \"pays\" TEXT,\n",
    " \"année\" INTEGER NOT NULL,\n",
    " \"code_produit\" INTEGER NOT NULL,\n",
    " \"produit\" TEXT,\n",
    " \"origin\" TEXT,\n",
    " \"dispo_alim_kcal_p_j\" REAL,\n",
    " \"dispo_prot\" REAL,\n",
    " \"dispo_mat_gr\" REAL,\n",
    " \"dispo_alim_tonnes\" REAL,\n",
    " PRIMARY KEY(\"code_pays\",\"code_produit\")\n",
    ")\"\"\");\n",
    "\n"
   ]
  },
  {
   "cell_type": "code",
   "execution_count": 304,
   "id": "83b73944",
   "metadata": {},
   "outputs": [
    {
     "ename": "FileNotFoundError",
     "evalue": "[Errno 2] No such file or directory: 'dispo_alim.csv'",
     "output_type": "error",
     "traceback": [
      "\u001b[0;31m---------------------------------------------------------------------------\u001b[0m",
      "\u001b[0;31mFileNotFoundError\u001b[0m                         Traceback (most recent call last)",
      "\u001b[0;32m<ipython-input-304-8b447cb4c684>\u001b[0m in \u001b[0;36m<module>\u001b[0;34m\u001b[0m\n\u001b[1;32m      1\u001b[0m \u001b[0;31m#importer un fichier CSV\u001b[0m\u001b[0;34m\u001b[0m\u001b[0;34m\u001b[0m\u001b[0;34m\u001b[0m\u001b[0m\n\u001b[0;32m----> 2\u001b[0;31m \u001b[0mdf_dispo_alim\u001b[0m \u001b[0;34m=\u001b[0m \u001b[0mpd\u001b[0m\u001b[0;34m.\u001b[0m\u001b[0mread_csv\u001b[0m\u001b[0;34m(\u001b[0m\u001b[0;34m'dispo_alim.csv'\u001b[0m\u001b[0;34m)\u001b[0m\u001b[0;34m\u001b[0m\u001b[0;34m\u001b[0m\u001b[0m\n\u001b[0m\u001b[1;32m      3\u001b[0m \u001b[0;31m#Exporter la table en tant que SQL dans une base de données\u001b[0m\u001b[0;34m\u001b[0m\u001b[0;34m\u001b[0m\u001b[0;34m\u001b[0m\u001b[0m\n\u001b[1;32m      4\u001b[0m \u001b[0mdf_dispo_alim\u001b[0m\u001b[0;34m.\u001b[0m\u001b[0mto_sql\u001b[0m\u001b[0;34m(\u001b[0m\u001b[0;34m'dispo_alim'\u001b[0m\u001b[0;34m,\u001b[0m \u001b[0mcon\u001b[0m\u001b[0;34m,\u001b[0m \u001b[0mif_exists\u001b[0m\u001b[0;34m=\u001b[0m\u001b[0;34m'append'\u001b[0m\u001b[0;34m,\u001b[0m \u001b[0mindex\u001b[0m\u001b[0;34m=\u001b[0m\u001b[0;32mFalse\u001b[0m\u001b[0;34m)\u001b[0m\u001b[0;34m\u001b[0m\u001b[0;34m\u001b[0m\u001b[0m\n",
      "\u001b[0;32m~/opt/anaconda3/lib/python3.8/site-packages/pandas/io/parsers.py\u001b[0m in \u001b[0;36mread_csv\u001b[0;34m(filepath_or_buffer, sep, delimiter, header, names, index_col, usecols, squeeze, prefix, mangle_dupe_cols, dtype, engine, converters, true_values, false_values, skipinitialspace, skiprows, skipfooter, nrows, na_values, keep_default_na, na_filter, verbose, skip_blank_lines, parse_dates, infer_datetime_format, keep_date_col, date_parser, dayfirst, cache_dates, iterator, chunksize, compression, thousands, decimal, lineterminator, quotechar, quoting, doublequote, escapechar, comment, encoding, dialect, error_bad_lines, warn_bad_lines, delim_whitespace, low_memory, memory_map, float_precision, storage_options)\u001b[0m\n\u001b[1;32m    608\u001b[0m     \u001b[0mkwds\u001b[0m\u001b[0;34m.\u001b[0m\u001b[0mupdate\u001b[0m\u001b[0;34m(\u001b[0m\u001b[0mkwds_defaults\u001b[0m\u001b[0;34m)\u001b[0m\u001b[0;34m\u001b[0m\u001b[0;34m\u001b[0m\u001b[0m\n\u001b[1;32m    609\u001b[0m \u001b[0;34m\u001b[0m\u001b[0m\n\u001b[0;32m--> 610\u001b[0;31m     \u001b[0;32mreturn\u001b[0m \u001b[0m_read\u001b[0m\u001b[0;34m(\u001b[0m\u001b[0mfilepath_or_buffer\u001b[0m\u001b[0;34m,\u001b[0m \u001b[0mkwds\u001b[0m\u001b[0;34m)\u001b[0m\u001b[0;34m\u001b[0m\u001b[0;34m\u001b[0m\u001b[0m\n\u001b[0m\u001b[1;32m    611\u001b[0m \u001b[0;34m\u001b[0m\u001b[0m\n\u001b[1;32m    612\u001b[0m \u001b[0;34m\u001b[0m\u001b[0m\n",
      "\u001b[0;32m~/opt/anaconda3/lib/python3.8/site-packages/pandas/io/parsers.py\u001b[0m in \u001b[0;36m_read\u001b[0;34m(filepath_or_buffer, kwds)\u001b[0m\n\u001b[1;32m    460\u001b[0m \u001b[0;34m\u001b[0m\u001b[0m\n\u001b[1;32m    461\u001b[0m     \u001b[0;31m# Create the parser.\u001b[0m\u001b[0;34m\u001b[0m\u001b[0;34m\u001b[0m\u001b[0;34m\u001b[0m\u001b[0m\n\u001b[0;32m--> 462\u001b[0;31m     \u001b[0mparser\u001b[0m \u001b[0;34m=\u001b[0m \u001b[0mTextFileReader\u001b[0m\u001b[0;34m(\u001b[0m\u001b[0mfilepath_or_buffer\u001b[0m\u001b[0;34m,\u001b[0m \u001b[0;34m**\u001b[0m\u001b[0mkwds\u001b[0m\u001b[0;34m)\u001b[0m\u001b[0;34m\u001b[0m\u001b[0;34m\u001b[0m\u001b[0m\n\u001b[0m\u001b[1;32m    463\u001b[0m \u001b[0;34m\u001b[0m\u001b[0m\n\u001b[1;32m    464\u001b[0m     \u001b[0;32mif\u001b[0m \u001b[0mchunksize\u001b[0m \u001b[0;32mor\u001b[0m \u001b[0miterator\u001b[0m\u001b[0;34m:\u001b[0m\u001b[0;34m\u001b[0m\u001b[0;34m\u001b[0m\u001b[0m\n",
      "\u001b[0;32m~/opt/anaconda3/lib/python3.8/site-packages/pandas/io/parsers.py\u001b[0m in \u001b[0;36m__init__\u001b[0;34m(self, f, engine, **kwds)\u001b[0m\n\u001b[1;32m    817\u001b[0m             \u001b[0mself\u001b[0m\u001b[0;34m.\u001b[0m\u001b[0moptions\u001b[0m\u001b[0;34m[\u001b[0m\u001b[0;34m\"has_index_names\"\u001b[0m\u001b[0;34m]\u001b[0m \u001b[0;34m=\u001b[0m \u001b[0mkwds\u001b[0m\u001b[0;34m[\u001b[0m\u001b[0;34m\"has_index_names\"\u001b[0m\u001b[0;34m]\u001b[0m\u001b[0;34m\u001b[0m\u001b[0;34m\u001b[0m\u001b[0m\n\u001b[1;32m    818\u001b[0m \u001b[0;34m\u001b[0m\u001b[0m\n\u001b[0;32m--> 819\u001b[0;31m         \u001b[0mself\u001b[0m\u001b[0;34m.\u001b[0m\u001b[0m_engine\u001b[0m \u001b[0;34m=\u001b[0m \u001b[0mself\u001b[0m\u001b[0;34m.\u001b[0m\u001b[0m_make_engine\u001b[0m\u001b[0;34m(\u001b[0m\u001b[0mself\u001b[0m\u001b[0;34m.\u001b[0m\u001b[0mengine\u001b[0m\u001b[0;34m)\u001b[0m\u001b[0;34m\u001b[0m\u001b[0;34m\u001b[0m\u001b[0m\n\u001b[0m\u001b[1;32m    820\u001b[0m \u001b[0;34m\u001b[0m\u001b[0m\n\u001b[1;32m    821\u001b[0m     \u001b[0;32mdef\u001b[0m \u001b[0mclose\u001b[0m\u001b[0;34m(\u001b[0m\u001b[0mself\u001b[0m\u001b[0;34m)\u001b[0m\u001b[0;34m:\u001b[0m\u001b[0;34m\u001b[0m\u001b[0;34m\u001b[0m\u001b[0m\n",
      "\u001b[0;32m~/opt/anaconda3/lib/python3.8/site-packages/pandas/io/parsers.py\u001b[0m in \u001b[0;36m_make_engine\u001b[0;34m(self, engine)\u001b[0m\n\u001b[1;32m   1048\u001b[0m             )\n\u001b[1;32m   1049\u001b[0m         \u001b[0;31m# error: Too many arguments for \"ParserBase\"\u001b[0m\u001b[0;34m\u001b[0m\u001b[0;34m\u001b[0m\u001b[0;34m\u001b[0m\u001b[0m\n\u001b[0;32m-> 1050\u001b[0;31m         \u001b[0;32mreturn\u001b[0m \u001b[0mmapping\u001b[0m\u001b[0;34m[\u001b[0m\u001b[0mengine\u001b[0m\u001b[0;34m]\u001b[0m\u001b[0;34m(\u001b[0m\u001b[0mself\u001b[0m\u001b[0;34m.\u001b[0m\u001b[0mf\u001b[0m\u001b[0;34m,\u001b[0m \u001b[0;34m**\u001b[0m\u001b[0mself\u001b[0m\u001b[0;34m.\u001b[0m\u001b[0moptions\u001b[0m\u001b[0;34m)\u001b[0m  \u001b[0;31m# type: ignore[call-arg]\u001b[0m\u001b[0;34m\u001b[0m\u001b[0;34m\u001b[0m\u001b[0m\n\u001b[0m\u001b[1;32m   1051\u001b[0m \u001b[0;34m\u001b[0m\u001b[0m\n\u001b[1;32m   1052\u001b[0m     \u001b[0;32mdef\u001b[0m \u001b[0m_failover_to_python\u001b[0m\u001b[0;34m(\u001b[0m\u001b[0mself\u001b[0m\u001b[0;34m)\u001b[0m\u001b[0;34m:\u001b[0m\u001b[0;34m\u001b[0m\u001b[0;34m\u001b[0m\u001b[0m\n",
      "\u001b[0;32m~/opt/anaconda3/lib/python3.8/site-packages/pandas/io/parsers.py\u001b[0m in \u001b[0;36m__init__\u001b[0;34m(self, src, **kwds)\u001b[0m\n\u001b[1;32m   1865\u001b[0m \u001b[0;34m\u001b[0m\u001b[0m\n\u001b[1;32m   1866\u001b[0m         \u001b[0;31m# open handles\u001b[0m\u001b[0;34m\u001b[0m\u001b[0;34m\u001b[0m\u001b[0;34m\u001b[0m\u001b[0m\n\u001b[0;32m-> 1867\u001b[0;31m         \u001b[0mself\u001b[0m\u001b[0;34m.\u001b[0m\u001b[0m_open_handles\u001b[0m\u001b[0;34m(\u001b[0m\u001b[0msrc\u001b[0m\u001b[0;34m,\u001b[0m \u001b[0mkwds\u001b[0m\u001b[0;34m)\u001b[0m\u001b[0;34m\u001b[0m\u001b[0;34m\u001b[0m\u001b[0m\n\u001b[0m\u001b[1;32m   1868\u001b[0m         \u001b[0;32massert\u001b[0m \u001b[0mself\u001b[0m\u001b[0;34m.\u001b[0m\u001b[0mhandles\u001b[0m \u001b[0;32mis\u001b[0m \u001b[0;32mnot\u001b[0m \u001b[0;32mNone\u001b[0m\u001b[0;34m\u001b[0m\u001b[0;34m\u001b[0m\u001b[0m\n\u001b[1;32m   1869\u001b[0m         \u001b[0;32mfor\u001b[0m \u001b[0mkey\u001b[0m \u001b[0;32min\u001b[0m \u001b[0;34m(\u001b[0m\u001b[0;34m\"storage_options\"\u001b[0m\u001b[0;34m,\u001b[0m \u001b[0;34m\"encoding\"\u001b[0m\u001b[0;34m,\u001b[0m \u001b[0;34m\"memory_map\"\u001b[0m\u001b[0;34m,\u001b[0m \u001b[0;34m\"compression\"\u001b[0m\u001b[0;34m)\u001b[0m\u001b[0;34m:\u001b[0m\u001b[0;34m\u001b[0m\u001b[0;34m\u001b[0m\u001b[0m\n",
      "\u001b[0;32m~/opt/anaconda3/lib/python3.8/site-packages/pandas/io/parsers.py\u001b[0m in \u001b[0;36m_open_handles\u001b[0;34m(self, src, kwds)\u001b[0m\n\u001b[1;32m   1360\u001b[0m         \u001b[0mLet\u001b[0m \u001b[0mthe\u001b[0m \u001b[0mreaders\u001b[0m \u001b[0mopen\u001b[0m \u001b[0mIOHanldes\u001b[0m \u001b[0mafter\u001b[0m \u001b[0mthey\u001b[0m \u001b[0mare\u001b[0m \u001b[0mdone\u001b[0m \u001b[0;32mwith\u001b[0m \u001b[0mtheir\u001b[0m \u001b[0mpotential\u001b[0m \u001b[0mraises\u001b[0m\u001b[0;34m.\u001b[0m\u001b[0;34m\u001b[0m\u001b[0;34m\u001b[0m\u001b[0m\n\u001b[1;32m   1361\u001b[0m         \"\"\"\n\u001b[0;32m-> 1362\u001b[0;31m         self.handles = get_handle(\n\u001b[0m\u001b[1;32m   1363\u001b[0m             \u001b[0msrc\u001b[0m\u001b[0;34m,\u001b[0m\u001b[0;34m\u001b[0m\u001b[0;34m\u001b[0m\u001b[0m\n\u001b[1;32m   1364\u001b[0m             \u001b[0;34m\"r\"\u001b[0m\u001b[0;34m,\u001b[0m\u001b[0;34m\u001b[0m\u001b[0;34m\u001b[0m\u001b[0m\n",
      "\u001b[0;32m~/opt/anaconda3/lib/python3.8/site-packages/pandas/io/common.py\u001b[0m in \u001b[0;36mget_handle\u001b[0;34m(path_or_buf, mode, encoding, compression, memory_map, is_text, errors, storage_options)\u001b[0m\n\u001b[1;32m    640\u001b[0m                 \u001b[0merrors\u001b[0m \u001b[0;34m=\u001b[0m \u001b[0;34m\"replace\"\u001b[0m\u001b[0;34m\u001b[0m\u001b[0;34m\u001b[0m\u001b[0m\n\u001b[1;32m    641\u001b[0m             \u001b[0;31m# Encoding\u001b[0m\u001b[0;34m\u001b[0m\u001b[0;34m\u001b[0m\u001b[0;34m\u001b[0m\u001b[0m\n\u001b[0;32m--> 642\u001b[0;31m             handle = open(\n\u001b[0m\u001b[1;32m    643\u001b[0m                 \u001b[0mhandle\u001b[0m\u001b[0;34m,\u001b[0m\u001b[0;34m\u001b[0m\u001b[0;34m\u001b[0m\u001b[0m\n\u001b[1;32m    644\u001b[0m                 \u001b[0mioargs\u001b[0m\u001b[0;34m.\u001b[0m\u001b[0mmode\u001b[0m\u001b[0;34m,\u001b[0m\u001b[0;34m\u001b[0m\u001b[0;34m\u001b[0m\u001b[0m\n",
      "\u001b[0;31mFileNotFoundError\u001b[0m: [Errno 2] No such file or directory: 'dispo_alim.csv'"
     ]
    }
   ],
   "source": [
    "#importer un fichier CSV\n",
    "df_dispo_alim = pd.read_csv('dispo_alim.csv')\n",
    "#Exporter la table en tant que SQL dans une base de données\n",
    "df_dispo_alim.to_sql('dispo_alim', con, if_exists='append', index=False)\n"
   ]
  },
  {
   "cell_type": "code",
   "execution_count": 305,
   "id": "2d0e8153",
   "metadata": {},
   "outputs": [
    {
     "name": "stdout",
     "output_type": "stream",
     "text": [
      "[]\n"
     ]
    }
   ],
   "source": [
    "#Requête de table\n",
    "cur.execute (\"select * from 'dispo_alim'\")\n",
    "print (cur.fetchmany(10))"
   ]
  },
  {
   "cell_type": "markdown",
   "id": "b6c5bd1e",
   "metadata": {},
   "source": [
    "# Question 17 : Proposez une clé primaire pertinente pour  table  \"equilibre_prod\".\n",
    "Une table appelée equilibre_prod contenant pour chaque pays et pour chaque produit en 2013, les quantités suivantes :\\\n",
    "disponibilité intérieure\\\n",
    "aliments pour animaux\\\n",
    "semences\\\n",
    "pertes\\\n",
    "transformés\\\n",
    "nourriture\\\n",
    "autres utilisations\\\n",
    "Elle devra contenir ces colonnes : pays, code_pays, année, produit, code_produit, dispo_int, alim_ani, semences, \\pertes, transfo, nourriture, autres_utilisations."
   ]
  },
  {
   "cell_type": "markdown",
   "id": "b5bf25e2",
   "metadata": {},
   "source": [
    "##### Réponse à la question 17 : Choix de la clé primaire. \\ Le \"code pays\" ne peut pas être considéré comme la clé primaire, car il y a autant d'entrées pour un même pays que le nombre de produits. De plus, le \"code produit\" ne peut pas être considéré comme une clé primaire car il y aura autant d'entrées pour un même produit que le nombre de pays. Nous allons donc considérer la clé primaire qui se compose de deux colonnes,\" code pays\" et \"code produit\""
   ]
  },
  {
   "cell_type": "code",
   "execution_count": 306,
   "id": "bb23b390",
   "metadata": {},
   "outputs": [],
   "source": [
    "#Créer une table à l'aide de sqlite\n",
    "cur.execute(\"\"\"CREATE TABLE 'equilibre_prod' (\n",
    " \"pays\" TEXT,\n",
    " \"code_pays\" INTEGER NOT NULL,\n",
    " \"année\" INTEGER NOT NULL,\n",
    " \"produit\" TEXT NOT NULL,\n",
    " \"code_produit\" INTEGER NOT NULL,\n",
    " \"dispo_int\" REAL,\n",
    " \"alim_ani\" REAL,\n",
    " \"semences\" REAL,\n",
    " \"pertes\" REAL,\n",
    " \"transfo\" REAL,\n",
    " \"nourriture\" REAL,\n",
    " \"autres_utilisations\" REAL,\n",
    " PRIMARY KEY(\"code_pays\",\"code_produit\")\n",
    ")\"\"\");"
   ]
  },
  {
   "cell_type": "code",
   "execution_count": 307,
   "id": "2f7e12f3",
   "metadata": {},
   "outputs": [
    {
     "ename": "FileNotFoundError",
     "evalue": "[Errno 2] No such file or directory: 'equilibre_prod.csv'",
     "output_type": "error",
     "traceback": [
      "\u001b[0;31m---------------------------------------------------------------------------\u001b[0m",
      "\u001b[0;31mFileNotFoundError\u001b[0m                         Traceback (most recent call last)",
      "\u001b[0;32m<ipython-input-307-d242624efb7e>\u001b[0m in \u001b[0;36m<module>\u001b[0;34m\u001b[0m\n\u001b[1;32m      1\u001b[0m \u001b[0;31m#importer un fichier CSV\u001b[0m\u001b[0;34m\u001b[0m\u001b[0;34m\u001b[0m\u001b[0;34m\u001b[0m\u001b[0m\n\u001b[0;32m----> 2\u001b[0;31m \u001b[0mdf_equilibre_prod\u001b[0m \u001b[0;34m=\u001b[0m \u001b[0mpd\u001b[0m\u001b[0;34m.\u001b[0m\u001b[0mread_csv\u001b[0m\u001b[0;34m(\u001b[0m\u001b[0;34m'equilibre_prod.csv'\u001b[0m\u001b[0;34m)\u001b[0m\u001b[0;34m\u001b[0m\u001b[0;34m\u001b[0m\u001b[0m\n\u001b[0m\u001b[1;32m      3\u001b[0m \u001b[0;31m#Exporter la table en tant que SQL dans une base de données\u001b[0m\u001b[0;34m\u001b[0m\u001b[0;34m\u001b[0m\u001b[0;34m\u001b[0m\u001b[0m\n\u001b[1;32m      4\u001b[0m \u001b[0mdf_equilibre_prod\u001b[0m\u001b[0;34m.\u001b[0m\u001b[0mto_sql\u001b[0m\u001b[0;34m(\u001b[0m\u001b[0;34m'equilibre_prod'\u001b[0m\u001b[0;34m,\u001b[0m \u001b[0mcon\u001b[0m\u001b[0;34m,\u001b[0m \u001b[0mif_exists\u001b[0m\u001b[0;34m=\u001b[0m\u001b[0;34m'append'\u001b[0m\u001b[0;34m,\u001b[0m \u001b[0mindex\u001b[0m\u001b[0;34m=\u001b[0m\u001b[0;32mFalse\u001b[0m\u001b[0;34m)\u001b[0m\u001b[0;34m\u001b[0m\u001b[0;34m\u001b[0m\u001b[0m\n",
      "\u001b[0;32m~/opt/anaconda3/lib/python3.8/site-packages/pandas/io/parsers.py\u001b[0m in \u001b[0;36mread_csv\u001b[0;34m(filepath_or_buffer, sep, delimiter, header, names, index_col, usecols, squeeze, prefix, mangle_dupe_cols, dtype, engine, converters, true_values, false_values, skipinitialspace, skiprows, skipfooter, nrows, na_values, keep_default_na, na_filter, verbose, skip_blank_lines, parse_dates, infer_datetime_format, keep_date_col, date_parser, dayfirst, cache_dates, iterator, chunksize, compression, thousands, decimal, lineterminator, quotechar, quoting, doublequote, escapechar, comment, encoding, dialect, error_bad_lines, warn_bad_lines, delim_whitespace, low_memory, memory_map, float_precision, storage_options)\u001b[0m\n\u001b[1;32m    608\u001b[0m     \u001b[0mkwds\u001b[0m\u001b[0;34m.\u001b[0m\u001b[0mupdate\u001b[0m\u001b[0;34m(\u001b[0m\u001b[0mkwds_defaults\u001b[0m\u001b[0;34m)\u001b[0m\u001b[0;34m\u001b[0m\u001b[0;34m\u001b[0m\u001b[0m\n\u001b[1;32m    609\u001b[0m \u001b[0;34m\u001b[0m\u001b[0m\n\u001b[0;32m--> 610\u001b[0;31m     \u001b[0;32mreturn\u001b[0m \u001b[0m_read\u001b[0m\u001b[0;34m(\u001b[0m\u001b[0mfilepath_or_buffer\u001b[0m\u001b[0;34m,\u001b[0m \u001b[0mkwds\u001b[0m\u001b[0;34m)\u001b[0m\u001b[0;34m\u001b[0m\u001b[0;34m\u001b[0m\u001b[0m\n\u001b[0m\u001b[1;32m    611\u001b[0m \u001b[0;34m\u001b[0m\u001b[0m\n\u001b[1;32m    612\u001b[0m \u001b[0;34m\u001b[0m\u001b[0m\n",
      "\u001b[0;32m~/opt/anaconda3/lib/python3.8/site-packages/pandas/io/parsers.py\u001b[0m in \u001b[0;36m_read\u001b[0;34m(filepath_or_buffer, kwds)\u001b[0m\n\u001b[1;32m    460\u001b[0m \u001b[0;34m\u001b[0m\u001b[0m\n\u001b[1;32m    461\u001b[0m     \u001b[0;31m# Create the parser.\u001b[0m\u001b[0;34m\u001b[0m\u001b[0;34m\u001b[0m\u001b[0;34m\u001b[0m\u001b[0m\n\u001b[0;32m--> 462\u001b[0;31m     \u001b[0mparser\u001b[0m \u001b[0;34m=\u001b[0m \u001b[0mTextFileReader\u001b[0m\u001b[0;34m(\u001b[0m\u001b[0mfilepath_or_buffer\u001b[0m\u001b[0;34m,\u001b[0m \u001b[0;34m**\u001b[0m\u001b[0mkwds\u001b[0m\u001b[0;34m)\u001b[0m\u001b[0;34m\u001b[0m\u001b[0;34m\u001b[0m\u001b[0m\n\u001b[0m\u001b[1;32m    463\u001b[0m \u001b[0;34m\u001b[0m\u001b[0m\n\u001b[1;32m    464\u001b[0m     \u001b[0;32mif\u001b[0m \u001b[0mchunksize\u001b[0m \u001b[0;32mor\u001b[0m \u001b[0miterator\u001b[0m\u001b[0;34m:\u001b[0m\u001b[0;34m\u001b[0m\u001b[0;34m\u001b[0m\u001b[0m\n",
      "\u001b[0;32m~/opt/anaconda3/lib/python3.8/site-packages/pandas/io/parsers.py\u001b[0m in \u001b[0;36m__init__\u001b[0;34m(self, f, engine, **kwds)\u001b[0m\n\u001b[1;32m    817\u001b[0m             \u001b[0mself\u001b[0m\u001b[0;34m.\u001b[0m\u001b[0moptions\u001b[0m\u001b[0;34m[\u001b[0m\u001b[0;34m\"has_index_names\"\u001b[0m\u001b[0;34m]\u001b[0m \u001b[0;34m=\u001b[0m \u001b[0mkwds\u001b[0m\u001b[0;34m[\u001b[0m\u001b[0;34m\"has_index_names\"\u001b[0m\u001b[0;34m]\u001b[0m\u001b[0;34m\u001b[0m\u001b[0;34m\u001b[0m\u001b[0m\n\u001b[1;32m    818\u001b[0m \u001b[0;34m\u001b[0m\u001b[0m\n\u001b[0;32m--> 819\u001b[0;31m         \u001b[0mself\u001b[0m\u001b[0;34m.\u001b[0m\u001b[0m_engine\u001b[0m \u001b[0;34m=\u001b[0m \u001b[0mself\u001b[0m\u001b[0;34m.\u001b[0m\u001b[0m_make_engine\u001b[0m\u001b[0;34m(\u001b[0m\u001b[0mself\u001b[0m\u001b[0;34m.\u001b[0m\u001b[0mengine\u001b[0m\u001b[0;34m)\u001b[0m\u001b[0;34m\u001b[0m\u001b[0;34m\u001b[0m\u001b[0m\n\u001b[0m\u001b[1;32m    820\u001b[0m \u001b[0;34m\u001b[0m\u001b[0m\n\u001b[1;32m    821\u001b[0m     \u001b[0;32mdef\u001b[0m \u001b[0mclose\u001b[0m\u001b[0;34m(\u001b[0m\u001b[0mself\u001b[0m\u001b[0;34m)\u001b[0m\u001b[0;34m:\u001b[0m\u001b[0;34m\u001b[0m\u001b[0;34m\u001b[0m\u001b[0m\n",
      "\u001b[0;32m~/opt/anaconda3/lib/python3.8/site-packages/pandas/io/parsers.py\u001b[0m in \u001b[0;36m_make_engine\u001b[0;34m(self, engine)\u001b[0m\n\u001b[1;32m   1048\u001b[0m             )\n\u001b[1;32m   1049\u001b[0m         \u001b[0;31m# error: Too many arguments for \"ParserBase\"\u001b[0m\u001b[0;34m\u001b[0m\u001b[0;34m\u001b[0m\u001b[0;34m\u001b[0m\u001b[0m\n\u001b[0;32m-> 1050\u001b[0;31m         \u001b[0;32mreturn\u001b[0m \u001b[0mmapping\u001b[0m\u001b[0;34m[\u001b[0m\u001b[0mengine\u001b[0m\u001b[0;34m]\u001b[0m\u001b[0;34m(\u001b[0m\u001b[0mself\u001b[0m\u001b[0;34m.\u001b[0m\u001b[0mf\u001b[0m\u001b[0;34m,\u001b[0m \u001b[0;34m**\u001b[0m\u001b[0mself\u001b[0m\u001b[0;34m.\u001b[0m\u001b[0moptions\u001b[0m\u001b[0;34m)\u001b[0m  \u001b[0;31m# type: ignore[call-arg]\u001b[0m\u001b[0;34m\u001b[0m\u001b[0;34m\u001b[0m\u001b[0m\n\u001b[0m\u001b[1;32m   1051\u001b[0m \u001b[0;34m\u001b[0m\u001b[0m\n\u001b[1;32m   1052\u001b[0m     \u001b[0;32mdef\u001b[0m \u001b[0m_failover_to_python\u001b[0m\u001b[0;34m(\u001b[0m\u001b[0mself\u001b[0m\u001b[0;34m)\u001b[0m\u001b[0;34m:\u001b[0m\u001b[0;34m\u001b[0m\u001b[0;34m\u001b[0m\u001b[0m\n",
      "\u001b[0;32m~/opt/anaconda3/lib/python3.8/site-packages/pandas/io/parsers.py\u001b[0m in \u001b[0;36m__init__\u001b[0;34m(self, src, **kwds)\u001b[0m\n\u001b[1;32m   1865\u001b[0m \u001b[0;34m\u001b[0m\u001b[0m\n\u001b[1;32m   1866\u001b[0m         \u001b[0;31m# open handles\u001b[0m\u001b[0;34m\u001b[0m\u001b[0;34m\u001b[0m\u001b[0;34m\u001b[0m\u001b[0m\n\u001b[0;32m-> 1867\u001b[0;31m         \u001b[0mself\u001b[0m\u001b[0;34m.\u001b[0m\u001b[0m_open_handles\u001b[0m\u001b[0;34m(\u001b[0m\u001b[0msrc\u001b[0m\u001b[0;34m,\u001b[0m \u001b[0mkwds\u001b[0m\u001b[0;34m)\u001b[0m\u001b[0;34m\u001b[0m\u001b[0;34m\u001b[0m\u001b[0m\n\u001b[0m\u001b[1;32m   1868\u001b[0m         \u001b[0;32massert\u001b[0m \u001b[0mself\u001b[0m\u001b[0;34m.\u001b[0m\u001b[0mhandles\u001b[0m \u001b[0;32mis\u001b[0m \u001b[0;32mnot\u001b[0m \u001b[0;32mNone\u001b[0m\u001b[0;34m\u001b[0m\u001b[0;34m\u001b[0m\u001b[0m\n\u001b[1;32m   1869\u001b[0m         \u001b[0;32mfor\u001b[0m \u001b[0mkey\u001b[0m \u001b[0;32min\u001b[0m \u001b[0;34m(\u001b[0m\u001b[0;34m\"storage_options\"\u001b[0m\u001b[0;34m,\u001b[0m \u001b[0;34m\"encoding\"\u001b[0m\u001b[0;34m,\u001b[0m \u001b[0;34m\"memory_map\"\u001b[0m\u001b[0;34m,\u001b[0m \u001b[0;34m\"compression\"\u001b[0m\u001b[0;34m)\u001b[0m\u001b[0;34m:\u001b[0m\u001b[0;34m\u001b[0m\u001b[0;34m\u001b[0m\u001b[0m\n",
      "\u001b[0;32m~/opt/anaconda3/lib/python3.8/site-packages/pandas/io/parsers.py\u001b[0m in \u001b[0;36m_open_handles\u001b[0;34m(self, src, kwds)\u001b[0m\n\u001b[1;32m   1360\u001b[0m         \u001b[0mLet\u001b[0m \u001b[0mthe\u001b[0m \u001b[0mreaders\u001b[0m \u001b[0mopen\u001b[0m \u001b[0mIOHanldes\u001b[0m \u001b[0mafter\u001b[0m \u001b[0mthey\u001b[0m \u001b[0mare\u001b[0m \u001b[0mdone\u001b[0m \u001b[0;32mwith\u001b[0m \u001b[0mtheir\u001b[0m \u001b[0mpotential\u001b[0m \u001b[0mraises\u001b[0m\u001b[0;34m.\u001b[0m\u001b[0;34m\u001b[0m\u001b[0;34m\u001b[0m\u001b[0m\n\u001b[1;32m   1361\u001b[0m         \"\"\"\n\u001b[0;32m-> 1362\u001b[0;31m         self.handles = get_handle(\n\u001b[0m\u001b[1;32m   1363\u001b[0m             \u001b[0msrc\u001b[0m\u001b[0;34m,\u001b[0m\u001b[0;34m\u001b[0m\u001b[0;34m\u001b[0m\u001b[0m\n\u001b[1;32m   1364\u001b[0m             \u001b[0;34m\"r\"\u001b[0m\u001b[0;34m,\u001b[0m\u001b[0;34m\u001b[0m\u001b[0;34m\u001b[0m\u001b[0m\n",
      "\u001b[0;32m~/opt/anaconda3/lib/python3.8/site-packages/pandas/io/common.py\u001b[0m in \u001b[0;36mget_handle\u001b[0;34m(path_or_buf, mode, encoding, compression, memory_map, is_text, errors, storage_options)\u001b[0m\n\u001b[1;32m    640\u001b[0m                 \u001b[0merrors\u001b[0m \u001b[0;34m=\u001b[0m \u001b[0;34m\"replace\"\u001b[0m\u001b[0;34m\u001b[0m\u001b[0;34m\u001b[0m\u001b[0m\n\u001b[1;32m    641\u001b[0m             \u001b[0;31m# Encoding\u001b[0m\u001b[0;34m\u001b[0m\u001b[0;34m\u001b[0m\u001b[0;34m\u001b[0m\u001b[0m\n\u001b[0;32m--> 642\u001b[0;31m             handle = open(\n\u001b[0m\u001b[1;32m    643\u001b[0m                 \u001b[0mhandle\u001b[0m\u001b[0;34m,\u001b[0m\u001b[0;34m\u001b[0m\u001b[0;34m\u001b[0m\u001b[0m\n\u001b[1;32m    644\u001b[0m                 \u001b[0mioargs\u001b[0m\u001b[0;34m.\u001b[0m\u001b[0mmode\u001b[0m\u001b[0;34m,\u001b[0m\u001b[0;34m\u001b[0m\u001b[0;34m\u001b[0m\u001b[0m\n",
      "\u001b[0;31mFileNotFoundError\u001b[0m: [Errno 2] No such file or directory: 'equilibre_prod.csv'"
     ]
    }
   ],
   "source": [
    "#importer un fichier CSV\n",
    "df_equilibre_prod = pd.read_csv('equilibre_prod.csv')\n",
    "#Exporter la table en tant que SQL dans une base de données\n",
    "df_equilibre_prod.to_sql('equilibre_prod', con, if_exists='append', index=False)"
   ]
  },
  {
   "cell_type": "code",
   "execution_count": 308,
   "id": "9316eb75",
   "metadata": {},
   "outputs": [],
   "source": [
    "#Requête de table\n",
    "var = cur.execute (\"select * from 'equilibre_prod'\")\n",
    "for record in var :\n",
    "    print (record[0] ,record[1] , record[2], record[3],record[4] , record[5] ,record[6] ,record[7] ,record[8] , record[9] ,record[10] ,record[11] )"
   ]
  },
  {
   "cell_type": "code",
   "execution_count": 309,
   "id": "f5a781d1",
   "metadata": {},
   "outputs": [
    {
     "name": "stdout",
     "output_type": "stream",
     "text": [
      "[]\n"
     ]
    }
   ],
   "source": [
    "#Requête de table\n",
    "cur.execute (\"select * from 'equilibre_prod'\")\n",
    "print (cur.fetchmany(15))"
   ]
  },
  {
   "cell_type": "markdown",
   "id": "7bee8c41",
   "metadata": {},
   "source": [
    "# Question 18 : proposez une clé primaire pertinente pour cette table !¶        \n",
    "Une table appelée sous_nutrition, contenant le nombre de personnes en sous-alimentation pour chaque pays en 2013.   Elle devra contenir 4 colonnes : pays, code_pays, année, nb_personnes."
   ]
  },
  {
   "cell_type": "markdown",
   "id": "908963ea",
   "metadata": {},
   "source": [
    "##### Réponse à la question 18 :    J'ai choisi la propriété \"code pays\" comme clé primaire car elle est unique et courte et ne peut pas être nulle"
   ]
  },
  {
   "cell_type": "code",
   "execution_count": 310,
   "id": "5c508d69",
   "metadata": {},
   "outputs": [
    {
     "data": {
      "text/plain": [
       "<sqlite3.Cursor at 0x7ff93f2b3500>"
      ]
     },
     "execution_count": 310,
     "metadata": {},
     "output_type": "execute_result"
    }
   ],
   "source": [
    "\n",
    "#Créer une table à l'aide de sqlite\n",
    "cur.execute(\"\"\"CREATE TABLE \"sous_nutrition\" (\n",
    "\"pays\"TEXT,\n",
    "\" code_pays\"INTEGER,\n",
    "\"nb_personnes\"REAL,\n",
    "\"annee\"INTEGER\n",
    ");\"\"\")\n",
    "\n"
   ]
  },
  {
   "cell_type": "code",
   "execution_count": 311,
   "id": "398b853e",
   "metadata": {},
   "outputs": [
    {
     "ename": "FileNotFoundError",
     "evalue": "[Errno 2] No such file or directory: 'sous_nutrition.csv'",
     "output_type": "error",
     "traceback": [
      "\u001b[0;31m---------------------------------------------------------------------------\u001b[0m",
      "\u001b[0;31mFileNotFoundError\u001b[0m                         Traceback (most recent call last)",
      "\u001b[0;32m<ipython-input-311-86af5d135149>\u001b[0m in \u001b[0;36m<module>\u001b[0;34m\u001b[0m\n\u001b[1;32m      1\u001b[0m \u001b[0;31m#importer un fichier CSV\u001b[0m\u001b[0;34m\u001b[0m\u001b[0;34m\u001b[0m\u001b[0;34m\u001b[0m\u001b[0m\n\u001b[0;32m----> 2\u001b[0;31m \u001b[0mdf_sous_nutrition\u001b[0m \u001b[0;34m=\u001b[0m \u001b[0mpd\u001b[0m\u001b[0;34m.\u001b[0m\u001b[0mread_csv\u001b[0m\u001b[0;34m(\u001b[0m\u001b[0;34m'sous_nutrition.csv'\u001b[0m\u001b[0;34m)\u001b[0m\u001b[0;34m\u001b[0m\u001b[0;34m\u001b[0m\u001b[0m\n\u001b[0m\u001b[1;32m      3\u001b[0m \u001b[0;31m#Exporter la table en tant que SQL dans une base de données\u001b[0m\u001b[0;34m\u001b[0m\u001b[0;34m\u001b[0m\u001b[0;34m\u001b[0m\u001b[0m\n\u001b[1;32m      4\u001b[0m \u001b[0mdf_sous_nutrition\u001b[0m\u001b[0;34m.\u001b[0m\u001b[0mto_sql\u001b[0m\u001b[0;34m(\u001b[0m\u001b[0;34m'sous_nutrition'\u001b[0m\u001b[0;34m,\u001b[0m \u001b[0mcon\u001b[0m\u001b[0;34m,\u001b[0m \u001b[0mif_exists\u001b[0m\u001b[0;34m=\u001b[0m\u001b[0;34m'append'\u001b[0m\u001b[0;34m,\u001b[0m \u001b[0mindex\u001b[0m\u001b[0;34m=\u001b[0m\u001b[0;32mFalse\u001b[0m\u001b[0;34m)\u001b[0m\u001b[0;34m\u001b[0m\u001b[0;34m\u001b[0m\u001b[0m\n",
      "\u001b[0;32m~/opt/anaconda3/lib/python3.8/site-packages/pandas/io/parsers.py\u001b[0m in \u001b[0;36mread_csv\u001b[0;34m(filepath_or_buffer, sep, delimiter, header, names, index_col, usecols, squeeze, prefix, mangle_dupe_cols, dtype, engine, converters, true_values, false_values, skipinitialspace, skiprows, skipfooter, nrows, na_values, keep_default_na, na_filter, verbose, skip_blank_lines, parse_dates, infer_datetime_format, keep_date_col, date_parser, dayfirst, cache_dates, iterator, chunksize, compression, thousands, decimal, lineterminator, quotechar, quoting, doublequote, escapechar, comment, encoding, dialect, error_bad_lines, warn_bad_lines, delim_whitespace, low_memory, memory_map, float_precision, storage_options)\u001b[0m\n\u001b[1;32m    608\u001b[0m     \u001b[0mkwds\u001b[0m\u001b[0;34m.\u001b[0m\u001b[0mupdate\u001b[0m\u001b[0;34m(\u001b[0m\u001b[0mkwds_defaults\u001b[0m\u001b[0;34m)\u001b[0m\u001b[0;34m\u001b[0m\u001b[0;34m\u001b[0m\u001b[0m\n\u001b[1;32m    609\u001b[0m \u001b[0;34m\u001b[0m\u001b[0m\n\u001b[0;32m--> 610\u001b[0;31m     \u001b[0;32mreturn\u001b[0m \u001b[0m_read\u001b[0m\u001b[0;34m(\u001b[0m\u001b[0mfilepath_or_buffer\u001b[0m\u001b[0;34m,\u001b[0m \u001b[0mkwds\u001b[0m\u001b[0;34m)\u001b[0m\u001b[0;34m\u001b[0m\u001b[0;34m\u001b[0m\u001b[0m\n\u001b[0m\u001b[1;32m    611\u001b[0m \u001b[0;34m\u001b[0m\u001b[0m\n\u001b[1;32m    612\u001b[0m \u001b[0;34m\u001b[0m\u001b[0m\n",
      "\u001b[0;32m~/opt/anaconda3/lib/python3.8/site-packages/pandas/io/parsers.py\u001b[0m in \u001b[0;36m_read\u001b[0;34m(filepath_or_buffer, kwds)\u001b[0m\n\u001b[1;32m    460\u001b[0m \u001b[0;34m\u001b[0m\u001b[0m\n\u001b[1;32m    461\u001b[0m     \u001b[0;31m# Create the parser.\u001b[0m\u001b[0;34m\u001b[0m\u001b[0;34m\u001b[0m\u001b[0;34m\u001b[0m\u001b[0m\n\u001b[0;32m--> 462\u001b[0;31m     \u001b[0mparser\u001b[0m \u001b[0;34m=\u001b[0m \u001b[0mTextFileReader\u001b[0m\u001b[0;34m(\u001b[0m\u001b[0mfilepath_or_buffer\u001b[0m\u001b[0;34m,\u001b[0m \u001b[0;34m**\u001b[0m\u001b[0mkwds\u001b[0m\u001b[0;34m)\u001b[0m\u001b[0;34m\u001b[0m\u001b[0;34m\u001b[0m\u001b[0m\n\u001b[0m\u001b[1;32m    463\u001b[0m \u001b[0;34m\u001b[0m\u001b[0m\n\u001b[1;32m    464\u001b[0m     \u001b[0;32mif\u001b[0m \u001b[0mchunksize\u001b[0m \u001b[0;32mor\u001b[0m \u001b[0miterator\u001b[0m\u001b[0;34m:\u001b[0m\u001b[0;34m\u001b[0m\u001b[0;34m\u001b[0m\u001b[0m\n",
      "\u001b[0;32m~/opt/anaconda3/lib/python3.8/site-packages/pandas/io/parsers.py\u001b[0m in \u001b[0;36m__init__\u001b[0;34m(self, f, engine, **kwds)\u001b[0m\n\u001b[1;32m    817\u001b[0m             \u001b[0mself\u001b[0m\u001b[0;34m.\u001b[0m\u001b[0moptions\u001b[0m\u001b[0;34m[\u001b[0m\u001b[0;34m\"has_index_names\"\u001b[0m\u001b[0;34m]\u001b[0m \u001b[0;34m=\u001b[0m \u001b[0mkwds\u001b[0m\u001b[0;34m[\u001b[0m\u001b[0;34m\"has_index_names\"\u001b[0m\u001b[0;34m]\u001b[0m\u001b[0;34m\u001b[0m\u001b[0;34m\u001b[0m\u001b[0m\n\u001b[1;32m    818\u001b[0m \u001b[0;34m\u001b[0m\u001b[0m\n\u001b[0;32m--> 819\u001b[0;31m         \u001b[0mself\u001b[0m\u001b[0;34m.\u001b[0m\u001b[0m_engine\u001b[0m \u001b[0;34m=\u001b[0m \u001b[0mself\u001b[0m\u001b[0;34m.\u001b[0m\u001b[0m_make_engine\u001b[0m\u001b[0;34m(\u001b[0m\u001b[0mself\u001b[0m\u001b[0;34m.\u001b[0m\u001b[0mengine\u001b[0m\u001b[0;34m)\u001b[0m\u001b[0;34m\u001b[0m\u001b[0;34m\u001b[0m\u001b[0m\n\u001b[0m\u001b[1;32m    820\u001b[0m \u001b[0;34m\u001b[0m\u001b[0m\n\u001b[1;32m    821\u001b[0m     \u001b[0;32mdef\u001b[0m \u001b[0mclose\u001b[0m\u001b[0;34m(\u001b[0m\u001b[0mself\u001b[0m\u001b[0;34m)\u001b[0m\u001b[0;34m:\u001b[0m\u001b[0;34m\u001b[0m\u001b[0;34m\u001b[0m\u001b[0m\n",
      "\u001b[0;32m~/opt/anaconda3/lib/python3.8/site-packages/pandas/io/parsers.py\u001b[0m in \u001b[0;36m_make_engine\u001b[0;34m(self, engine)\u001b[0m\n\u001b[1;32m   1048\u001b[0m             )\n\u001b[1;32m   1049\u001b[0m         \u001b[0;31m# error: Too many arguments for \"ParserBase\"\u001b[0m\u001b[0;34m\u001b[0m\u001b[0;34m\u001b[0m\u001b[0;34m\u001b[0m\u001b[0m\n\u001b[0;32m-> 1050\u001b[0;31m         \u001b[0;32mreturn\u001b[0m \u001b[0mmapping\u001b[0m\u001b[0;34m[\u001b[0m\u001b[0mengine\u001b[0m\u001b[0;34m]\u001b[0m\u001b[0;34m(\u001b[0m\u001b[0mself\u001b[0m\u001b[0;34m.\u001b[0m\u001b[0mf\u001b[0m\u001b[0;34m,\u001b[0m \u001b[0;34m**\u001b[0m\u001b[0mself\u001b[0m\u001b[0;34m.\u001b[0m\u001b[0moptions\u001b[0m\u001b[0;34m)\u001b[0m  \u001b[0;31m# type: ignore[call-arg]\u001b[0m\u001b[0;34m\u001b[0m\u001b[0;34m\u001b[0m\u001b[0m\n\u001b[0m\u001b[1;32m   1051\u001b[0m \u001b[0;34m\u001b[0m\u001b[0m\n\u001b[1;32m   1052\u001b[0m     \u001b[0;32mdef\u001b[0m \u001b[0m_failover_to_python\u001b[0m\u001b[0;34m(\u001b[0m\u001b[0mself\u001b[0m\u001b[0;34m)\u001b[0m\u001b[0;34m:\u001b[0m\u001b[0;34m\u001b[0m\u001b[0;34m\u001b[0m\u001b[0m\n",
      "\u001b[0;32m~/opt/anaconda3/lib/python3.8/site-packages/pandas/io/parsers.py\u001b[0m in \u001b[0;36m__init__\u001b[0;34m(self, src, **kwds)\u001b[0m\n\u001b[1;32m   1865\u001b[0m \u001b[0;34m\u001b[0m\u001b[0m\n\u001b[1;32m   1866\u001b[0m         \u001b[0;31m# open handles\u001b[0m\u001b[0;34m\u001b[0m\u001b[0;34m\u001b[0m\u001b[0;34m\u001b[0m\u001b[0m\n\u001b[0;32m-> 1867\u001b[0;31m         \u001b[0mself\u001b[0m\u001b[0;34m.\u001b[0m\u001b[0m_open_handles\u001b[0m\u001b[0;34m(\u001b[0m\u001b[0msrc\u001b[0m\u001b[0;34m,\u001b[0m \u001b[0mkwds\u001b[0m\u001b[0;34m)\u001b[0m\u001b[0;34m\u001b[0m\u001b[0;34m\u001b[0m\u001b[0m\n\u001b[0m\u001b[1;32m   1868\u001b[0m         \u001b[0;32massert\u001b[0m \u001b[0mself\u001b[0m\u001b[0;34m.\u001b[0m\u001b[0mhandles\u001b[0m \u001b[0;32mis\u001b[0m \u001b[0;32mnot\u001b[0m \u001b[0;32mNone\u001b[0m\u001b[0;34m\u001b[0m\u001b[0;34m\u001b[0m\u001b[0m\n\u001b[1;32m   1869\u001b[0m         \u001b[0;32mfor\u001b[0m \u001b[0mkey\u001b[0m \u001b[0;32min\u001b[0m \u001b[0;34m(\u001b[0m\u001b[0;34m\"storage_options\"\u001b[0m\u001b[0;34m,\u001b[0m \u001b[0;34m\"encoding\"\u001b[0m\u001b[0;34m,\u001b[0m \u001b[0;34m\"memory_map\"\u001b[0m\u001b[0;34m,\u001b[0m \u001b[0;34m\"compression\"\u001b[0m\u001b[0;34m)\u001b[0m\u001b[0;34m:\u001b[0m\u001b[0;34m\u001b[0m\u001b[0;34m\u001b[0m\u001b[0m\n",
      "\u001b[0;32m~/opt/anaconda3/lib/python3.8/site-packages/pandas/io/parsers.py\u001b[0m in \u001b[0;36m_open_handles\u001b[0;34m(self, src, kwds)\u001b[0m\n\u001b[1;32m   1360\u001b[0m         \u001b[0mLet\u001b[0m \u001b[0mthe\u001b[0m \u001b[0mreaders\u001b[0m \u001b[0mopen\u001b[0m \u001b[0mIOHanldes\u001b[0m \u001b[0mafter\u001b[0m \u001b[0mthey\u001b[0m \u001b[0mare\u001b[0m \u001b[0mdone\u001b[0m \u001b[0;32mwith\u001b[0m \u001b[0mtheir\u001b[0m \u001b[0mpotential\u001b[0m \u001b[0mraises\u001b[0m\u001b[0;34m.\u001b[0m\u001b[0;34m\u001b[0m\u001b[0;34m\u001b[0m\u001b[0m\n\u001b[1;32m   1361\u001b[0m         \"\"\"\n\u001b[0;32m-> 1362\u001b[0;31m         self.handles = get_handle(\n\u001b[0m\u001b[1;32m   1363\u001b[0m             \u001b[0msrc\u001b[0m\u001b[0;34m,\u001b[0m\u001b[0;34m\u001b[0m\u001b[0;34m\u001b[0m\u001b[0m\n\u001b[1;32m   1364\u001b[0m             \u001b[0;34m\"r\"\u001b[0m\u001b[0;34m,\u001b[0m\u001b[0;34m\u001b[0m\u001b[0;34m\u001b[0m\u001b[0m\n",
      "\u001b[0;32m~/opt/anaconda3/lib/python3.8/site-packages/pandas/io/common.py\u001b[0m in \u001b[0;36mget_handle\u001b[0;34m(path_or_buf, mode, encoding, compression, memory_map, is_text, errors, storage_options)\u001b[0m\n\u001b[1;32m    640\u001b[0m                 \u001b[0merrors\u001b[0m \u001b[0;34m=\u001b[0m \u001b[0;34m\"replace\"\u001b[0m\u001b[0;34m\u001b[0m\u001b[0;34m\u001b[0m\u001b[0m\n\u001b[1;32m    641\u001b[0m             \u001b[0;31m# Encoding\u001b[0m\u001b[0;34m\u001b[0m\u001b[0;34m\u001b[0m\u001b[0;34m\u001b[0m\u001b[0m\n\u001b[0;32m--> 642\u001b[0;31m             handle = open(\n\u001b[0m\u001b[1;32m    643\u001b[0m                 \u001b[0mhandle\u001b[0m\u001b[0;34m,\u001b[0m\u001b[0;34m\u001b[0m\u001b[0;34m\u001b[0m\u001b[0m\n\u001b[1;32m    644\u001b[0m                 \u001b[0mioargs\u001b[0m\u001b[0;34m.\u001b[0m\u001b[0mmode\u001b[0m\u001b[0;34m,\u001b[0m\u001b[0;34m\u001b[0m\u001b[0;34m\u001b[0m\u001b[0m\n",
      "\u001b[0;31mFileNotFoundError\u001b[0m: [Errno 2] No such file or directory: 'sous_nutrition.csv'"
     ]
    }
   ],
   "source": [
    "\n",
    "#importer un fichier CSV\n",
    "df_sous_nutrition = pd.read_csv('sous_nutrition.csv')\n",
    "#Exporter la table en tant que SQL dans une base de données\n",
    "df_sous_nutrition.to_sql('sous_nutrition', con, if_exists='append', index=False)"
   ]
  },
  {
   "cell_type": "code",
   "execution_count": 312,
   "id": "aa3619d3",
   "metadata": {},
   "outputs": [
    {
     "name": "stdout",
     "output_type": "stream",
     "text": [
      "pays  \t   \t   \t  code_pays    \t \t  \t nb_personnes  \t \t annee\n",
      "===== \t   \t   \t  =========   \t \t  \t ============  \t \t =====\n"
     ]
    }
   ],
   "source": [
    "#Requête de table\n",
    "\n",
    "var = cur.execute (\"select * from 'sous_nutrition'\")\n",
    "print (\"pays  \\t   \\t   \\t  code_pays    \\t \\t  \\t nb_personnes  \\t \\t annee\")\n",
    "print (\"===== \\t   \\t   \\t  =========   \\t \\t  \\t ============  \\t \\t =====\")\n",
    "\n",
    "for record in var :\n",
    "    print (record[0]+\" \\t \" +\" \\t \"+ str(record[1]) + \" \\t \" +\" \\t \"+\"\\t\" +\"\\t\"+ str(record[2])+ \"\\t\" +\"\\t\"+ str (record[3] ))"
   ]
  },
  {
   "cell_type": "markdown",
   "id": "83477ad1",
   "metadata": {},
   "source": [
    "# Question 19 : Écrivez les requêtes SQL permettant de connaître…\n",
    "\n",
    "Les 10 pays ayant le plus haut ratio disponibilité alimentaire/habitant en termes de protéines (en kg) par habitant, puis en termes de kcal par habitant.\n",
    "Pour l'année 2013, les 10 pays ayant le plus faible ratio disponibilité alimentaire/habitant en termes de protéines (en kg) par habitant.\n",
    "La quantité totale (en kg) de produits perdus par pays en 2013.\n",
    "Les 10 pays pour lesquels la proportion de personnes sous-alimentées est la plus forte.\n",
    "Les 10 produits pour lesquels le ratio Autres utilisations/Disponibilité intérieure est le plus élevé.\n"
   ]
  },
  {
   "cell_type": "code",
   "execution_count": 313,
   "id": "1e4c25ad",
   "metadata": {},
   "outputs": [],
   "source": [
    "top_pays_dispo_kg_prot = cur.execute(\"\"\"SELECT  pays,  (sum(dispo_alim.dispo_prot * 365)/1000) as ratio_dipo_prot_pays_kg_habts \n",
    "FROM dispo_alim \n",
    "GROUP BY dispo_alim.pays\n",
    "ORDER BY ratio_dipo_prot_pays_kg_habts  DESC\n",
    "LIMIT  0,10\"\"\")\n",
    " \n",
    "    \n",
    "df_top_pays_dispo_kg_prot = pd.DataFrame(top_pays_dispo_kg_prot)\n",
    "\n"
   ]
  },
  {
   "cell_type": "code",
   "execution_count": 314,
   "id": "cc2fd5e7",
   "metadata": {},
   "outputs": [
    {
     "data": {
      "text/html": [
       "<div>\n",
       "<style scoped>\n",
       "    .dataframe tbody tr th:only-of-type {\n",
       "        vertical-align: middle;\n",
       "    }\n",
       "\n",
       "    .dataframe tbody tr th {\n",
       "        vertical-align: top;\n",
       "    }\n",
       "\n",
       "    .dataframe thead th {\n",
       "        text-align: right;\n",
       "    }\n",
       "</style>\n",
       "<table border=\"1\" class=\"dataframe\">\n",
       "  <thead>\n",
       "    <tr style=\"text-align: right;\">\n",
       "      <th></th>\n",
       "    </tr>\n",
       "  </thead>\n",
       "  <tbody>\n",
       "  </tbody>\n",
       "</table>\n",
       "</div>"
      ],
      "text/plain": [
       "Empty DataFrame\n",
       "Columns: []\n",
       "Index: []"
      ]
     },
     "execution_count": 314,
     "metadata": {},
     "output_type": "execute_result"
    }
   ],
   "source": [
    "df_top_pays_dispo_kg_prot"
   ]
  },
  {
   "cell_type": "code",
   "execution_count": 315,
   "id": "bb099918",
   "metadata": {},
   "outputs": [],
   "source": [
    "top_pays_dispo_kcal = cur.execute(\"\"\"SELECT pays, (SUM(dispo_alim_kcal_p_j * 365)) AS ratio_dipo_pays_kcal_habts \n",
    "FROM dispo_alim\n",
    "GROUP BY dispo_alim.pays\n",
    "ORDER BY ratio_dipo_pays_kcal_habts  DESC\n",
    "LIMIT  0,10\"\"\")\n",
    " \n",
    "    \n",
    "df_ratio_dipo_pays_kcal_habts = pd.DataFrame(top_pays_dispo_kcal)\n"
   ]
  },
  {
   "cell_type": "code",
   "execution_count": 316,
   "id": "b8932251",
   "metadata": {},
   "outputs": [
    {
     "data": {
      "text/html": [
       "<div>\n",
       "<style scoped>\n",
       "    .dataframe tbody tr th:only-of-type {\n",
       "        vertical-align: middle;\n",
       "    }\n",
       "\n",
       "    .dataframe tbody tr th {\n",
       "        vertical-align: top;\n",
       "    }\n",
       "\n",
       "    .dataframe thead th {\n",
       "        text-align: right;\n",
       "    }\n",
       "</style>\n",
       "<table border=\"1\" class=\"dataframe\">\n",
       "  <thead>\n",
       "    <tr style=\"text-align: right;\">\n",
       "      <th></th>\n",
       "    </tr>\n",
       "  </thead>\n",
       "  <tbody>\n",
       "  </tbody>\n",
       "</table>\n",
       "</div>"
      ],
      "text/plain": [
       "Empty DataFrame\n",
       "Columns: []\n",
       "Index: []"
      ]
     },
     "execution_count": 316,
     "metadata": {},
     "output_type": "execute_result"
    }
   ],
   "source": [
    "df_ratio_dipo_pays_kcal_habts"
   ]
  },
  {
   "cell_type": "code",
   "execution_count": 317,
   "id": "adbf239c",
   "metadata": {},
   "outputs": [],
   "source": [
    "#Pour l'année 2013, les 10 pays ayant le plus faible ratio disponibilité alimentaire/habitant en termes de protéines (en kg) par habitant.\n",
    "\n",
    "top_pays_faible_dispo_kg_prot = cur.execute(\"\"\"SELECT  pays , \n",
    "(SUM(dispo_alim.dispo_prot * 365)/1000) AS ratio_dipo_prot_pays_kg_habts \n",
    "FROM dispo_alim \n",
    "\n",
    "GROUP BY dispo_alim.pays\n",
    "ORDER BY ratio_dipo_prot_pays_kg_habts \n",
    "LIMIT  0,10\"\"\")\n",
    "    \n",
    "df_top_pays__faible_dispo_kg_prot = pd.DataFrame(top_pays_faible_dispo_kg_prot)\n"
   ]
  },
  {
   "cell_type": "code",
   "execution_count": 318,
   "id": "74bede76",
   "metadata": {},
   "outputs": [
    {
     "data": {
      "text/html": [
       "<div>\n",
       "<style scoped>\n",
       "    .dataframe tbody tr th:only-of-type {\n",
       "        vertical-align: middle;\n",
       "    }\n",
       "\n",
       "    .dataframe tbody tr th {\n",
       "        vertical-align: top;\n",
       "    }\n",
       "\n",
       "    .dataframe thead th {\n",
       "        text-align: right;\n",
       "    }\n",
       "</style>\n",
       "<table border=\"1\" class=\"dataframe\">\n",
       "  <thead>\n",
       "    <tr style=\"text-align: right;\">\n",
       "      <th></th>\n",
       "    </tr>\n",
       "  </thead>\n",
       "  <tbody>\n",
       "  </tbody>\n",
       "</table>\n",
       "</div>"
      ],
      "text/plain": [
       "Empty DataFrame\n",
       "Columns: []\n",
       "Index: []"
      ]
     },
     "execution_count": 318,
     "metadata": {},
     "output_type": "execute_result"
    }
   ],
   "source": [
    "df_top_pays__faible_dispo_kg_prot.head(10)"
   ]
  },
  {
   "cell_type": "code",
   "execution_count": 319,
   "id": "50341545",
   "metadata": {},
   "outputs": [],
   "source": [
    "#La quantité totale (en kg) de produits perdus par pays en 2013.\n",
    "\n",
    "quantité_totale_kg = cur.execute(\"\"\"\n",
    "SELECT pays, SUM(pertes*1000) AS pertes_pays_kg\n",
    "FROM equilibre_prod\n",
    "GROUP BY pays\n",
    "\"\"\")\n",
    " \n",
    "df_pays_quantité_totale_perdus= pd.DataFrame(quantité_totale_kg)\n",
    "\n"
   ]
  },
  {
   "cell_type": "code",
   "execution_count": 320,
   "id": "84c10855",
   "metadata": {},
   "outputs": [
    {
     "data": {
      "text/html": [
       "<div>\n",
       "<style scoped>\n",
       "    .dataframe tbody tr th:only-of-type {\n",
       "        vertical-align: middle;\n",
       "    }\n",
       "\n",
       "    .dataframe tbody tr th {\n",
       "        vertical-align: top;\n",
       "    }\n",
       "\n",
       "    .dataframe thead th {\n",
       "        text-align: right;\n",
       "    }\n",
       "</style>\n",
       "<table border=\"1\" class=\"dataframe\">\n",
       "  <thead>\n",
       "    <tr style=\"text-align: right;\">\n",
       "      <th></th>\n",
       "    </tr>\n",
       "  </thead>\n",
       "  <tbody>\n",
       "  </tbody>\n",
       "</table>\n",
       "</div>"
      ],
      "text/plain": [
       "Empty DataFrame\n",
       "Columns: []\n",
       "Index: []"
      ]
     },
     "execution_count": 320,
     "metadata": {},
     "output_type": "execute_result"
    }
   ],
   "source": [
    "df_pays_quantité_totale_perdus.head(10)\n"
   ]
  },
  {
   "cell_type": "code",
   "execution_count": 321,
   "id": "209967fd",
   "metadata": {},
   "outputs": [],
   "source": [
    "#Les 10 pays pour lesquels la proportion de personnes sous-alimentées est la plus forte.\n",
    "\n",
    "top_pays_sous_alimentées = cur.execute(\"\"\"\n",
    "SELECT sous_nutrition.pays, ((sous_nutrition.nb_personnes/population.population)*100) AS taux_sous_nutrition\n",
    "FROM sous_nutrition\n",
    "NATURAL JOIN population\n",
    "ORDER BY taux_sous_nutrition DESC\n",
    "LIMIT 0,10\n",
    "\"\"\")\n",
    "\n",
    "df_top_pays_sous_alimentées = pd.DataFrame(top_pays_sous_alimentées) "
   ]
  },
  {
   "cell_type": "code",
   "execution_count": 323,
   "id": "249bafbc",
   "metadata": {},
   "outputs": [],
   "source": [
    "df_top_pays_sous_alimentées = pd.DataFrame(top_pays_sous_alimentées) "
   ]
  },
  {
   "cell_type": "code",
   "execution_count": 324,
   "id": "d08e7115",
   "metadata": {},
   "outputs": [
    {
     "data": {
      "text/html": [
       "<div>\n",
       "<style scoped>\n",
       "    .dataframe tbody tr th:only-of-type {\n",
       "        vertical-align: middle;\n",
       "    }\n",
       "\n",
       "    .dataframe tbody tr th {\n",
       "        vertical-align: top;\n",
       "    }\n",
       "\n",
       "    .dataframe thead th {\n",
       "        text-align: right;\n",
       "    }\n",
       "</style>\n",
       "<table border=\"1\" class=\"dataframe\">\n",
       "  <thead>\n",
       "    <tr style=\"text-align: right;\">\n",
       "      <th></th>\n",
       "    </tr>\n",
       "  </thead>\n",
       "  <tbody>\n",
       "  </tbody>\n",
       "</table>\n",
       "</div>"
      ],
      "text/plain": [
       "Empty DataFrame\n",
       "Columns: []\n",
       "Index: []"
      ]
     },
     "execution_count": 324,
     "metadata": {},
     "output_type": "execute_result"
    }
   ],
   "source": [
    "df_top_pays_sous_alimentées"
   ]
  },
  {
   "cell_type": "code",
   "execution_count": 325,
   "id": "66bf6959",
   "metadata": {},
   "outputs": [],
   "source": [
    "#Les 10 produits pour lesquels le ratio Autres utilisations/Disponibilité intérieure est le plus élevé.\n",
    "top_ratio_autres_sur_dispo = cur.execute(\"\"\"\n",
    "SELECT produit, AVG(autres_utilisations / dispo_int) AS ratio_autres_sur_dispo_interieure\n",
    "FROM equilibre_prod\n",
    "GROUP BY produit\n",
    "ORDER BY ratio_autres_sur_dispo_interieure DESC\n",
    "LIMIT 0,10\"\"\")\n",
    " \n",
    "    \n",
    "\n"
   ]
  },
  {
   "cell_type": "code",
   "execution_count": 326,
   "id": "d39dada5",
   "metadata": {},
   "outputs": [],
   "source": [
    "df_top_ratio_autres_sur_dispo = pd.DataFrame(top_ratio_autres_sur_dispo)"
   ]
  },
  {
   "cell_type": "code",
   "execution_count": 327,
   "id": "b7f19b16",
   "metadata": {},
   "outputs": [
    {
     "data": {
      "text/html": [
       "<div>\n",
       "<style scoped>\n",
       "    .dataframe tbody tr th:only-of-type {\n",
       "        vertical-align: middle;\n",
       "    }\n",
       "\n",
       "    .dataframe tbody tr th {\n",
       "        vertical-align: top;\n",
       "    }\n",
       "\n",
       "    .dataframe thead th {\n",
       "        text-align: right;\n",
       "    }\n",
       "</style>\n",
       "<table border=\"1\" class=\"dataframe\">\n",
       "  <thead>\n",
       "    <tr style=\"text-align: right;\">\n",
       "      <th></th>\n",
       "    </tr>\n",
       "  </thead>\n",
       "  <tbody>\n",
       "  </tbody>\n",
       "</table>\n",
       "</div>"
      ],
      "text/plain": [
       "Empty DataFrame\n",
       "Columns: []\n",
       "Index: []"
      ]
     },
     "execution_count": 327,
     "metadata": {},
     "output_type": "execute_result"
    }
   ],
   "source": [
    "df_top_ratio_autres_sur_dispo.head()"
   ]
  },
  {
   "cell_type": "markdown",
   "id": "2ebfb0f6",
   "metadata": {},
   "source": [
    "# Question 20 :\n",
    "pour quelques uns des produits identifiés dans cette dernière requête SQL, supposez quelles sont ces \"autres utilisations\" possibles (recherchez sur internet !)\n",
    "\n",
    " "
   ]
  },
  {
   "cell_type": "markdown",
   "id": "28d416f8",
   "metadata": {},
   "source": [
    "Alcool non comestible\n",
    "L'alcool non comestible est utilisé dans la fabrication de produits cosmétiques ou d'autres alcools ménagers. Il est également utilisé médicalement après modification comme antiseptique\n",
    "\n",
    "huile de palme\n",
    "On retrouve l'huile de palme dans les produits manufacturés non alimentaires, comme les dentifrices et les cosmétiques, et même dans le carburant comme source d'énergie alternative.\n",
    "\n",
    "Piment\n",
    "Il est utilisé dans les parfums et les cosmétiques. Ils sont également utilisés comme insecticides ou bombes défensives."
   ]
  },
  {
   "cell_type": "code",
   "execution_count": null,
   "id": "6a958c2e",
   "metadata": {},
   "outputs": [],
   "source": []
  }
 ],
 "metadata": {
  "kernelspec": {
   "display_name": "Python 3",
   "language": "python",
   "name": "python3"
  },
  "language_info": {
   "codemirror_mode": {
    "name": "ipython",
    "version": 3
   },
   "file_extension": ".py",
   "mimetype": "text/x-python",
   "name": "python",
   "nbconvert_exporter": "python",
   "pygments_lexer": "ipython3",
   "version": "3.8.8"
  }
 },
 "nbformat": 4,
 "nbformat_minor": 5
}

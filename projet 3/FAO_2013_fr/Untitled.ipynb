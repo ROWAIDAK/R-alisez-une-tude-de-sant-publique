{
 "cells": [
  {
   "cell_type": "code",
   "execution_count": null,
   "id": "aa2905c3",
   "metadata": {},
   "outputs": [],
   "source": [
    "# Population 2013\n",
    "df_population_2013 = df_population [[ 'Zone','Code zone', 'Année','Valeur']]\n",
    "df_population_2013['Valeur'] = df_population_2013['Valeur'] * 1000\n",
    "df_population_2013 = df_population_2013.rename (columns ={'Zone':'pays',  'Code zone':'code_pays','Année': 'annee', 'Valeur' :'population'})\n",
    "#Pour exporter une trame de données de Python vers une base de données, nous passons par le fichier CSV. En Python, en utilisant to_csv :\n",
    "df_population_2013.to_csv(\"exports/population.csv\", index = False)\n",
    "df_population_2013.head()\n",
    "\n",
    "\n",
    "#dispo_alim\n",
    "df_dispo_alim = df_vegetaux_animaux[['Code zone','Zone','Année','Code Produit', 'Produit', 'Radical',  'Population' , 'Disponibilité alimentaire en quantité (kg/personne/an)',  'Disponibilité alimentaire (Kcal/personne/jour)','Disponibilité de protéines en quantité (g/personne/jour)', 'Disponibilité de matière grasse en quantité (g/personne/jour)']]\n",
    "\n",
    "#calculer disponibilité alimentaire en tonnes\n",
    "df_dispo_alim['disponibilité alimentaire en tonnes'] = df_dispo_alim['Disponibilité alimentaire en quantité (kg/personne/an)']* df_dispo_alim['Population']*365 /1000\n",
    "df_dispo_alim = df_dispo_alim.rename(columns = {'Code zone': 'code_pays','Zone': 'pays','Année':  'année','Code Produit': 'code_produit', 'Produit':'produit' , 'Radical': 'origin','disponibilité alimentaire en tonnes':'dispo_alim_tonnes',  'Disponibilité alimentaire (Kcal/personne/jour)': 'dispo_alim_kcal_p_j','Disponibilité de protéines en quantité (g/personne/jour)': 'dispo_prot', 'Disponibilité de matière grasse en quantité (g/personne/jour)': 'dispo_mat_gr'  })\n",
    "df_dispo_alim.drop('Population', axis='columns', inplace=True)\n",
    "df_dispo_alim.drop('Disponibilité alimentaire en quantité (kg/personne/an)', axis='columns', inplace=True)\n",
    "\n",
    "df_dispo_alim = df_dispo_alim.dropna(subset=['dispo_alim_tonnes', 'dispo_alim_kcal_p_j', 'dispo_prot', 'dispo_mat_gr'],how='all')\n",
    "\n",
    " #Pour exporter une trame de données de Python vers une base de données, nous passons par le fichier CSV. En Python, en utilisant to_csv :\n",
    "df_dispo_alim.to_csv('exports/dispo_alim.csv', index=False)\n",
    "\n",
    "df_dispo_alim.head()\n",
    "#  dataframe equilibre_prod\n",
    "df_equilibre_prod = df_vegetaux_animaux[['Zone','Code zone', 'Année','Produit', 'Code Produit','Disponibilité intérieure', 'Aliments pour animaux', 'Semences', 'Pertes','Traitement','Nourriture','Autres utilisations (non alimentaire)']]\n",
    "df_equilibre_prod = df_equilibre_prod.rename(columns =  {'Code zone':'code_pays', 'Zone':'pays', 'Code Produit' :'code_produit', 'Produit':'produit', 'Année':'année','Disponibilité intérieure': 'dispo_int', 'Aliments pour animaux':'alim_ani', 'Semences': 'semences', 'Pertes': 'pertes','Traitement': 'transfo','Nourriture':'nourriture','Autres utilisations (non alimentaire)':'autres_utilisations'})\n",
    "\n",
    "# Conversion des unités \"Millier de tonnes\" en Tonnes\n",
    "df_equilibre_prod.loc[:, ['dispo_int', 'alim_ani', 'semences', 'pertes', 'transfo', 'nourriture','autres_utilisations']]*=1000\n",
    "df_equilibre_prod.to_csv('exports/equilibre_prod.csv', index= False)\n",
    "#Exporter le tableau sous forme de fichier CSV.\n",
    "df_equilibre_prod.to_csv('exports/equilibre_prod.csv', index= False)\n",
    "df_equilibre_prod.head()\n",
    "#Une table appelée sous_nutrition, contenant le nombre de personnes en sous-alimentation pour chaque pays en 2013. Elle devra contenir 4 colonnes : pays, code_pays, année, nb_personnes.\n",
    "df_sous_nutrition = df_sousalimentation_an[['Zone','Code zone','2012-2014']]\n",
    "df_sous_nutrition ['annee'] = 2013\n",
    "df_sous_nutrition['2012-2014'] = df_sous_nutrition['2012-2014'] * 1000000\n",
    "\n",
    "df_sous_nutrition= df_sous_nutrition.rename(columns={'Code zone':' code_pays', 'Zone': 'pays','2012-2014':'nb_personnes'})\n",
    "df_sous_nutrition.dropna()\n",
    "df_sous_nutrition.to_csv('exports/sous_nutrition.csv' , index = False)\n",
    "df_sous_nutrition.head(30)\n",
    "#Exporter le tableau sous forme de fichier CSV.\n",
    "df_sous_nutrition.to_csv('exports/sous_nutrition.csv' , index = False)\n",
    "# Export du dataframe dispo\n",
    "df_dispo = df_vegetaux_animaux[['Zone','Code zone', 'Année','Produit', 'Code Produit','Disponibilité intérieure', 'Disponibilité alimentaire (Kcal/personne/jour)', 'Disponibilité alimentaire en quantité (kg/personne/an)', 'Pertes','Autres utilisations (non alimentaire)']]\n",
    "df_dispo = df_dispo.rename(columns =  {'Code zone':'code_pays', 'Zone':'pays', 'Code Produit' :'code_produit', 'Produit':'produit', 'Année':'année','Disponibilité intérieure': 'dispo_int', 'Pertes': 'pertes','Disponibilité alimentaire (Kcal/personne/jour)': 'dispo_kcal', 'Disponibilité alimentaire en quantité (kg/personne/an)': 'dispo_kg' ,'Autres utilisations (non alimentaire)' : 'autres_utilisations' })\n",
    "# Conversion des unités \"Millier de tonnes\" en Tonnes\n",
    "df_dispo.loc[:, ['dispo_int','pertes','autres_utilisations']]*=1000\n",
    "df_dispo.head()\n",
    "#Exporter le tableau sous forme de fichier CSV.\n",
    "df_dispo.to_csv('exports/dispo.csv' , index = False)\n",
    "\n"
   ]
  }
 ],
 "metadata": {
  "kernelspec": {
   "display_name": "Python 3",
   "language": "python",
   "name": "python3"
  },
  "language_info": {
   "codemirror_mode": {
    "name": "ipython",
    "version": 3
   },
   "file_extension": ".py",
   "mimetype": "text/x-python",
   "name": "python",
   "nbconvert_exporter": "python",
   "pygments_lexer": "ipython3",
   "version": "3.8.8"
  }
 },
 "nbformat": 4,
 "nbformat_minor": 5
}

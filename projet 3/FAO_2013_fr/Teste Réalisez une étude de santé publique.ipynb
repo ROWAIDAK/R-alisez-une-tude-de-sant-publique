{
 "cells": [
  {
   "cell_type": "markdown",
   "id": "6fcffb57",
   "metadata": {},
   "source": [
    "# P3_Réalisez une étude de santé publique"
   ]
  },
  {
   "cell_type": "markdown",
   "id": "f9b37953",
   "metadata": {},
   "source": [
    "## Importer  pandas et lire des bases de données"
   ]
  },
  {
   "cell_type": "code",
   "execution_count": 1,
   "id": "ba98c6ef",
   "metadata": {},
   "outputs": [],
   "source": [
    "import pandas as pd\n",
    "import numpy as np\n",
    "import matplotlib.pyplot as plt\n",
    "%matplotlib inline"
   ]
  },
  {
   "cell_type": "code",
   "execution_count": 2,
   "id": "cb65cb43",
   "metadata": {},
   "outputs": [],
   "source": [
    "df_population = pd.read_csv('fr_population.csv')\n",
    "df_animaux = pd.read_csv('fr_animaux.csv')\n",
    "df_vegetaux = pd.read_csv('fr_vegetaux.csv')\n",
    "df_céréales = pd.read_csv('fr_céréales.csv')\n",
    "df_sousalimentation = pd.read_csv('fr_sousalimentation.csv')"
   ]
  },
  {
   "cell_type": "code",
   "execution_count": 3,
   "id": "97fed3f1",
   "metadata": {},
   "outputs": [
    {
     "data": {
      "text/html": [
       "<div>\n",
       "<style scoped>\n",
       "    .dataframe tbody tr th:only-of-type {\n",
       "        vertical-align: middle;\n",
       "    }\n",
       "\n",
       "    .dataframe tbody tr th {\n",
       "        vertical-align: top;\n",
       "    }\n",
       "\n",
       "    .dataframe thead th {\n",
       "        text-align: right;\n",
       "    }\n",
       "</style>\n",
       "<table border=\"1\" class=\"dataframe\">\n",
       "  <thead>\n",
       "    <tr style=\"text-align: right;\">\n",
       "      <th></th>\n",
       "      <th>Code Domaine</th>\n",
       "      <th>Domaine</th>\n",
       "      <th>Code zone</th>\n",
       "      <th>Zone</th>\n",
       "      <th>Code Élément</th>\n",
       "      <th>Élément</th>\n",
       "      <th>Code Produit</th>\n",
       "      <th>Produit</th>\n",
       "      <th>Code année</th>\n",
       "      <th>Année</th>\n",
       "      <th>Unité</th>\n",
       "      <th>Valeur</th>\n",
       "      <th>Symbole</th>\n",
       "      <th>Description du Symbole</th>\n",
       "      <th>Note</th>\n",
       "    </tr>\n",
       "  </thead>\n",
       "  <tbody>\n",
       "    <tr>\n",
       "      <th>0</th>\n",
       "      <td>FS</td>\n",
       "      <td>Données de la sécurité alimentaire</td>\n",
       "      <td>2</td>\n",
       "      <td>Afghanistan</td>\n",
       "      <td>6132</td>\n",
       "      <td>Valeur</td>\n",
       "      <td>210011</td>\n",
       "      <td>Nombre de personnes sous-alimentées (millions)...</td>\n",
       "      <td>20122014</td>\n",
       "      <td>2012-2014</td>\n",
       "      <td>millions</td>\n",
       "      <td>7.9</td>\n",
       "      <td>F</td>\n",
       "      <td>Estimation FAO</td>\n",
       "      <td>NaN</td>\n",
       "    </tr>\n",
       "    <tr>\n",
       "      <th>1</th>\n",
       "      <td>FS</td>\n",
       "      <td>Données de la sécurité alimentaire</td>\n",
       "      <td>2</td>\n",
       "      <td>Afghanistan</td>\n",
       "      <td>6132</td>\n",
       "      <td>Valeur</td>\n",
       "      <td>210011</td>\n",
       "      <td>Nombre de personnes sous-alimentées (millions)...</td>\n",
       "      <td>20132015</td>\n",
       "      <td>2013-2015</td>\n",
       "      <td>millions</td>\n",
       "      <td>8.8</td>\n",
       "      <td>F</td>\n",
       "      <td>Estimation FAO</td>\n",
       "      <td>NaN</td>\n",
       "    </tr>\n",
       "    <tr>\n",
       "      <th>2</th>\n",
       "      <td>FS</td>\n",
       "      <td>Données de la sécurité alimentaire</td>\n",
       "      <td>2</td>\n",
       "      <td>Afghanistan</td>\n",
       "      <td>6132</td>\n",
       "      <td>Valeur</td>\n",
       "      <td>210011</td>\n",
       "      <td>Nombre de personnes sous-alimentées (millions)...</td>\n",
       "      <td>20142016</td>\n",
       "      <td>2014-2016</td>\n",
       "      <td>millions</td>\n",
       "      <td>9.6</td>\n",
       "      <td>F</td>\n",
       "      <td>Estimation FAO</td>\n",
       "      <td>NaN</td>\n",
       "    </tr>\n",
       "    <tr>\n",
       "      <th>3</th>\n",
       "      <td>FS</td>\n",
       "      <td>Données de la sécurité alimentaire</td>\n",
       "      <td>2</td>\n",
       "      <td>Afghanistan</td>\n",
       "      <td>6132</td>\n",
       "      <td>Valeur</td>\n",
       "      <td>210011</td>\n",
       "      <td>Nombre de personnes sous-alimentées (millions)...</td>\n",
       "      <td>20152017</td>\n",
       "      <td>2015-2017</td>\n",
       "      <td>millions</td>\n",
       "      <td>10.2</td>\n",
       "      <td>F</td>\n",
       "      <td>Estimation FAO</td>\n",
       "      <td>NaN</td>\n",
       "    </tr>\n",
       "    <tr>\n",
       "      <th>4</th>\n",
       "      <td>FS</td>\n",
       "      <td>Données de la sécurité alimentaire</td>\n",
       "      <td>2</td>\n",
       "      <td>Afghanistan</td>\n",
       "      <td>6132</td>\n",
       "      <td>Valeur</td>\n",
       "      <td>210011</td>\n",
       "      <td>Nombre de personnes sous-alimentées (millions)...</td>\n",
       "      <td>20162018</td>\n",
       "      <td>2016-2018</td>\n",
       "      <td>millions</td>\n",
       "      <td>10.6</td>\n",
       "      <td>F</td>\n",
       "      <td>Estimation FAO</td>\n",
       "      <td>NaN</td>\n",
       "    </tr>\n",
       "    <tr>\n",
       "      <th>...</th>\n",
       "      <td>...</td>\n",
       "      <td>...</td>\n",
       "      <td>...</td>\n",
       "      <td>...</td>\n",
       "      <td>...</td>\n",
       "      <td>...</td>\n",
       "      <td>...</td>\n",
       "      <td>...</td>\n",
       "      <td>...</td>\n",
       "      <td>...</td>\n",
       "      <td>...</td>\n",
       "      <td>...</td>\n",
       "      <td>...</td>\n",
       "      <td>...</td>\n",
       "      <td>...</td>\n",
       "    </tr>\n",
       "    <tr>\n",
       "      <th>1015</th>\n",
       "      <td>FS</td>\n",
       "      <td>Données de la sécurité alimentaire</td>\n",
       "      <td>181</td>\n",
       "      <td>Zimbabwe</td>\n",
       "      <td>6132</td>\n",
       "      <td>Valeur</td>\n",
       "      <td>210011</td>\n",
       "      <td>Nombre de personnes sous-alimentées (millions)...</td>\n",
       "      <td>20122014</td>\n",
       "      <td>2012-2014</td>\n",
       "      <td>millions</td>\n",
       "      <td>6.6</td>\n",
       "      <td>F</td>\n",
       "      <td>Estimation FAO</td>\n",
       "      <td>NaN</td>\n",
       "    </tr>\n",
       "    <tr>\n",
       "      <th>1016</th>\n",
       "      <td>FS</td>\n",
       "      <td>Données de la sécurité alimentaire</td>\n",
       "      <td>181</td>\n",
       "      <td>Zimbabwe</td>\n",
       "      <td>6132</td>\n",
       "      <td>Valeur</td>\n",
       "      <td>210011</td>\n",
       "      <td>Nombre de personnes sous-alimentées (millions)...</td>\n",
       "      <td>20132015</td>\n",
       "      <td>2013-2015</td>\n",
       "      <td>millions</td>\n",
       "      <td>7.2</td>\n",
       "      <td>F</td>\n",
       "      <td>Estimation FAO</td>\n",
       "      <td>NaN</td>\n",
       "    </tr>\n",
       "    <tr>\n",
       "      <th>1017</th>\n",
       "      <td>FS</td>\n",
       "      <td>Données de la sécurité alimentaire</td>\n",
       "      <td>181</td>\n",
       "      <td>Zimbabwe</td>\n",
       "      <td>6132</td>\n",
       "      <td>Valeur</td>\n",
       "      <td>210011</td>\n",
       "      <td>Nombre de personnes sous-alimentées (millions)...</td>\n",
       "      <td>20142016</td>\n",
       "      <td>2014-2016</td>\n",
       "      <td>millions</td>\n",
       "      <td>7.8</td>\n",
       "      <td>F</td>\n",
       "      <td>Estimation FAO</td>\n",
       "      <td>NaN</td>\n",
       "    </tr>\n",
       "    <tr>\n",
       "      <th>1018</th>\n",
       "      <td>FS</td>\n",
       "      <td>Données de la sécurité alimentaire</td>\n",
       "      <td>181</td>\n",
       "      <td>Zimbabwe</td>\n",
       "      <td>6132</td>\n",
       "      <td>Valeur</td>\n",
       "      <td>210011</td>\n",
       "      <td>Nombre de personnes sous-alimentées (millions)...</td>\n",
       "      <td>20152017</td>\n",
       "      <td>2015-2017</td>\n",
       "      <td>millions</td>\n",
       "      <td>8.2</td>\n",
       "      <td>F</td>\n",
       "      <td>Estimation FAO</td>\n",
       "      <td>NaN</td>\n",
       "    </tr>\n",
       "    <tr>\n",
       "      <th>1019</th>\n",
       "      <td>FS</td>\n",
       "      <td>Données de la sécurité alimentaire</td>\n",
       "      <td>181</td>\n",
       "      <td>Zimbabwe</td>\n",
       "      <td>6132</td>\n",
       "      <td>Valeur</td>\n",
       "      <td>210011</td>\n",
       "      <td>Nombre de personnes sous-alimentées (millions)...</td>\n",
       "      <td>20162018</td>\n",
       "      <td>2016-2018</td>\n",
       "      <td>millions</td>\n",
       "      <td>8.5</td>\n",
       "      <td>F</td>\n",
       "      <td>Estimation FAO</td>\n",
       "      <td>NaN</td>\n",
       "    </tr>\n",
       "  </tbody>\n",
       "</table>\n",
       "<p>1020 rows × 15 columns</p>\n",
       "</div>"
      ],
      "text/plain": [
       "     Code Domaine                             Domaine  Code zone         Zone  \\\n",
       "0              FS  Données de la sécurité alimentaire          2  Afghanistan   \n",
       "1              FS  Données de la sécurité alimentaire          2  Afghanistan   \n",
       "2              FS  Données de la sécurité alimentaire          2  Afghanistan   \n",
       "3              FS  Données de la sécurité alimentaire          2  Afghanistan   \n",
       "4              FS  Données de la sécurité alimentaire          2  Afghanistan   \n",
       "...           ...                                 ...        ...          ...   \n",
       "1015           FS  Données de la sécurité alimentaire        181     Zimbabwe   \n",
       "1016           FS  Données de la sécurité alimentaire        181     Zimbabwe   \n",
       "1017           FS  Données de la sécurité alimentaire        181     Zimbabwe   \n",
       "1018           FS  Données de la sécurité alimentaire        181     Zimbabwe   \n",
       "1019           FS  Données de la sécurité alimentaire        181     Zimbabwe   \n",
       "\n",
       "      Code Élément Élément  Code Produit  \\\n",
       "0             6132  Valeur        210011   \n",
       "1             6132  Valeur        210011   \n",
       "2             6132  Valeur        210011   \n",
       "3             6132  Valeur        210011   \n",
       "4             6132  Valeur        210011   \n",
       "...            ...     ...           ...   \n",
       "1015          6132  Valeur        210011   \n",
       "1016          6132  Valeur        210011   \n",
       "1017          6132  Valeur        210011   \n",
       "1018          6132  Valeur        210011   \n",
       "1019          6132  Valeur        210011   \n",
       "\n",
       "                                                Produit  Code année  \\\n",
       "0     Nombre de personnes sous-alimentées (millions)...    20122014   \n",
       "1     Nombre de personnes sous-alimentées (millions)...    20132015   \n",
       "2     Nombre de personnes sous-alimentées (millions)...    20142016   \n",
       "3     Nombre de personnes sous-alimentées (millions)...    20152017   \n",
       "4     Nombre de personnes sous-alimentées (millions)...    20162018   \n",
       "...                                                 ...         ...   \n",
       "1015  Nombre de personnes sous-alimentées (millions)...    20122014   \n",
       "1016  Nombre de personnes sous-alimentées (millions)...    20132015   \n",
       "1017  Nombre de personnes sous-alimentées (millions)...    20142016   \n",
       "1018  Nombre de personnes sous-alimentées (millions)...    20152017   \n",
       "1019  Nombre de personnes sous-alimentées (millions)...    20162018   \n",
       "\n",
       "          Année     Unité Valeur Symbole Description du Symbole  Note  \n",
       "0     2012-2014  millions    7.9       F         Estimation FAO   NaN  \n",
       "1     2013-2015  millions    8.8       F         Estimation FAO   NaN  \n",
       "2     2014-2016  millions    9.6       F         Estimation FAO   NaN  \n",
       "3     2015-2017  millions   10.2       F         Estimation FAO   NaN  \n",
       "4     2016-2018  millions   10.6       F         Estimation FAO   NaN  \n",
       "...         ...       ...    ...     ...                    ...   ...  \n",
       "1015  2012-2014  millions    6.6       F         Estimation FAO   NaN  \n",
       "1016  2013-2015  millions    7.2       F         Estimation FAO   NaN  \n",
       "1017  2014-2016  millions    7.8       F         Estimation FAO   NaN  \n",
       "1018  2015-2017  millions    8.2       F         Estimation FAO   NaN  \n",
       "1019  2016-2018  millions    8.5       F         Estimation FAO   NaN  \n",
       "\n",
       "[1020 rows x 15 columns]"
      ]
     },
     "execution_count": 3,
     "metadata": {},
     "output_type": "execute_result"
    }
   ],
   "source": [
    "df_population \n",
    "df_animaux \n",
    "df_vegetaux \n",
    "df_céréales \n",
    "df_sousalimentation "
   ]
  },
  {
   "cell_type": "markdown",
   "id": "916fa0fd",
   "metadata": {},
   "source": [
    "### Connaître la base de données"
   ]
  },
  {
   "cell_type": "code",
   "execution_count": 4,
   "id": "16e193c4",
   "metadata": {},
   "outputs": [
    {
     "data": {
      "text/plain": [
       "Index(['Code Domaine', 'Domaine', 'Code zone', 'Zone', 'Code Élément',\n",
       "       'Élément', 'Code Produit', 'Produit', 'Code année', 'Année', 'Unité',\n",
       "       'Valeur', 'Symbole', 'Description du Symbole'],\n",
       "      dtype='object')"
      ]
     },
     "execution_count": 4,
     "metadata": {},
     "output_type": "execute_result"
    }
   ],
   "source": [
    "df_population.columns\n"
   ]
  },
  {
   "cell_type": "code",
   "execution_count": 5,
   "id": "0658cdce",
   "metadata": {},
   "outputs": [
    {
     "data": {
      "text/plain": [
       "(175, 14)"
      ]
     },
     "execution_count": 5,
     "metadata": {},
     "output_type": "execute_result"
    }
   ],
   "source": [
    "df_population.shape"
   ]
  },
  {
   "cell_type": "code",
   "execution_count": 6,
   "id": "52ab327d",
   "metadata": {},
   "outputs": [
    {
     "name": "stdout",
     "output_type": "stream",
     "text": [
      "<class 'pandas.core.frame.DataFrame'>\n",
      "RangeIndex: 175 entries, 0 to 174\n",
      "Data columns (total 14 columns):\n",
      " #   Column                  Non-Null Count  Dtype \n",
      "---  ------                  --------------  ----- \n",
      " 0   Code Domaine            175 non-null    object\n",
      " 1   Domaine                 175 non-null    object\n",
      " 2   Code zone               175 non-null    int64 \n",
      " 3   Zone                    175 non-null    object\n",
      " 4   Code Élément            175 non-null    int64 \n",
      " 5   Élément                 175 non-null    object\n",
      " 6   Code Produit            175 non-null    int64 \n",
      " 7   Produit                 175 non-null    object\n",
      " 8   Code année              175 non-null    int64 \n",
      " 9   Année                   175 non-null    int64 \n",
      " 10  Unité                   175 non-null    object\n",
      " 11  Valeur                  175 non-null    int64 \n",
      " 12  Symbole                 1 non-null      object\n",
      " 13  Description du Symbole  175 non-null    object\n",
      "dtypes: int64(6), object(8)\n",
      "memory usage: 19.3+ KB\n"
     ]
    }
   ],
   "source": [
    "df_population.info()"
   ]
  },
  {
   "cell_type": "code",
   "execution_count": 7,
   "id": "7473d547",
   "metadata": {},
   "outputs": [
    {
     "data": {
      "text/plain": [
       "Code Domaine                1\n",
       "Domaine                     1\n",
       "Code zone                 175\n",
       "Zone                      175\n",
       "Code Élément                1\n",
       "Élément                     1\n",
       "Code Produit                1\n",
       "Produit                     1\n",
       "Code année                  1\n",
       "Année                       1\n",
       "Unité                       1\n",
       "Valeur                    175\n",
       "Symbole                     1\n",
       "Description du Symbole      2\n",
       "dtype: int64"
      ]
     },
     "execution_count": 7,
     "metadata": {},
     "output_type": "execute_result"
    }
   ],
   "source": [
    "df_population.nunique()"
   ]
  },
  {
   "cell_type": "code",
   "execution_count": 8,
   "id": "2bcee892",
   "metadata": {},
   "outputs": [
    {
     "data": {
      "text/html": [
       "<div>\n",
       "<style scoped>\n",
       "    .dataframe tbody tr th:only-of-type {\n",
       "        vertical-align: middle;\n",
       "    }\n",
       "\n",
       "    .dataframe tbody tr th {\n",
       "        vertical-align: top;\n",
       "    }\n",
       "\n",
       "    .dataframe thead th {\n",
       "        text-align: right;\n",
       "    }\n",
       "</style>\n",
       "<table border=\"1\" class=\"dataframe\">\n",
       "  <thead>\n",
       "    <tr style=\"text-align: right;\">\n",
       "      <th></th>\n",
       "      <th>Code Domaine</th>\n",
       "      <th>Domaine</th>\n",
       "      <th>Code zone</th>\n",
       "      <th>Zone</th>\n",
       "      <th>Code Élément</th>\n",
       "      <th>Élément</th>\n",
       "      <th>Code Produit</th>\n",
       "      <th>Produit</th>\n",
       "      <th>Code année</th>\n",
       "      <th>Année</th>\n",
       "      <th>Unité</th>\n",
       "      <th>Valeur</th>\n",
       "      <th>Symbole</th>\n",
       "      <th>Description du Symbole</th>\n",
       "    </tr>\n",
       "  </thead>\n",
       "  <tbody>\n",
       "    <tr>\n",
       "      <th>0</th>\n",
       "      <td>FBSH</td>\n",
       "      <td>Bilans Alimentaire (Ancienne méthodologie et p...</td>\n",
       "      <td>2</td>\n",
       "      <td>Afghanistan</td>\n",
       "      <td>511</td>\n",
       "      <td>Population totale</td>\n",
       "      <td>2501</td>\n",
       "      <td>Population</td>\n",
       "      <td>2013</td>\n",
       "      <td>2013</td>\n",
       "      <td>1000 personnes</td>\n",
       "      <td>30552</td>\n",
       "      <td>NaN</td>\n",
       "      <td>Donnée officielle</td>\n",
       "    </tr>\n",
       "    <tr>\n",
       "      <th>1</th>\n",
       "      <td>FBSH</td>\n",
       "      <td>Bilans Alimentaire (Ancienne méthodologie et p...</td>\n",
       "      <td>202</td>\n",
       "      <td>Afrique du Sud</td>\n",
       "      <td>511</td>\n",
       "      <td>Population totale</td>\n",
       "      <td>2501</td>\n",
       "      <td>Population</td>\n",
       "      <td>2013</td>\n",
       "      <td>2013</td>\n",
       "      <td>1000 personnes</td>\n",
       "      <td>52776</td>\n",
       "      <td>NaN</td>\n",
       "      <td>Donnée officielle</td>\n",
       "    </tr>\n",
       "    <tr>\n",
       "      <th>2</th>\n",
       "      <td>FBSH</td>\n",
       "      <td>Bilans Alimentaire (Ancienne méthodologie et p...</td>\n",
       "      <td>3</td>\n",
       "      <td>Albanie</td>\n",
       "      <td>511</td>\n",
       "      <td>Population totale</td>\n",
       "      <td>2501</td>\n",
       "      <td>Population</td>\n",
       "      <td>2013</td>\n",
       "      <td>2013</td>\n",
       "      <td>1000 personnes</td>\n",
       "      <td>3173</td>\n",
       "      <td>NaN</td>\n",
       "      <td>Donnée officielle</td>\n",
       "    </tr>\n",
       "    <tr>\n",
       "      <th>3</th>\n",
       "      <td>FBSH</td>\n",
       "      <td>Bilans Alimentaire (Ancienne méthodologie et p...</td>\n",
       "      <td>4</td>\n",
       "      <td>Algérie</td>\n",
       "      <td>511</td>\n",
       "      <td>Population totale</td>\n",
       "      <td>2501</td>\n",
       "      <td>Population</td>\n",
       "      <td>2013</td>\n",
       "      <td>2013</td>\n",
       "      <td>1000 personnes</td>\n",
       "      <td>39208</td>\n",
       "      <td>NaN</td>\n",
       "      <td>Donnée officielle</td>\n",
       "    </tr>\n",
       "    <tr>\n",
       "      <th>4</th>\n",
       "      <td>FBSH</td>\n",
       "      <td>Bilans Alimentaire (Ancienne méthodologie et p...</td>\n",
       "      <td>79</td>\n",
       "      <td>Allemagne</td>\n",
       "      <td>511</td>\n",
       "      <td>Population totale</td>\n",
       "      <td>2501</td>\n",
       "      <td>Population</td>\n",
       "      <td>2013</td>\n",
       "      <td>2013</td>\n",
       "      <td>1000 personnes</td>\n",
       "      <td>82727</td>\n",
       "      <td>NaN</td>\n",
       "      <td>Donnée officielle</td>\n",
       "    </tr>\n",
       "  </tbody>\n",
       "</table>\n",
       "</div>"
      ],
      "text/plain": [
       "  Code Domaine                                            Domaine  Code zone  \\\n",
       "0         FBSH  Bilans Alimentaire (Ancienne méthodologie et p...          2   \n",
       "1         FBSH  Bilans Alimentaire (Ancienne méthodologie et p...        202   \n",
       "2         FBSH  Bilans Alimentaire (Ancienne méthodologie et p...          3   \n",
       "3         FBSH  Bilans Alimentaire (Ancienne méthodologie et p...          4   \n",
       "4         FBSH  Bilans Alimentaire (Ancienne méthodologie et p...         79   \n",
       "\n",
       "             Zone  Code Élément            Élément  Code Produit     Produit  \\\n",
       "0     Afghanistan           511  Population totale          2501  Population   \n",
       "1  Afrique du Sud           511  Population totale          2501  Population   \n",
       "2         Albanie           511  Population totale          2501  Population   \n",
       "3         Algérie           511  Population totale          2501  Population   \n",
       "4       Allemagne           511  Population totale          2501  Population   \n",
       "\n",
       "   Code année  Année           Unité  Valeur Symbole Description du Symbole  \n",
       "0        2013   2013  1000 personnes   30552     NaN      Donnée officielle  \n",
       "1        2013   2013  1000 personnes   52776     NaN      Donnée officielle  \n",
       "2        2013   2013  1000 personnes    3173     NaN      Donnée officielle  \n",
       "3        2013   2013  1000 personnes   39208     NaN      Donnée officielle  \n",
       "4        2013   2013  1000 personnes   82727     NaN      Donnée officielle  "
      ]
     },
     "execution_count": 8,
     "metadata": {},
     "output_type": "execute_result"
    }
   ],
   "source": [
    "df_population.head()"
   ]
  },
  {
   "cell_type": "code",
   "execution_count": 9,
   "id": "370bb8d2",
   "metadata": {},
   "outputs": [
    {
     "data": {
      "text/html": [
       "<div>\n",
       "<style scoped>\n",
       "    .dataframe tbody tr th:only-of-type {\n",
       "        vertical-align: middle;\n",
       "    }\n",
       "\n",
       "    .dataframe tbody tr th {\n",
       "        vertical-align: top;\n",
       "    }\n",
       "\n",
       "    .dataframe thead th {\n",
       "        text-align: right;\n",
       "    }\n",
       "</style>\n",
       "<table border=\"1\" class=\"dataframe\">\n",
       "  <thead>\n",
       "    <tr style=\"text-align: right;\">\n",
       "      <th></th>\n",
       "      <th>Code Domaine</th>\n",
       "      <th>Domaine</th>\n",
       "      <th>Code zone</th>\n",
       "      <th>Zone</th>\n",
       "      <th>Code Élément</th>\n",
       "      <th>Élément</th>\n",
       "      <th>Code Produit</th>\n",
       "      <th>Produit</th>\n",
       "      <th>Code année</th>\n",
       "      <th>Année</th>\n",
       "      <th>Unité</th>\n",
       "      <th>Valeur</th>\n",
       "      <th>Symbole</th>\n",
       "      <th>Description du Symbole</th>\n",
       "    </tr>\n",
       "  </thead>\n",
       "  <tbody>\n",
       "    <tr>\n",
       "      <th>170</th>\n",
       "      <td>FBSH</td>\n",
       "      <td>Bilans Alimentaire (Ancienne méthodologie et p...</td>\n",
       "      <td>236</td>\n",
       "      <td>Venezuela (République bolivarienne du)</td>\n",
       "      <td>511</td>\n",
       "      <td>Population totale</td>\n",
       "      <td>2501</td>\n",
       "      <td>Population</td>\n",
       "      <td>2013</td>\n",
       "      <td>2013</td>\n",
       "      <td>1000 personnes</td>\n",
       "      <td>30405</td>\n",
       "      <td>NaN</td>\n",
       "      <td>Donnée officielle</td>\n",
       "    </tr>\n",
       "    <tr>\n",
       "      <th>171</th>\n",
       "      <td>FBSH</td>\n",
       "      <td>Bilans Alimentaire (Ancienne méthodologie et p...</td>\n",
       "      <td>237</td>\n",
       "      <td>Viet Nam</td>\n",
       "      <td>511</td>\n",
       "      <td>Population totale</td>\n",
       "      <td>2501</td>\n",
       "      <td>Population</td>\n",
       "      <td>2013</td>\n",
       "      <td>2013</td>\n",
       "      <td>1000 personnes</td>\n",
       "      <td>91680</td>\n",
       "      <td>NaN</td>\n",
       "      <td>Donnée officielle</td>\n",
       "    </tr>\n",
       "    <tr>\n",
       "      <th>172</th>\n",
       "      <td>FBSH</td>\n",
       "      <td>Bilans Alimentaire (Ancienne méthodologie et p...</td>\n",
       "      <td>249</td>\n",
       "      <td>Yémen</td>\n",
       "      <td>511</td>\n",
       "      <td>Population totale</td>\n",
       "      <td>2501</td>\n",
       "      <td>Population</td>\n",
       "      <td>2013</td>\n",
       "      <td>2013</td>\n",
       "      <td>1000 personnes</td>\n",
       "      <td>24407</td>\n",
       "      <td>NaN</td>\n",
       "      <td>Donnée officielle</td>\n",
       "    </tr>\n",
       "    <tr>\n",
       "      <th>173</th>\n",
       "      <td>FBSH</td>\n",
       "      <td>Bilans Alimentaire (Ancienne méthodologie et p...</td>\n",
       "      <td>251</td>\n",
       "      <td>Zambie</td>\n",
       "      <td>511</td>\n",
       "      <td>Population totale</td>\n",
       "      <td>2501</td>\n",
       "      <td>Population</td>\n",
       "      <td>2013</td>\n",
       "      <td>2013</td>\n",
       "      <td>1000 personnes</td>\n",
       "      <td>14539</td>\n",
       "      <td>NaN</td>\n",
       "      <td>Donnée officielle</td>\n",
       "    </tr>\n",
       "    <tr>\n",
       "      <th>174</th>\n",
       "      <td>FBSH</td>\n",
       "      <td>Bilans Alimentaire (Ancienne méthodologie et p...</td>\n",
       "      <td>181</td>\n",
       "      <td>Zimbabwe</td>\n",
       "      <td>511</td>\n",
       "      <td>Population totale</td>\n",
       "      <td>2501</td>\n",
       "      <td>Population</td>\n",
       "      <td>2013</td>\n",
       "      <td>2013</td>\n",
       "      <td>1000 personnes</td>\n",
       "      <td>14150</td>\n",
       "      <td>NaN</td>\n",
       "      <td>Donnée officielle</td>\n",
       "    </tr>\n",
       "  </tbody>\n",
       "</table>\n",
       "</div>"
      ],
      "text/plain": [
       "    Code Domaine                                            Domaine  \\\n",
       "170         FBSH  Bilans Alimentaire (Ancienne méthodologie et p...   \n",
       "171         FBSH  Bilans Alimentaire (Ancienne méthodologie et p...   \n",
       "172         FBSH  Bilans Alimentaire (Ancienne méthodologie et p...   \n",
       "173         FBSH  Bilans Alimentaire (Ancienne méthodologie et p...   \n",
       "174         FBSH  Bilans Alimentaire (Ancienne méthodologie et p...   \n",
       "\n",
       "     Code zone                                    Zone  Code Élément  \\\n",
       "170        236  Venezuela (République bolivarienne du)           511   \n",
       "171        237                                Viet Nam           511   \n",
       "172        249                                   Yémen           511   \n",
       "173        251                                  Zambie           511   \n",
       "174        181                                Zimbabwe           511   \n",
       "\n",
       "               Élément  Code Produit     Produit  Code année  Année  \\\n",
       "170  Population totale          2501  Population        2013   2013   \n",
       "171  Population totale          2501  Population        2013   2013   \n",
       "172  Population totale          2501  Population        2013   2013   \n",
       "173  Population totale          2501  Population        2013   2013   \n",
       "174  Population totale          2501  Population        2013   2013   \n",
       "\n",
       "              Unité  Valeur Symbole Description du Symbole  \n",
       "170  1000 personnes   30405     NaN      Donnée officielle  \n",
       "171  1000 personnes   91680     NaN      Donnée officielle  \n",
       "172  1000 personnes   24407     NaN      Donnée officielle  \n",
       "173  1000 personnes   14539     NaN      Donnée officielle  \n",
       "174  1000 personnes   14150     NaN      Donnée officielle  "
      ]
     },
     "execution_count": 9,
     "metadata": {},
     "output_type": "execute_result"
    }
   ],
   "source": [
    "df_population.tail()"
   ]
  },
  {
   "cell_type": "code",
   "execution_count": 10,
   "id": "f2028056",
   "metadata": {},
   "outputs": [
    {
     "data": {
      "text/plain": [
       "Code Domaine                 1\n",
       "Domaine                      1\n",
       "Code zone                  175\n",
       "Zone                       175\n",
       "Code Élément                15\n",
       "Élément                     15\n",
       "Code Produit                23\n",
       "Produit                     23\n",
       "Code année                   1\n",
       "Année                        1\n",
       "Unité                        4\n",
       "Valeur                    3074\n",
       "Symbole                      3\n",
       "Description du Symbole       3\n",
       "dtype: int64"
      ]
     },
     "execution_count": 10,
     "metadata": {},
     "output_type": "execute_result"
    }
   ],
   "source": [
    "df_animaux.nunique()"
   ]
  },
  {
   "cell_type": "code",
   "execution_count": 11,
   "id": "9dab7e9c",
   "metadata": {},
   "outputs": [
    {
     "data": {
      "text/plain": [
       "(37166, 14)"
      ]
     },
     "execution_count": 11,
     "metadata": {},
     "output_type": "execute_result"
    }
   ],
   "source": [
    "df_animaux.shape"
   ]
  },
  {
   "cell_type": "code",
   "execution_count": 12,
   "id": "3fa7aaf8",
   "metadata": {},
   "outputs": [
    {
     "data": {
      "text/plain": [
       "(1020, 15)"
      ]
     },
     "execution_count": 12,
     "metadata": {},
     "output_type": "execute_result"
    }
   ],
   "source": [
    "df_sousalimentation.shape"
   ]
  },
  {
   "cell_type": "code",
   "execution_count": 13,
   "id": "ddf7f4b1",
   "metadata": {},
   "outputs": [
    {
     "data": {
      "text/plain": [
       "Index(['Code Domaine', 'Domaine', 'Code zone', 'Zone', 'Code Élément',\n",
       "       'Élément', 'Code Produit', 'Produit', 'Code année', 'Année', 'Unité',\n",
       "       'Valeur', 'Symbole', 'Description du Symbole', 'Note'],\n",
       "      dtype='object')"
      ]
     },
     "execution_count": 13,
     "metadata": {},
     "output_type": "execute_result"
    }
   ],
   "source": [
    "df_sousalimentation.columns"
   ]
  },
  {
   "cell_type": "code",
   "execution_count": 14,
   "id": "ea80d3d9",
   "metadata": {},
   "outputs": [
    {
     "data": {
      "text/plain": [
       "Code Domaine                1\n",
       "Domaine                     1\n",
       "Code zone                 204\n",
       "Zone                      204\n",
       "Code Élément                1\n",
       "Élément                     1\n",
       "Code Produit                1\n",
       "Produit                     1\n",
       "Code année                  5\n",
       "Année                       5\n",
       "Unité                       1\n",
       "Valeur                    146\n",
       "Symbole                     3\n",
       "Description du Symbole      3\n",
       "Note                        0\n",
       "dtype: int64"
      ]
     },
     "execution_count": 14,
     "metadata": {},
     "output_type": "execute_result"
    }
   ],
   "source": [
    "df_sousalimentation.nunique()"
   ]
  },
  {
   "cell_type": "code",
   "execution_count": 15,
   "id": "8a27f6e7",
   "metadata": {},
   "outputs": [
    {
     "data": {
      "text/plain": [
       "(1020, 15)"
      ]
     },
     "execution_count": 15,
     "metadata": {},
     "output_type": "execute_result"
    }
   ],
   "source": [
    "df_sousalimentation.shape"
   ]
  },
  {
   "cell_type": "code",
   "execution_count": 16,
   "id": "d0ef33f9",
   "metadata": {},
   "outputs": [
    {
     "data": {
      "text/plain": [
       "(891, 14)"
      ]
     },
     "execution_count": 16,
     "metadata": {},
     "output_type": "execute_result"
    }
   ],
   "source": [
    "df_céréales.shape"
   ]
  },
  {
   "cell_type": "code",
   "execution_count": 17,
   "id": "07534277",
   "metadata": {},
   "outputs": [
    {
     "data": {
      "text/plain": [
       "(104871, 14)"
      ]
     },
     "execution_count": 17,
     "metadata": {},
     "output_type": "execute_result"
    }
   ],
   "source": [
    "df_vegetaux.shape"
   ]
  },
  {
   "cell_type": "code",
   "execution_count": 18,
   "id": "90235cb7",
   "metadata": {},
   "outputs": [
    {
     "data": {
      "text/plain": [
       "Code Domaine                 1\n",
       "Domaine                      1\n",
       "Code zone                  175\n",
       "Zone                       175\n",
       "Code Élément                15\n",
       "Élément                     15\n",
       "Code Produit                75\n",
       "Produit                     75\n",
       "Code année                   1\n",
       "Année                        1\n",
       "Unité                        4\n",
       "Valeur                    6249\n",
       "Symbole                      3\n",
       "Description du Symbole       3\n",
       "dtype: int64"
      ]
     },
     "execution_count": 18,
     "metadata": {},
     "output_type": "execute_result"
    }
   ],
   "source": [
    "df_vegetaux.nunique()"
   ]
  },
  {
   "cell_type": "code",
   "execution_count": 19,
   "id": "55870627",
   "metadata": {},
   "outputs": [
    {
     "data": {
      "text/plain": [
       "Code Domaine                1\n",
       "Domaine                     1\n",
       "Code zone                 167\n",
       "Zone                      167\n",
       "Code Élément                1\n",
       "Élément                     1\n",
       "Code Produit                9\n",
       "Produit                     9\n",
       "Code année                  1\n",
       "Année                       1\n",
       "Unité                       1\n",
       "Valeur                    485\n",
       "Symbole                     1\n",
       "Description du Symbole      1\n",
       "dtype: int64"
      ]
     },
     "execution_count": 19,
     "metadata": {},
     "output_type": "execute_result"
    }
   ],
   "source": [
    "df_céréales.nunique()"
   ]
  },
  {
   "cell_type": "code",
   "execution_count": 20,
   "id": "038f8e6a",
   "metadata": {},
   "outputs": [
    {
     "data": {
      "text/plain": [
       "0      30552\n",
       "1      52776\n",
       "2       3173\n",
       "3      39208\n",
       "4      82727\n",
       "       ...  \n",
       "170    30405\n",
       "171    91680\n",
       "172    24407\n",
       "173    14539\n",
       "174    14150\n",
       "Name: Valeur, Length: 175, dtype: int64"
      ]
     },
     "execution_count": 20,
     "metadata": {},
     "output_type": "execute_result"
    }
   ],
   "source": [
    "df_population['Valeur']"
   ]
  },
  {
   "cell_type": "code",
   "execution_count": 21,
   "id": "a2133c08",
   "metadata": {},
   "outputs": [
    {
     "data": {
      "text/plain": [
       "48079.96"
      ]
     },
     "execution_count": 21,
     "metadata": {},
     "output_type": "execute_result"
    }
   ],
   "source": [
    "df_population['Valeur'].mean()"
   ]
  },
  {
   "cell_type": "code",
   "execution_count": 22,
   "id": "546f1dd4",
   "metadata": {},
   "outputs": [
    {
     "data": {
      "text/plain": [
       "count    1.750000e+02\n",
       "mean     4.807996e+04\n",
       "std      1.786327e+05\n",
       "min      5.400000e+01\n",
       "25%      2.543500e+03\n",
       "50%      9.413000e+03\n",
       "75%      2.888150e+04\n",
       "max      1.416667e+06\n",
       "Name: Valeur, dtype: float64"
      ]
     },
     "execution_count": 22,
     "metadata": {},
     "output_type": "execute_result"
    }
   ],
   "source": [
    "df_population['Valeur'].describe()"
   ]
  },
  {
   "cell_type": "code",
   "execution_count": 23,
   "id": "b6332e15",
   "metadata": {},
   "outputs": [
    {
     "data": {
      "text/html": [
       "<div>\n",
       "<style scoped>\n",
       "    .dataframe tbody tr th:only-of-type {\n",
       "        vertical-align: middle;\n",
       "    }\n",
       "\n",
       "    .dataframe tbody tr th {\n",
       "        vertical-align: top;\n",
       "    }\n",
       "\n",
       "    .dataframe thead th {\n",
       "        text-align: right;\n",
       "    }\n",
       "</style>\n",
       "<table border=\"1\" class=\"dataframe\">\n",
       "  <thead>\n",
       "    <tr style=\"text-align: right;\">\n",
       "      <th></th>\n",
       "      <th>Zone</th>\n",
       "      <th>Valeur</th>\n",
       "    </tr>\n",
       "  </thead>\n",
       "  <tbody>\n",
       "    <tr>\n",
       "      <th>0</th>\n",
       "      <td>Afghanistan</td>\n",
       "      <td>30552</td>\n",
       "    </tr>\n",
       "    <tr>\n",
       "      <th>1</th>\n",
       "      <td>Afrique du Sud</td>\n",
       "      <td>52776</td>\n",
       "    </tr>\n",
       "    <tr>\n",
       "      <th>2</th>\n",
       "      <td>Albanie</td>\n",
       "      <td>3173</td>\n",
       "    </tr>\n",
       "    <tr>\n",
       "      <th>3</th>\n",
       "      <td>Algérie</td>\n",
       "      <td>39208</td>\n",
       "    </tr>\n",
       "    <tr>\n",
       "      <th>4</th>\n",
       "      <td>Allemagne</td>\n",
       "      <td>82727</td>\n",
       "    </tr>\n",
       "    <tr>\n",
       "      <th>...</th>\n",
       "      <td>...</td>\n",
       "      <td>...</td>\n",
       "    </tr>\n",
       "    <tr>\n",
       "      <th>170</th>\n",
       "      <td>Venezuela (République bolivarienne du)</td>\n",
       "      <td>30405</td>\n",
       "    </tr>\n",
       "    <tr>\n",
       "      <th>171</th>\n",
       "      <td>Viet Nam</td>\n",
       "      <td>91680</td>\n",
       "    </tr>\n",
       "    <tr>\n",
       "      <th>172</th>\n",
       "      <td>Yémen</td>\n",
       "      <td>24407</td>\n",
       "    </tr>\n",
       "    <tr>\n",
       "      <th>173</th>\n",
       "      <td>Zambie</td>\n",
       "      <td>14539</td>\n",
       "    </tr>\n",
       "    <tr>\n",
       "      <th>174</th>\n",
       "      <td>Zimbabwe</td>\n",
       "      <td>14150</td>\n",
       "    </tr>\n",
       "  </tbody>\n",
       "</table>\n",
       "<p>175 rows × 2 columns</p>\n",
       "</div>"
      ],
      "text/plain": [
       "                                       Zone  Valeur\n",
       "0                               Afghanistan   30552\n",
       "1                            Afrique du Sud   52776\n",
       "2                                   Albanie    3173\n",
       "3                                   Algérie   39208\n",
       "4                                 Allemagne   82727\n",
       "..                                      ...     ...\n",
       "170  Venezuela (République bolivarienne du)   30405\n",
       "171                                Viet Nam   91680\n",
       "172                                   Yémen   24407\n",
       "173                                  Zambie   14539\n",
       "174                                Zimbabwe   14150\n",
       "\n",
       "[175 rows x 2 columns]"
      ]
     },
     "execution_count": 23,
     "metadata": {},
     "output_type": "execute_result"
    }
   ],
   "source": [
    "df_population[['Zone' , 'Valeur']]"
   ]
  },
  {
   "cell_type": "code",
   "execution_count": 24,
   "id": "613e6d4c",
   "metadata": {},
   "outputs": [
    {
     "data": {
      "text/plain": [
       "1000 personnes    175\n",
       "Name: Unité, dtype: int64"
      ]
     },
     "execution_count": 24,
     "metadata": {},
     "output_type": "execute_result"
    }
   ],
   "source": [
    "df_population['Unité'].value_counts()"
   ]
  },
  {
   "cell_type": "markdown",
   "id": "1a770e4d",
   "metadata": {},
   "source": [
    "# ## Faire des ffiltrages"
   ]
  },
  {
   "cell_type": "code",
   "execution_count": 25,
   "id": "c4c0d942",
   "metadata": {},
   "outputs": [
    {
     "data": {
      "text/html": [
       "<div>\n",
       "<style scoped>\n",
       "    .dataframe tbody tr th:only-of-type {\n",
       "        vertical-align: middle;\n",
       "    }\n",
       "\n",
       "    .dataframe tbody tr th {\n",
       "        vertical-align: top;\n",
       "    }\n",
       "\n",
       "    .dataframe thead th {\n",
       "        text-align: right;\n",
       "    }\n",
       "</style>\n",
       "<table border=\"1\" class=\"dataframe\">\n",
       "  <thead>\n",
       "    <tr style=\"text-align: right;\">\n",
       "      <th></th>\n",
       "      <th>Code Domaine</th>\n",
       "      <th>Domaine</th>\n",
       "      <th>Code zone</th>\n",
       "      <th>Zone</th>\n",
       "      <th>Code Élément</th>\n",
       "      <th>Élément</th>\n",
       "      <th>Code Produit</th>\n",
       "      <th>Produit</th>\n",
       "      <th>Code année</th>\n",
       "      <th>Année</th>\n",
       "      <th>Unité</th>\n",
       "      <th>Valeur</th>\n",
       "      <th>Symbole</th>\n",
       "      <th>Description du Symbole</th>\n",
       "    </tr>\n",
       "  </thead>\n",
       "  <tbody>\n",
       "    <tr>\n",
       "      <th>18</th>\n",
       "      <td>FBSH</td>\n",
       "      <td>Bilans Alimentaire (Ancienne méthodologie et p...</td>\n",
       "      <td>23</td>\n",
       "      <td>Belize</td>\n",
       "      <td>511</td>\n",
       "      <td>Population totale</td>\n",
       "      <td>2501</td>\n",
       "      <td>Population</td>\n",
       "      <td>2013</td>\n",
       "      <td>2013</td>\n",
       "      <td>1000 personnes</td>\n",
       "      <td>332</td>\n",
       "      <td>NaN</td>\n",
       "      <td>Donnée officielle</td>\n",
       "    </tr>\n",
       "    <tr>\n",
       "      <th>19</th>\n",
       "      <td>FBSH</td>\n",
       "      <td>Bilans Alimentaire (Ancienne méthodologie et p...</td>\n",
       "      <td>53</td>\n",
       "      <td>Bénin</td>\n",
       "      <td>511</td>\n",
       "      <td>Population totale</td>\n",
       "      <td>2501</td>\n",
       "      <td>Population</td>\n",
       "      <td>2013</td>\n",
       "      <td>2013</td>\n",
       "      <td>1000 personnes</td>\n",
       "      <td>10323</td>\n",
       "      <td>NaN</td>\n",
       "      <td>Donnée officielle</td>\n",
       "    </tr>\n",
       "  </tbody>\n",
       "</table>\n",
       "</div>"
      ],
      "text/plain": [
       "   Code Domaine                                            Domaine  Code zone  \\\n",
       "18         FBSH  Bilans Alimentaire (Ancienne méthodologie et p...         23   \n",
       "19         FBSH  Bilans Alimentaire (Ancienne méthodologie et p...         53   \n",
       "\n",
       "      Zone  Code Élément            Élément  Code Produit     Produit  \\\n",
       "18  Belize           511  Population totale          2501  Population   \n",
       "19   Bénin           511  Population totale          2501  Population   \n",
       "\n",
       "    Code année  Année           Unité  Valeur Symbole Description du Symbole  \n",
       "18        2013   2013  1000 personnes     332     NaN      Donnée officielle  \n",
       "19        2013   2013  1000 personnes   10323     NaN      Donnée officielle  "
      ]
     },
     "execution_count": 25,
     "metadata": {},
     "output_type": "execute_result"
    }
   ],
   "source": [
    "df_population.iloc[18:20]"
   ]
  },
  {
   "cell_type": "code",
   "execution_count": 26,
   "id": "993ec50d",
   "metadata": {},
   "outputs": [
    {
     "data": {
      "text/html": [
       "<div>\n",
       "<style scoped>\n",
       "    .dataframe tbody tr th:only-of-type {\n",
       "        vertical-align: middle;\n",
       "    }\n",
       "\n",
       "    .dataframe tbody tr th {\n",
       "        vertical-align: top;\n",
       "    }\n",
       "\n",
       "    .dataframe thead th {\n",
       "        text-align: right;\n",
       "    }\n",
       "</style>\n",
       "<table border=\"1\" class=\"dataframe\">\n",
       "  <thead>\n",
       "    <tr style=\"text-align: right;\">\n",
       "      <th></th>\n",
       "      <th>Code Domaine</th>\n",
       "      <th>Domaine</th>\n",
       "      <th>Code zone</th>\n",
       "      <th>Zone</th>\n",
       "      <th>Code Élément</th>\n",
       "      <th>Élément</th>\n",
       "      <th>Code Produit</th>\n",
       "      <th>Produit</th>\n",
       "      <th>Code année</th>\n",
       "      <th>Année</th>\n",
       "      <th>Unité</th>\n",
       "      <th>Valeur</th>\n",
       "      <th>Symbole</th>\n",
       "      <th>Description du Symbole</th>\n",
       "    </tr>\n",
       "  </thead>\n",
       "  <tbody>\n",
       "    <tr>\n",
       "      <th>18</th>\n",
       "      <td>FBSH</td>\n",
       "      <td>Bilans Alimentaire (Ancienne méthodologie et p...</td>\n",
       "      <td>23</td>\n",
       "      <td>Belize</td>\n",
       "      <td>511</td>\n",
       "      <td>Population totale</td>\n",
       "      <td>2501</td>\n",
       "      <td>Population</td>\n",
       "      <td>2013</td>\n",
       "      <td>2013</td>\n",
       "      <td>1000 personnes</td>\n",
       "      <td>332</td>\n",
       "      <td>NaN</td>\n",
       "      <td>Donnée officielle</td>\n",
       "    </tr>\n",
       "    <tr>\n",
       "      <th>19</th>\n",
       "      <td>FBSH</td>\n",
       "      <td>Bilans Alimentaire (Ancienne méthodologie et p...</td>\n",
       "      <td>53</td>\n",
       "      <td>Bénin</td>\n",
       "      <td>511</td>\n",
       "      <td>Population totale</td>\n",
       "      <td>2501</td>\n",
       "      <td>Population</td>\n",
       "      <td>2013</td>\n",
       "      <td>2013</td>\n",
       "      <td>1000 personnes</td>\n",
       "      <td>10323</td>\n",
       "      <td>NaN</td>\n",
       "      <td>Donnée officielle</td>\n",
       "    </tr>\n",
       "  </tbody>\n",
       "</table>\n",
       "</div>"
      ],
      "text/plain": [
       "   Code Domaine                                            Domaine  Code zone  \\\n",
       "18         FBSH  Bilans Alimentaire (Ancienne méthodologie et p...         23   \n",
       "19         FBSH  Bilans Alimentaire (Ancienne méthodologie et p...         53   \n",
       "\n",
       "      Zone  Code Élément            Élément  Code Produit     Produit  \\\n",
       "18  Belize           511  Population totale          2501  Population   \n",
       "19   Bénin           511  Population totale          2501  Population   \n",
       "\n",
       "    Code année  Année           Unité  Valeur Symbole Description du Symbole  \n",
       "18        2013   2013  1000 personnes     332     NaN      Donnée officielle  \n",
       "19        2013   2013  1000 personnes   10323     NaN      Donnée officielle  "
      ]
     },
     "execution_count": 26,
     "metadata": {},
     "output_type": "execute_result"
    }
   ],
   "source": [
    "df_population.iloc[18:20]"
   ]
  },
  {
   "cell_type": "code",
   "execution_count": 27,
   "id": "19afaae1",
   "metadata": {},
   "outputs": [
    {
     "data": {
      "text/html": [
       "<div>\n",
       "<style scoped>\n",
       "    .dataframe tbody tr th:only-of-type {\n",
       "        vertical-align: middle;\n",
       "    }\n",
       "\n",
       "    .dataframe tbody tr th {\n",
       "        vertical-align: top;\n",
       "    }\n",
       "\n",
       "    .dataframe thead th {\n",
       "        text-align: right;\n",
       "    }\n",
       "</style>\n",
       "<table border=\"1\" class=\"dataframe\">\n",
       "  <thead>\n",
       "    <tr style=\"text-align: right;\">\n",
       "      <th></th>\n",
       "      <th>Zone</th>\n",
       "      <th>Valeur</th>\n",
       "    </tr>\n",
       "  </thead>\n",
       "  <tbody>\n",
       "    <tr>\n",
       "      <th>18</th>\n",
       "      <td>Belize</td>\n",
       "      <td>332</td>\n",
       "    </tr>\n",
       "    <tr>\n",
       "      <th>19</th>\n",
       "      <td>Bénin</td>\n",
       "      <td>10323</td>\n",
       "    </tr>\n",
       "  </tbody>\n",
       "</table>\n",
       "</div>"
      ],
      "text/plain": [
       "      Zone  Valeur\n",
       "18  Belize     332\n",
       "19   Bénin   10323"
      ]
     },
     "execution_count": 27,
     "metadata": {},
     "output_type": "execute_result"
    }
   ],
   "source": [
    "df_population.iloc[18:20,[3,11]]"
   ]
  },
  {
   "cell_type": "code",
   "execution_count": 28,
   "id": "490a1600",
   "metadata": {},
   "outputs": [
    {
     "data": {
      "text/html": [
       "<div>\n",
       "<style scoped>\n",
       "    .dataframe tbody tr th:only-of-type {\n",
       "        vertical-align: middle;\n",
       "    }\n",
       "\n",
       "    .dataframe tbody tr th {\n",
       "        vertical-align: top;\n",
       "    }\n",
       "\n",
       "    .dataframe thead th {\n",
       "        text-align: right;\n",
       "    }\n",
       "</style>\n",
       "<table border=\"1\" class=\"dataframe\">\n",
       "  <thead>\n",
       "    <tr style=\"text-align: right;\">\n",
       "      <th></th>\n",
       "      <th>Zone</th>\n",
       "      <th>Valeur</th>\n",
       "    </tr>\n",
       "  </thead>\n",
       "  <tbody>\n",
       "    <tr>\n",
       "      <th>18</th>\n",
       "      <td>Belize</td>\n",
       "      <td>332</td>\n",
       "    </tr>\n",
       "    <tr>\n",
       "      <th>19</th>\n",
       "      <td>Bénin</td>\n",
       "      <td>10323</td>\n",
       "    </tr>\n",
       "    <tr>\n",
       "      <th>20</th>\n",
       "      <td>Bermudes</td>\n",
       "      <td>65</td>\n",
       "    </tr>\n",
       "  </tbody>\n",
       "</table>\n",
       "</div>"
      ],
      "text/plain": [
       "        Zone  Valeur\n",
       "18    Belize     332\n",
       "19     Bénin   10323\n",
       "20  Bermudes      65"
      ]
     },
     "execution_count": 28,
     "metadata": {},
     "output_type": "execute_result"
    }
   ],
   "source": [
    "df_population.loc[18:20,['Zone','Valeur']]"
   ]
  },
  {
   "cell_type": "code",
   "execution_count": 29,
   "id": "8a8520d7",
   "metadata": {},
   "outputs": [
    {
     "data": {
      "text/plain": [
       "0      False\n",
       "1      False\n",
       "2      False\n",
       "3      False\n",
       "4      False\n",
       "       ...  \n",
       "886    False\n",
       "887    False\n",
       "888    False\n",
       "889    False\n",
       "890     True\n",
       "Name: Valeur, Length: 891, dtype: bool"
      ]
     },
     "execution_count": 29,
     "metadata": {},
     "output_type": "execute_result"
    }
   ],
   "source": [
    "df_céréales['Valeur']== 2"
   ]
  },
  {
   "cell_type": "code",
   "execution_count": 30,
   "id": "70a9b12f",
   "metadata": {},
   "outputs": [
    {
     "data": {
      "text/html": [
       "<div>\n",
       "<style scoped>\n",
       "    .dataframe tbody tr th:only-of-type {\n",
       "        vertical-align: middle;\n",
       "    }\n",
       "\n",
       "    .dataframe tbody tr th {\n",
       "        vertical-align: top;\n",
       "    }\n",
       "\n",
       "    .dataframe thead th {\n",
       "        text-align: right;\n",
       "    }\n",
       "</style>\n",
       "<table border=\"1\" class=\"dataframe\">\n",
       "  <thead>\n",
       "    <tr style=\"text-align: right;\">\n",
       "      <th></th>\n",
       "      <th>Code Domaine</th>\n",
       "      <th>Domaine</th>\n",
       "      <th>Code zone</th>\n",
       "      <th>Zone</th>\n",
       "      <th>Code Élément</th>\n",
       "      <th>Élément</th>\n",
       "      <th>Code Produit</th>\n",
       "      <th>Produit</th>\n",
       "      <th>Code année</th>\n",
       "      <th>Année</th>\n",
       "      <th>Unité</th>\n",
       "      <th>Valeur</th>\n",
       "      <th>Symbole</th>\n",
       "      <th>Description du Symbole</th>\n",
       "    </tr>\n",
       "  </thead>\n",
       "  <tbody>\n",
       "    <tr>\n",
       "      <th>0</th>\n",
       "      <td>FBSH</td>\n",
       "      <td>Bilans Alimentaire (Ancienne méthodologie et p...</td>\n",
       "      <td>2</td>\n",
       "      <td>Afghanistan</td>\n",
       "      <td>511</td>\n",
       "      <td>Population totale</td>\n",
       "      <td>2501</td>\n",
       "      <td>Population</td>\n",
       "      <td>2013</td>\n",
       "      <td>2013</td>\n",
       "      <td>1000 personnes</td>\n",
       "      <td>30552</td>\n",
       "      <td>NaN</td>\n",
       "      <td>Donnée officielle</td>\n",
       "    </tr>\n",
       "  </tbody>\n",
       "</table>\n",
       "</div>"
      ],
      "text/plain": [
       "  Code Domaine                                            Domaine  Code zone  \\\n",
       "0         FBSH  Bilans Alimentaire (Ancienne méthodologie et p...          2   \n",
       "\n",
       "          Zone  Code Élément            Élément  Code Produit     Produit  \\\n",
       "0  Afghanistan           511  Population totale          2501  Population   \n",
       "\n",
       "   Code année  Année           Unité  Valeur Symbole Description du Symbole  \n",
       "0        2013   2013  1000 personnes   30552     NaN      Donnée officielle  "
      ]
     },
     "execution_count": 30,
     "metadata": {},
     "output_type": "execute_result"
    }
   ],
   "source": [
    "y = (df_population['Zone']=='Afghanistan')\n",
    "df_population[y]"
   ]
  },
  {
   "cell_type": "code",
   "execution_count": 31,
   "id": "6cd1be96",
   "metadata": {},
   "outputs": [],
   "source": [
    "x= (df_population['Description du Symbole']=='Agrégat, peut inclure des données officielles, semi-officielles, estimées ou calculées')\n"
   ]
  },
  {
   "cell_type": "code",
   "execution_count": 32,
   "id": "8cd45e75",
   "metadata": {},
   "outputs": [
    {
     "data": {
      "text/html": [
       "<div>\n",
       "<style scoped>\n",
       "    .dataframe tbody tr th:only-of-type {\n",
       "        vertical-align: middle;\n",
       "    }\n",
       "\n",
       "    .dataframe tbody tr th {\n",
       "        vertical-align: top;\n",
       "    }\n",
       "\n",
       "    .dataframe thead th {\n",
       "        text-align: right;\n",
       "    }\n",
       "</style>\n",
       "<table border=\"1\" class=\"dataframe\">\n",
       "  <thead>\n",
       "    <tr style=\"text-align: right;\">\n",
       "      <th></th>\n",
       "      <th>Code Domaine</th>\n",
       "      <th>Domaine</th>\n",
       "      <th>Code zone</th>\n",
       "      <th>Zone</th>\n",
       "      <th>Code Élément</th>\n",
       "      <th>Élément</th>\n",
       "      <th>Code Produit</th>\n",
       "      <th>Produit</th>\n",
       "      <th>Code année</th>\n",
       "      <th>Année</th>\n",
       "      <th>Unité</th>\n",
       "      <th>Valeur</th>\n",
       "      <th>Symbole</th>\n",
       "      <th>Description du Symbole</th>\n",
       "    </tr>\n",
       "  </thead>\n",
       "  <tbody>\n",
       "    <tr>\n",
       "      <th>33</th>\n",
       "      <td>FBSH</td>\n",
       "      <td>Bilans Alimentaire (Ancienne méthodologie et p...</td>\n",
       "      <td>351</td>\n",
       "      <td>Chine</td>\n",
       "      <td>511</td>\n",
       "      <td>Population totale</td>\n",
       "      <td>2501</td>\n",
       "      <td>Population</td>\n",
       "      <td>2013</td>\n",
       "      <td>2013</td>\n",
       "      <td>1000 personnes</td>\n",
       "      <td>1416667</td>\n",
       "      <td>A</td>\n",
       "      <td>Agrégat, peut inclure des données officielles,...</td>\n",
       "    </tr>\n",
       "  </tbody>\n",
       "</table>\n",
       "</div>"
      ],
      "text/plain": [
       "   Code Domaine                                            Domaine  Code zone  \\\n",
       "33         FBSH  Bilans Alimentaire (Ancienne méthodologie et p...        351   \n",
       "\n",
       "     Zone  Code Élément            Élément  Code Produit     Produit  \\\n",
       "33  Chine           511  Population totale          2501  Population   \n",
       "\n",
       "    Code année  Année           Unité   Valeur Symbole  \\\n",
       "33        2013   2013  1000 personnes  1416667       A   \n",
       "\n",
       "                               Description du Symbole  \n",
       "33  Agrégat, peut inclure des données officielles,...  "
      ]
     },
     "execution_count": 32,
     "metadata": {},
     "output_type": "execute_result"
    }
   ],
   "source": [
    "df_population[x]"
   ]
  },
  {
   "cell_type": "code",
   "execution_count": 6,
   "id": "49087d6d",
   "metadata": {},
   "outputs": [
    {
     "data": {
      "text/plain": [
       "Index(['Code Domaine', 'Domaine', 'Code zone', 'Zone', 'Code Élément',\n",
       "       'Élément', 'Code Produit', 'Produit', 'Code année', 'Année', 'Unité',\n",
       "       'Valeur', 'Symbole', 'Description du Symbole'],\n",
       "      dtype='object')"
      ]
     },
     "execution_count": 6,
     "metadata": {},
     "output_type": "execute_result"
    }
   ],
   "source": [
    "df_céréales.columns"
   ]
  },
  {
   "cell_type": "code",
   "execution_count": 8,
   "id": "88168792",
   "metadata": {},
   "outputs": [
    {
     "data": {
      "text/plain": [
       "(891, 14)"
      ]
     },
     "execution_count": 8,
     "metadata": {},
     "output_type": "execute_result"
    }
   ],
   "source": [
    "df_céréales.shape"
   ]
  },
  {
   "cell_type": "code",
   "execution_count": 10,
   "id": "eb4594c5",
   "metadata": {},
   "outputs": [
    {
     "data": {
      "text/html": [
       "<div>\n",
       "<style scoped>\n",
       "    .dataframe tbody tr th:only-of-type {\n",
       "        vertical-align: middle;\n",
       "    }\n",
       "\n",
       "    .dataframe tbody tr th {\n",
       "        vertical-align: top;\n",
       "    }\n",
       "\n",
       "    .dataframe thead th {\n",
       "        text-align: right;\n",
       "    }\n",
       "</style>\n",
       "<table border=\"1\" class=\"dataframe\">\n",
       "  <thead>\n",
       "    <tr style=\"text-align: right;\">\n",
       "      <th></th>\n",
       "      <th>Code Domaine</th>\n",
       "      <th>Domaine</th>\n",
       "      <th>Code zone</th>\n",
       "      <th>Zone</th>\n",
       "      <th>Code Élément</th>\n",
       "      <th>Élément</th>\n",
       "      <th>Code Produit</th>\n",
       "      <th>Produit</th>\n",
       "      <th>Code année</th>\n",
       "      <th>Année</th>\n",
       "      <th>Unité</th>\n",
       "      <th>Valeur</th>\n",
       "      <th>Symbole</th>\n",
       "      <th>Description du Symbole</th>\n",
       "    </tr>\n",
       "  </thead>\n",
       "  <tbody>\n",
       "    <tr>\n",
       "      <th>0</th>\n",
       "      <td>FBSH</td>\n",
       "      <td>Bilans Alimentaire (Ancienne méthodologie et p...</td>\n",
       "      <td>2</td>\n",
       "      <td>Afghanistan</td>\n",
       "      <td>5511</td>\n",
       "      <td>Production</td>\n",
       "      <td>2511</td>\n",
       "      <td>Blé</td>\n",
       "      <td>2013</td>\n",
       "      <td>2013</td>\n",
       "      <td>Milliers de tonnes</td>\n",
       "      <td>5169</td>\n",
       "      <td>S</td>\n",
       "      <td>Données standardisées</td>\n",
       "    </tr>\n",
       "    <tr>\n",
       "      <th>1</th>\n",
       "      <td>FBSH</td>\n",
       "      <td>Bilans Alimentaire (Ancienne méthodologie et p...</td>\n",
       "      <td>2</td>\n",
       "      <td>Afghanistan</td>\n",
       "      <td>5511</td>\n",
       "      <td>Production</td>\n",
       "      <td>2805</td>\n",
       "      <td>Riz (Eq Blanchi)</td>\n",
       "      <td>2013</td>\n",
       "      <td>2013</td>\n",
       "      <td>Milliers de tonnes</td>\n",
       "      <td>342</td>\n",
       "      <td>S</td>\n",
       "      <td>Données standardisées</td>\n",
       "    </tr>\n",
       "    <tr>\n",
       "      <th>2</th>\n",
       "      <td>FBSH</td>\n",
       "      <td>Bilans Alimentaire (Ancienne méthodologie et p...</td>\n",
       "      <td>2</td>\n",
       "      <td>Afghanistan</td>\n",
       "      <td>5511</td>\n",
       "      <td>Production</td>\n",
       "      <td>2513</td>\n",
       "      <td>Orge</td>\n",
       "      <td>2013</td>\n",
       "      <td>2013</td>\n",
       "      <td>Milliers de tonnes</td>\n",
       "      <td>514</td>\n",
       "      <td>S</td>\n",
       "      <td>Données standardisées</td>\n",
       "    </tr>\n",
       "    <tr>\n",
       "      <th>3</th>\n",
       "      <td>FBSH</td>\n",
       "      <td>Bilans Alimentaire (Ancienne méthodologie et p...</td>\n",
       "      <td>2</td>\n",
       "      <td>Afghanistan</td>\n",
       "      <td>5511</td>\n",
       "      <td>Production</td>\n",
       "      <td>2514</td>\n",
       "      <td>Maïs</td>\n",
       "      <td>2013</td>\n",
       "      <td>2013</td>\n",
       "      <td>Milliers de tonnes</td>\n",
       "      <td>312</td>\n",
       "      <td>S</td>\n",
       "      <td>Données standardisées</td>\n",
       "    </tr>\n",
       "    <tr>\n",
       "      <th>4</th>\n",
       "      <td>FBSH</td>\n",
       "      <td>Bilans Alimentaire (Ancienne méthodologie et p...</td>\n",
       "      <td>2</td>\n",
       "      <td>Afghanistan</td>\n",
       "      <td>5511</td>\n",
       "      <td>Production</td>\n",
       "      <td>2517</td>\n",
       "      <td>Millet</td>\n",
       "      <td>2013</td>\n",
       "      <td>2013</td>\n",
       "      <td>Milliers de tonnes</td>\n",
       "      <td>13</td>\n",
       "      <td>S</td>\n",
       "      <td>Données standardisées</td>\n",
       "    </tr>\n",
       "  </tbody>\n",
       "</table>\n",
       "</div>"
      ],
      "text/plain": [
       "  Code Domaine                                            Domaine  Code zone  \\\n",
       "0         FBSH  Bilans Alimentaire (Ancienne méthodologie et p...          2   \n",
       "1         FBSH  Bilans Alimentaire (Ancienne méthodologie et p...          2   \n",
       "2         FBSH  Bilans Alimentaire (Ancienne méthodologie et p...          2   \n",
       "3         FBSH  Bilans Alimentaire (Ancienne méthodologie et p...          2   \n",
       "4         FBSH  Bilans Alimentaire (Ancienne méthodologie et p...          2   \n",
       "\n",
       "          Zone  Code Élément     Élément  Code Produit           Produit  \\\n",
       "0  Afghanistan          5511  Production          2511               Blé   \n",
       "1  Afghanistan          5511  Production          2805  Riz (Eq Blanchi)   \n",
       "2  Afghanistan          5511  Production          2513              Orge   \n",
       "3  Afghanistan          5511  Production          2514              Maïs   \n",
       "4  Afghanistan          5511  Production          2517            Millet   \n",
       "\n",
       "   Code année  Année               Unité  Valeur Symbole  \\\n",
       "0        2013   2013  Milliers de tonnes    5169       S   \n",
       "1        2013   2013  Milliers de tonnes     342       S   \n",
       "2        2013   2013  Milliers de tonnes     514       S   \n",
       "3        2013   2013  Milliers de tonnes     312       S   \n",
       "4        2013   2013  Milliers de tonnes      13       S   \n",
       "\n",
       "  Description du Symbole  \n",
       "0  Données standardisées  \n",
       "1  Données standardisées  \n",
       "2  Données standardisées  \n",
       "3  Données standardisées  \n",
       "4  Données standardisées  "
      ]
     },
     "execution_count": 10,
     "metadata": {},
     "output_type": "execute_result"
    }
   ],
   "source": [
    "df_céréales.head()"
   ]
  },
  {
   "cell_type": "code",
   "execution_count": 17,
   "id": "233ad877",
   "metadata": {},
   "outputs": [
    {
     "data": {
      "text/plain": [
       "array(['Blé', 'Riz (Eq Blanchi)', 'Orge', 'Maïs', 'Millet', 'Seigle',\n",
       "       'Avoine', 'Sorgho', 'Céréales, Autres'], dtype=object)"
      ]
     },
     "execution_count": 17,
     "metadata": {},
     "output_type": "execute_result"
    }
   ],
   "source": [
    "df_céréales['Produit'].unique()"
   ]
  },
  {
   "cell_type": "code",
   "execution_count": 20,
   "id": "707023b3",
   "metadata": {},
   "outputs": [
    {
     "data": {
      "text/plain": [
       "array(['Afghanistan', 'Afrique du Sud', 'Albanie', 'Algérie', 'Allemagne',\n",
       "       'Angola', 'Antigua-et-Barbuda', 'Arabie saoudite', 'Argentine',\n",
       "       'Arménie', 'Australie', 'Autriche', 'Azerbaïdjan', 'Bahamas',\n",
       "       'Bangladesh', 'Barbade', 'Bélarus', 'Belgique', 'Belize', 'Bénin',\n",
       "       'Bolivie (État plurinational de)', 'Bosnie-Herzégovine',\n",
       "       'Botswana', 'Brésil', 'Brunéi Darussalam', 'Bulgarie',\n",
       "       'Burkina Faso', 'Cabo Verde', 'Cambodge', 'Cameroun', 'Canada',\n",
       "       'Chili', 'Chine - RAS de Hong-Kong', 'Chine, continentale',\n",
       "       'Chine, Taiwan Province de', 'Chypre', 'Colombie', 'Congo',\n",
       "       'Costa Rica', \"Côte d'Ivoire\", 'Croatie', 'Cuba', 'Danemark',\n",
       "       'Djibouti', 'Dominique', 'Égypte', 'El Salvador',\n",
       "       'Émirats arabes unis', 'Équateur', 'Espagne', 'Estonie',\n",
       "       'Eswatini', \"États-Unis d'Amérique\", 'Éthiopie',\n",
       "       'Fédération de Russie', 'Fidji', 'Finlande', 'France', 'Gabon',\n",
       "       'Gambie', 'Géorgie', 'Ghana', 'Grèce', 'Grenade', 'Guatemala',\n",
       "       'Guinée', 'Guinée-Bissau', 'Guyana', 'Haïti', 'Honduras',\n",
       "       'Hongrie', 'Îles Salomon', 'Inde', 'Indonésie',\n",
       "       \"Iran (République islamique d')\", 'Iraq', 'Irlande', 'Israël',\n",
       "       'Italie', 'Jamaïque', 'Japon', 'Jordanie', 'Kazakhstan', 'Kenya',\n",
       "       'Kirghizistan', 'Koweït', 'Lesotho', 'Lettonie', 'Liban',\n",
       "       'Libéria', 'Lituanie', 'Luxembourg', 'Macédoine du Nord',\n",
       "       'Madagascar', 'Malaisie', 'Malawi', 'Maldives', 'Mali', 'Malte',\n",
       "       'Maroc', 'Maurice', 'Mauritanie', 'Mexique', 'Mongolie',\n",
       "       'Monténégro', 'Mozambique', 'Myanmar', 'Namibie', 'Népal',\n",
       "       'Nicaragua', 'Niger', 'Nigéria', 'Norvège', 'Nouvelle-Calédonie',\n",
       "       'Nouvelle-Zélande', 'Oman', 'Ouganda', 'Ouzbékistan', 'Pakistan',\n",
       "       'Panama', 'Paraguay', 'Pays-Bas', 'Pérou', 'Philippines',\n",
       "       'Pologne', 'Portugal', 'République centrafricaine',\n",
       "       'République de Corée', 'République de Moldova',\n",
       "       'République démocratique populaire lao', 'République dominicaine',\n",
       "       'République populaire démocratique de Corée',\n",
       "       'République-Unie de Tanzanie', 'Roumanie', 'Royaume-Uni', 'Rwanda',\n",
       "       'Sainte-Lucie', 'Saint-Vincent-et-les Grenadines',\n",
       "       'Sao Tomé-et-Principe', 'Sénégal', 'Serbie', 'Sierra Leone',\n",
       "       'Slovaquie', 'Slovénie', 'Soudan', 'Sri Lanka', 'Suède', 'Suisse',\n",
       "       'Suriname', 'Tadjikistan', 'Tchad', 'Tchéquie (la)', 'Thaïlande',\n",
       "       'Timor-Leste', 'Togo', 'Trinité-et-Tobago', 'Tunisie',\n",
       "       'Turkménistan', 'Turquie', 'Ukraine', 'Uruguay', 'Vanuatu',\n",
       "       'Venezuela (République bolivarienne du)', 'Viet Nam', 'Yémen',\n",
       "       'Zambie', 'Zimbabwe'], dtype=object)"
      ]
     },
     "execution_count": 20,
     "metadata": {},
     "output_type": "execute_result"
    }
   ],
   "source": [
    "df_céréales['Zone'].unique()"
   ]
  },
  {
   "cell_type": "code",
   "execution_count": 15,
   "id": "549fa58a",
   "metadata": {},
   "outputs": [
    {
     "data": {
      "text/plain": [
       "Code Domaine                1\n",
       "Domaine                     1\n",
       "Code zone                 167\n",
       "Zone                      167\n",
       "Code Élément                1\n",
       "Élément                     1\n",
       "Code Produit                9\n",
       "Produit                     9\n",
       "Code année                  1\n",
       "Année                       1\n",
       "Unité                       1\n",
       "Valeur                    485\n",
       "Symbole                     1\n",
       "Description du Symbole      1\n",
       "dtype: int64"
      ]
     },
     "execution_count": 15,
     "metadata": {},
     "output_type": "execute_result"
    }
   ],
   "source": [
    "df_céréales.nunique()"
   ]
  },
  {
   "cell_type": "code",
   "execution_count": 21,
   "id": "d50eb6b6",
   "metadata": {},
   "outputs": [
    {
     "data": {
      "text/plain": [
       "Code Domaine                 1\n",
       "Domaine                      1\n",
       "Code zone                  175\n",
       "Zone                       175\n",
       "Code Élément                15\n",
       "Élément                     15\n",
       "Code Produit                23\n",
       "Produit                     23\n",
       "Code année                   1\n",
       "Année                        1\n",
       "Unité                        4\n",
       "Valeur                    3074\n",
       "Symbole                      3\n",
       "Description du Symbole       3\n",
       "dtype: int64"
      ]
     },
     "execution_count": 21,
     "metadata": {},
     "output_type": "execute_result"
    }
   ],
   "source": [
    "df_animaux.nunique()"
   ]
  },
  {
   "cell_type": "code",
   "execution_count": 23,
   "id": "fbcbdc0d",
   "metadata": {},
   "outputs": [
    {
     "data": {
      "text/plain": [
       "(37166, 14)"
      ]
     },
     "execution_count": 23,
     "metadata": {},
     "output_type": "execute_result"
    }
   ],
   "source": [
    "df_animaux.shape"
   ]
  },
  {
   "cell_type": "code",
   "execution_count": 24,
   "id": "2d1d7efd",
   "metadata": {},
   "outputs": [
    {
     "data": {
      "text/plain": [
       "Code Domaine                 1\n",
       "Domaine                      1\n",
       "Code zone                  175\n",
       "Zone                       175\n",
       "Code Élément                15\n",
       "Élément                     15\n",
       "Code Produit                75\n",
       "Produit                     75\n",
       "Code année                   1\n",
       "Année                        1\n",
       "Unité                        4\n",
       "Valeur                    6249\n",
       "Symbole                      3\n",
       "Description du Symbole       3\n",
       "dtype: int64"
      ]
     },
     "execution_count": 24,
     "metadata": {},
     "output_type": "execute_result"
    }
   ],
   "source": [
    "df_vegetaux.nunique()"
   ]
  },
  {
   "cell_type": "code",
   "execution_count": 26,
   "id": "8a5eca1a",
   "metadata": {},
   "outputs": [
    {
     "data": {
      "text/plain": [
       "(104871, 14)"
      ]
     },
     "execution_count": 26,
     "metadata": {},
     "output_type": "execute_result"
    }
   ],
   "source": [
    "df_vegetaux.shape"
   ]
  },
  {
   "cell_type": "code",
   "execution_count": 30,
   "id": "84c8a720",
   "metadata": {},
   "outputs": [
    {
     "data": {
      "text/plain": [
       "array(['Données standardisées', 'Donnée calculée',\n",
       "       'Agrégat, peut inclure des données officielles, semi-officielles, estimées ou calculées'],\n",
       "      dtype=object)"
      ]
     },
     "execution_count": 30,
     "metadata": {},
     "output_type": "execute_result"
    }
   ],
   "source": [
    "df_vegetaux ['Description du Symbole'].unique()"
   ]
  },
  {
   "cell_type": "code",
   "execution_count": null,
   "id": "bb92eecb",
   "metadata": {},
   "outputs": [],
   "source": []
  }
 ],
 "metadata": {
  "kernelspec": {
   "display_name": "Python 3",
   "language": "python",
   "name": "python3"
  },
  "language_info": {
   "codemirror_mode": {
    "name": "ipython",
    "version": 3
   },
   "file_extension": ".py",
   "mimetype": "text/x-python",
   "name": "python",
   "nbconvert_exporter": "python",
   "pygments_lexer": "ipython3",
   "version": "3.8.8"
  }
 },
 "nbformat": 4,
 "nbformat_minor": 5
}

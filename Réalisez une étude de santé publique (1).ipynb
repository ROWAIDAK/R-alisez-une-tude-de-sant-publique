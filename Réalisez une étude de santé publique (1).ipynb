{
 "cells": [
  {
   "cell_type": "markdown",
   "id": "6fcffb57",
   "metadata": {},
   "source": [
    "# P3_Réalisez une étude de santé publique"
   ]
  },
  {
   "cell_type": "markdown",
   "id": "f9b37953",
   "metadata": {},
   "source": [
    "## Importer  pandas et lire des bases de données"
   ]
  },
  {
   "cell_type": "code",
   "execution_count": 1,
   "id": "ba98c6ef",
   "metadata": {},
   "outputs": [],
   "source": [
    "import pandas as pd\n",
    "import numpy as np\n",
    "import matplotlib.pyplot as plt\n",
    "%matplotlib inline"
   ]
  },
  {
   "cell_type": "code",
   "execution_count": 11,
   "id": "cb65cb43",
   "metadata": {},
   "outputs": [],
   "source": [
    "df_population = pd.read_csv('fr_population.csv')\n",
    "df_animaux = pd.read_csv('fr_animaux.csv')\n",
    "df_vegetaux = pd.read_csv('fr_vegetaux.csv')\n",
    "df_céréales = pd.read_csv('fr_céréales.csv')\n",
    "df_sousalimentation = pd.read_csv('fr_sousalimentation.csv')"
   ]
  },
  {
   "cell_type": "code",
   "execution_count": null,
   "id": "97fed3f1",
   "metadata": {},
   "outputs": [],
   "source": [
    "df_population \n",
    "df_animaux \n",
    "df_vegetaux \n",
    "df_céréales \n",
    "df_sousalimentation "
   ]
  },
  {
   "cell_type": "markdown",
   "id": "916fa0fd",
   "metadata": {},
   "source": [
    "### Connaître la base de données"
   ]
  },
  {
   "cell_type": "code",
   "execution_count": 4,
   "id": "16e193c4",
   "metadata": {},
   "outputs": [
    {
     "data": {
      "text/plain": [
       "Index(['Code Domaine', 'Domaine', 'Code zone', 'Zone', 'Code Élément',\n",
       "       'Élément', 'Code Produit', 'Produit', 'Code année', 'Année', 'Unité',\n",
       "       'Valeur', 'Symbole', 'Description du Symbole'],\n",
       "      dtype='object')"
      ]
     },
     "execution_count": 4,
     "metadata": {},
     "output_type": "execute_result"
    }
   ],
   "source": [
    "df_population.columns\n"
   ]
  },
  {
   "cell_type": "code",
   "execution_count": 7,
   "id": "0658cdce",
   "metadata": {},
   "outputs": [
    {
     "data": {
      "text/plain": [
       "(175, 14)"
      ]
     },
     "execution_count": 7,
     "metadata": {},
     "output_type": "execute_result"
    }
   ],
   "source": [
    "df_population.shape"
   ]
  },
  {
   "cell_type": "code",
   "execution_count": 5,
   "id": "52ab327d",
   "metadata": {},
   "outputs": [
    {
     "name": "stdout",
     "output_type": "stream",
     "text": [
      "<class 'pandas.core.frame.DataFrame'>\n",
      "RangeIndex: 175 entries, 0 to 174\n",
      "Data columns (total 14 columns):\n",
      " #   Column                  Non-Null Count  Dtype \n",
      "---  ------                  --------------  ----- \n",
      " 0   Code Domaine            175 non-null    object\n",
      " 1   Domaine                 175 non-null    object\n",
      " 2   Code zone               175 non-null    int64 \n",
      " 3   Zone                    175 non-null    object\n",
      " 4   Code Élément            175 non-null    int64 \n",
      " 5   Élément                 175 non-null    object\n",
      " 6   Code Produit            175 non-null    int64 \n",
      " 7   Produit                 175 non-null    object\n",
      " 8   Code année              175 non-null    int64 \n",
      " 9   Année                   175 non-null    int64 \n",
      " 10  Unité                   175 non-null    object\n",
      " 11  Valeur                  175 non-null    int64 \n",
      " 12  Symbole                 1 non-null      object\n",
      " 13  Description du Symbole  175 non-null    object\n",
      "dtypes: int64(6), object(8)\n",
      "memory usage: 19.3+ KB\n"
     ]
    }
   ],
   "source": [
    "df_population.info()"
   ]
  },
  {
   "cell_type": "code",
   "execution_count": 11,
   "id": "7473d547",
   "metadata": {},
   "outputs": [
    {
     "data": {
      "text/plain": [
       "Code Domaine                1\n",
       "Domaine                     1\n",
       "Code zone                 175\n",
       "Zone                      175\n",
       "Code Élément                1\n",
       "Élément                     1\n",
       "Code Produit                1\n",
       "Produit                     1\n",
       "Code année                  1\n",
       "Année                       1\n",
       "Unité                       1\n",
       "Valeur                    175\n",
       "Symbole                     1\n",
       "Description du Symbole      2\n",
       "dtype: int64"
      ]
     },
     "execution_count": 11,
     "metadata": {},
     "output_type": "execute_result"
    }
   ],
   "source": [
    "df_population.nunique()"
   ]
  },
  {
   "cell_type": "code",
   "execution_count": 13,
   "id": "2bcee892",
   "metadata": {},
   "outputs": [
    {
     "data": {
      "text/html": [
       "<div>\n",
       "<style scoped>\n",
       "    .dataframe tbody tr th:only-of-type {\n",
       "        vertical-align: middle;\n",
       "    }\n",
       "\n",
       "    .dataframe tbody tr th {\n",
       "        vertical-align: top;\n",
       "    }\n",
       "\n",
       "    .dataframe thead th {\n",
       "        text-align: right;\n",
       "    }\n",
       "</style>\n",
       "<table border=\"1\" class=\"dataframe\">\n",
       "  <thead>\n",
       "    <tr style=\"text-align: right;\">\n",
       "      <th></th>\n",
       "      <th>Code Domaine</th>\n",
       "      <th>Domaine</th>\n",
       "      <th>Code zone</th>\n",
       "      <th>Zone</th>\n",
       "      <th>Code Élément</th>\n",
       "      <th>Élément</th>\n",
       "      <th>Code Produit</th>\n",
       "      <th>Produit</th>\n",
       "      <th>Code année</th>\n",
       "      <th>Année</th>\n",
       "      <th>Unité</th>\n",
       "      <th>Valeur</th>\n",
       "      <th>Symbole</th>\n",
       "      <th>Description du Symbole</th>\n",
       "    </tr>\n",
       "  </thead>\n",
       "  <tbody>\n",
       "    <tr>\n",
       "      <th>0</th>\n",
       "      <td>FBSH</td>\n",
       "      <td>Bilans Alimentaire (Ancienne méthodologie et p...</td>\n",
       "      <td>2</td>\n",
       "      <td>Afghanistan</td>\n",
       "      <td>511</td>\n",
       "      <td>Population totale</td>\n",
       "      <td>2501</td>\n",
       "      <td>Population</td>\n",
       "      <td>2013</td>\n",
       "      <td>2013</td>\n",
       "      <td>1000 personnes</td>\n",
       "      <td>30552</td>\n",
       "      <td>NaN</td>\n",
       "      <td>Donnée officielle</td>\n",
       "    </tr>\n",
       "    <tr>\n",
       "      <th>1</th>\n",
       "      <td>FBSH</td>\n",
       "      <td>Bilans Alimentaire (Ancienne méthodologie et p...</td>\n",
       "      <td>202</td>\n",
       "      <td>Afrique du Sud</td>\n",
       "      <td>511</td>\n",
       "      <td>Population totale</td>\n",
       "      <td>2501</td>\n",
       "      <td>Population</td>\n",
       "      <td>2013</td>\n",
       "      <td>2013</td>\n",
       "      <td>1000 personnes</td>\n",
       "      <td>52776</td>\n",
       "      <td>NaN</td>\n",
       "      <td>Donnée officielle</td>\n",
       "    </tr>\n",
       "    <tr>\n",
       "      <th>2</th>\n",
       "      <td>FBSH</td>\n",
       "      <td>Bilans Alimentaire (Ancienne méthodologie et p...</td>\n",
       "      <td>3</td>\n",
       "      <td>Albanie</td>\n",
       "      <td>511</td>\n",
       "      <td>Population totale</td>\n",
       "      <td>2501</td>\n",
       "      <td>Population</td>\n",
       "      <td>2013</td>\n",
       "      <td>2013</td>\n",
       "      <td>1000 personnes</td>\n",
       "      <td>3173</td>\n",
       "      <td>NaN</td>\n",
       "      <td>Donnée officielle</td>\n",
       "    </tr>\n",
       "    <tr>\n",
       "      <th>3</th>\n",
       "      <td>FBSH</td>\n",
       "      <td>Bilans Alimentaire (Ancienne méthodologie et p...</td>\n",
       "      <td>4</td>\n",
       "      <td>Algérie</td>\n",
       "      <td>511</td>\n",
       "      <td>Population totale</td>\n",
       "      <td>2501</td>\n",
       "      <td>Population</td>\n",
       "      <td>2013</td>\n",
       "      <td>2013</td>\n",
       "      <td>1000 personnes</td>\n",
       "      <td>39208</td>\n",
       "      <td>NaN</td>\n",
       "      <td>Donnée officielle</td>\n",
       "    </tr>\n",
       "    <tr>\n",
       "      <th>4</th>\n",
       "      <td>FBSH</td>\n",
       "      <td>Bilans Alimentaire (Ancienne méthodologie et p...</td>\n",
       "      <td>79</td>\n",
       "      <td>Allemagne</td>\n",
       "      <td>511</td>\n",
       "      <td>Population totale</td>\n",
       "      <td>2501</td>\n",
       "      <td>Population</td>\n",
       "      <td>2013</td>\n",
       "      <td>2013</td>\n",
       "      <td>1000 personnes</td>\n",
       "      <td>82727</td>\n",
       "      <td>NaN</td>\n",
       "      <td>Donnée officielle</td>\n",
       "    </tr>\n",
       "  </tbody>\n",
       "</table>\n",
       "</div>"
      ],
      "text/plain": [
       "  Code Domaine                                            Domaine  Code zone  \\\n",
       "0         FBSH  Bilans Alimentaire (Ancienne méthodologie et p...          2   \n",
       "1         FBSH  Bilans Alimentaire (Ancienne méthodologie et p...        202   \n",
       "2         FBSH  Bilans Alimentaire (Ancienne méthodologie et p...          3   \n",
       "3         FBSH  Bilans Alimentaire (Ancienne méthodologie et p...          4   \n",
       "4         FBSH  Bilans Alimentaire (Ancienne méthodologie et p...         79   \n",
       "\n",
       "             Zone  Code Élément            Élément  Code Produit     Produit  \\\n",
       "0     Afghanistan           511  Population totale          2501  Population   \n",
       "1  Afrique du Sud           511  Population totale          2501  Population   \n",
       "2         Albanie           511  Population totale          2501  Population   \n",
       "3         Algérie           511  Population totale          2501  Population   \n",
       "4       Allemagne           511  Population totale          2501  Population   \n",
       "\n",
       "   Code année  Année           Unité  Valeur Symbole Description du Symbole  \n",
       "0        2013   2013  1000 personnes   30552     NaN      Donnée officielle  \n",
       "1        2013   2013  1000 personnes   52776     NaN      Donnée officielle  \n",
       "2        2013   2013  1000 personnes    3173     NaN      Donnée officielle  \n",
       "3        2013   2013  1000 personnes   39208     NaN      Donnée officielle  \n",
       "4        2013   2013  1000 personnes   82727     NaN      Donnée officielle  "
      ]
     },
     "execution_count": 13,
     "metadata": {},
     "output_type": "execute_result"
    }
   ],
   "source": [
    "df_population.head()"
   ]
  },
  {
   "cell_type": "code",
   "execution_count": 18,
   "id": "370bb8d2",
   "metadata": {},
   "outputs": [
    {
     "data": {
      "text/html": [
       "<div>\n",
       "<style scoped>\n",
       "    .dataframe tbody tr th:only-of-type {\n",
       "        vertical-align: middle;\n",
       "    }\n",
       "\n",
       "    .dataframe tbody tr th {\n",
       "        vertical-align: top;\n",
       "    }\n",
       "\n",
       "    .dataframe thead th {\n",
       "        text-align: right;\n",
       "    }\n",
       "</style>\n",
       "<table border=\"1\" class=\"dataframe\">\n",
       "  <thead>\n",
       "    <tr style=\"text-align: right;\">\n",
       "      <th></th>\n",
       "      <th>Code Domaine</th>\n",
       "      <th>Domaine</th>\n",
       "      <th>Code zone</th>\n",
       "      <th>Zone</th>\n",
       "      <th>Code Élément</th>\n",
       "      <th>Élément</th>\n",
       "      <th>Code Produit</th>\n",
       "      <th>Produit</th>\n",
       "      <th>Code année</th>\n",
       "      <th>Année</th>\n",
       "      <th>Unité</th>\n",
       "      <th>Valeur</th>\n",
       "      <th>Symbole</th>\n",
       "      <th>Description du Symbole</th>\n",
       "    </tr>\n",
       "  </thead>\n",
       "  <tbody>\n",
       "    <tr>\n",
       "      <th>170</th>\n",
       "      <td>FBSH</td>\n",
       "      <td>Bilans Alimentaire (Ancienne méthodologie et p...</td>\n",
       "      <td>236</td>\n",
       "      <td>Venezuela (République bolivarienne du)</td>\n",
       "      <td>511</td>\n",
       "      <td>Population totale</td>\n",
       "      <td>2501</td>\n",
       "      <td>Population</td>\n",
       "      <td>2013</td>\n",
       "      <td>2013</td>\n",
       "      <td>1000 personnes</td>\n",
       "      <td>30405</td>\n",
       "      <td>NaN</td>\n",
       "      <td>Donnée officielle</td>\n",
       "    </tr>\n",
       "    <tr>\n",
       "      <th>171</th>\n",
       "      <td>FBSH</td>\n",
       "      <td>Bilans Alimentaire (Ancienne méthodologie et p...</td>\n",
       "      <td>237</td>\n",
       "      <td>Viet Nam</td>\n",
       "      <td>511</td>\n",
       "      <td>Population totale</td>\n",
       "      <td>2501</td>\n",
       "      <td>Population</td>\n",
       "      <td>2013</td>\n",
       "      <td>2013</td>\n",
       "      <td>1000 personnes</td>\n",
       "      <td>91680</td>\n",
       "      <td>NaN</td>\n",
       "      <td>Donnée officielle</td>\n",
       "    </tr>\n",
       "    <tr>\n",
       "      <th>172</th>\n",
       "      <td>FBSH</td>\n",
       "      <td>Bilans Alimentaire (Ancienne méthodologie et p...</td>\n",
       "      <td>249</td>\n",
       "      <td>Yémen</td>\n",
       "      <td>511</td>\n",
       "      <td>Population totale</td>\n",
       "      <td>2501</td>\n",
       "      <td>Population</td>\n",
       "      <td>2013</td>\n",
       "      <td>2013</td>\n",
       "      <td>1000 personnes</td>\n",
       "      <td>24407</td>\n",
       "      <td>NaN</td>\n",
       "      <td>Donnée officielle</td>\n",
       "    </tr>\n",
       "    <tr>\n",
       "      <th>173</th>\n",
       "      <td>FBSH</td>\n",
       "      <td>Bilans Alimentaire (Ancienne méthodologie et p...</td>\n",
       "      <td>251</td>\n",
       "      <td>Zambie</td>\n",
       "      <td>511</td>\n",
       "      <td>Population totale</td>\n",
       "      <td>2501</td>\n",
       "      <td>Population</td>\n",
       "      <td>2013</td>\n",
       "      <td>2013</td>\n",
       "      <td>1000 personnes</td>\n",
       "      <td>14539</td>\n",
       "      <td>NaN</td>\n",
       "      <td>Donnée officielle</td>\n",
       "    </tr>\n",
       "    <tr>\n",
       "      <th>174</th>\n",
       "      <td>FBSH</td>\n",
       "      <td>Bilans Alimentaire (Ancienne méthodologie et p...</td>\n",
       "      <td>181</td>\n",
       "      <td>Zimbabwe</td>\n",
       "      <td>511</td>\n",
       "      <td>Population totale</td>\n",
       "      <td>2501</td>\n",
       "      <td>Population</td>\n",
       "      <td>2013</td>\n",
       "      <td>2013</td>\n",
       "      <td>1000 personnes</td>\n",
       "      <td>14150</td>\n",
       "      <td>NaN</td>\n",
       "      <td>Donnée officielle</td>\n",
       "    </tr>\n",
       "  </tbody>\n",
       "</table>\n",
       "</div>"
      ],
      "text/plain": [
       "    Code Domaine                                            Domaine  \\\n",
       "170         FBSH  Bilans Alimentaire (Ancienne méthodologie et p...   \n",
       "171         FBSH  Bilans Alimentaire (Ancienne méthodologie et p...   \n",
       "172         FBSH  Bilans Alimentaire (Ancienne méthodologie et p...   \n",
       "173         FBSH  Bilans Alimentaire (Ancienne méthodologie et p...   \n",
       "174         FBSH  Bilans Alimentaire (Ancienne méthodologie et p...   \n",
       "\n",
       "     Code zone                                    Zone  Code Élément  \\\n",
       "170        236  Venezuela (République bolivarienne du)           511   \n",
       "171        237                                Viet Nam           511   \n",
       "172        249                                   Yémen           511   \n",
       "173        251                                  Zambie           511   \n",
       "174        181                                Zimbabwe           511   \n",
       "\n",
       "               Élément  Code Produit     Produit  Code année  Année  \\\n",
       "170  Population totale          2501  Population        2013   2013   \n",
       "171  Population totale          2501  Population        2013   2013   \n",
       "172  Population totale          2501  Population        2013   2013   \n",
       "173  Population totale          2501  Population        2013   2013   \n",
       "174  Population totale          2501  Population        2013   2013   \n",
       "\n",
       "              Unité  Valeur Symbole Description du Symbole  \n",
       "170  1000 personnes   30405     NaN      Donnée officielle  \n",
       "171  1000 personnes   91680     NaN      Donnée officielle  \n",
       "172  1000 personnes   24407     NaN      Donnée officielle  \n",
       "173  1000 personnes   14539     NaN      Donnée officielle  \n",
       "174  1000 personnes   14150     NaN      Donnée officielle  "
      ]
     },
     "execution_count": 18,
     "metadata": {},
     "output_type": "execute_result"
    }
   ],
   "source": [
    "df_population.tail()"
   ]
  },
  {
   "cell_type": "code",
   "execution_count": 14,
   "id": "f2028056",
   "metadata": {},
   "outputs": [
    {
     "data": {
      "text/plain": [
       "Code Domaine                 1\n",
       "Domaine                      1\n",
       "Code zone                  175\n",
       "Zone                       175\n",
       "Code Élément                15\n",
       "Élément                     15\n",
       "Code Produit                23\n",
       "Produit                     23\n",
       "Code année                   1\n",
       "Année                        1\n",
       "Unité                        4\n",
       "Valeur                    3074\n",
       "Symbole                      3\n",
       "Description du Symbole       3\n",
       "dtype: int64"
      ]
     },
     "execution_count": 14,
     "metadata": {},
     "output_type": "execute_result"
    }
   ],
   "source": [
    "df_animaux.nunique()"
   ]
  },
  {
   "cell_type": "code",
   "execution_count": 15,
   "id": "9dab7e9c",
   "metadata": {},
   "outputs": [
    {
     "data": {
      "text/plain": [
       "(37166, 14)"
      ]
     },
     "execution_count": 15,
     "metadata": {},
     "output_type": "execute_result"
    }
   ],
   "source": [
    "df_animaux.shape"
   ]
  },
  {
   "cell_type": "code",
   "execution_count": 16,
   "id": "3fa7aaf8",
   "metadata": {},
   "outputs": [
    {
     "data": {
      "text/plain": [
       "(1020, 15)"
      ]
     },
     "execution_count": 16,
     "metadata": {},
     "output_type": "execute_result"
    }
   ],
   "source": [
    "df_sousalimentation.shape"
   ]
  },
  {
   "cell_type": "code",
   "execution_count": 16,
   "id": "ddf7f4b1",
   "metadata": {},
   "outputs": [
    {
     "data": {
      "text/plain": [
       "Index(['Code Domaine', 'Domaine', 'Code zone', 'Zone', 'Code Élément',\n",
       "       'Élément', 'Code Produit', 'Produit', 'Code année', 'Année', 'Unité',\n",
       "       'Valeur', 'Symbole', 'Description du Symbole', 'Note'],\n",
       "      dtype='object')"
      ]
     },
     "execution_count": 16,
     "metadata": {},
     "output_type": "execute_result"
    }
   ],
   "source": [
    "df_sousalimentation.columns"
   ]
  },
  {
   "cell_type": "code",
   "execution_count": 10,
   "id": "ea80d3d9",
   "metadata": {},
   "outputs": [
    {
     "data": {
      "text/plain": [
       "Code Domaine                1\n",
       "Domaine                     1\n",
       "Code zone                 204\n",
       "Zone                      204\n",
       "Code Élément                1\n",
       "Élément                     1\n",
       "Code Produit                1\n",
       "Produit                     1\n",
       "Code année                  5\n",
       "Année                       5\n",
       "Unité                       1\n",
       "Valeur                    146\n",
       "Symbole                     3\n",
       "Description du Symbole      3\n",
       "Note                        0\n",
       "dtype: int64"
      ]
     },
     "execution_count": 10,
     "metadata": {},
     "output_type": "execute_result"
    }
   ],
   "source": [
    "df_sousalimentation.nunique()"
   ]
  },
  {
   "cell_type": "code",
   "execution_count": 12,
   "id": "8a27f6e7",
   "metadata": {},
   "outputs": [
    {
     "data": {
      "text/plain": [
       "(1020, 15)"
      ]
     },
     "execution_count": 12,
     "metadata": {},
     "output_type": "execute_result"
    }
   ],
   "source": [
    "df_sousalimentation.shape"
   ]
  },
  {
   "cell_type": "code",
   "execution_count": 17,
   "id": "d0ef33f9",
   "metadata": {},
   "outputs": [
    {
     "data": {
      "text/plain": [
       "(891, 14)"
      ]
     },
     "execution_count": 17,
     "metadata": {},
     "output_type": "execute_result"
    }
   ],
   "source": [
    "df_céréales.shape"
   ]
  },
  {
   "cell_type": "code",
   "execution_count": 18,
   "id": "07534277",
   "metadata": {},
   "outputs": [
    {
     "data": {
      "text/plain": [
       "(104871, 14)"
      ]
     },
     "execution_count": 18,
     "metadata": {},
     "output_type": "execute_result"
    }
   ],
   "source": [
    "df_vegetaux.shape"
   ]
  },
  {
   "cell_type": "code",
   "execution_count": 14,
   "id": "90235cb7",
   "metadata": {},
   "outputs": [
    {
     "data": {
      "text/plain": [
       "Code Domaine                 1\n",
       "Domaine                      1\n",
       "Code zone                  175\n",
       "Zone                       175\n",
       "Code Élément                15\n",
       "Élément                     15\n",
       "Code Produit                75\n",
       "Produit                     75\n",
       "Code année                   1\n",
       "Année                        1\n",
       "Unité                        4\n",
       "Valeur                    6249\n",
       "Symbole                      3\n",
       "Description du Symbole       3\n",
       "dtype: int64"
      ]
     },
     "execution_count": 14,
     "metadata": {},
     "output_type": "execute_result"
    }
   ],
   "source": [
    "df_vegetaux.nunique()"
   ]
  },
  {
   "cell_type": "code",
   "execution_count": 15,
   "id": "55870627",
   "metadata": {},
   "outputs": [
    {
     "data": {
      "text/plain": [
       "Code Domaine                1\n",
       "Domaine                     1\n",
       "Code zone                 167\n",
       "Zone                      167\n",
       "Code Élément                1\n",
       "Élément                     1\n",
       "Code Produit                9\n",
       "Produit                     9\n",
       "Code année                  1\n",
       "Année                       1\n",
       "Unité                       1\n",
       "Valeur                    485\n",
       "Symbole                     1\n",
       "Description du Symbole      1\n",
       "dtype: int64"
      ]
     },
     "execution_count": 15,
     "metadata": {},
     "output_type": "execute_result"
    }
   ],
   "source": [
    "df_céréales.nunique()"
   ]
  },
  {
   "cell_type": "code",
   "execution_count": 21,
   "id": "038f8e6a",
   "metadata": {},
   "outputs": [
    {
     "data": {
      "text/plain": [
       "0      30552\n",
       "1      52776\n",
       "2       3173\n",
       "3      39208\n",
       "4      82727\n",
       "       ...  \n",
       "170    30405\n",
       "171    91680\n",
       "172    24407\n",
       "173    14539\n",
       "174    14150\n",
       "Name: Valeur, Length: 175, dtype: int64"
      ]
     },
     "execution_count": 21,
     "metadata": {},
     "output_type": "execute_result"
    }
   ],
   "source": [
    "df_population['Valeur']"
   ]
  },
  {
   "cell_type": "code",
   "execution_count": 25,
   "id": "a2133c08",
   "metadata": {},
   "outputs": [
    {
     "data": {
      "text/plain": [
       "48079.96"
      ]
     },
     "execution_count": 25,
     "metadata": {},
     "output_type": "execute_result"
    }
   ],
   "source": [
    "df_population['Valeur'].mean()"
   ]
  },
  {
   "cell_type": "code",
   "execution_count": 26,
   "id": "546f1dd4",
   "metadata": {},
   "outputs": [
    {
     "data": {
      "text/plain": [
       "count    1.750000e+02\n",
       "mean     4.807996e+04\n",
       "std      1.786327e+05\n",
       "min      5.400000e+01\n",
       "25%      2.543500e+03\n",
       "50%      9.413000e+03\n",
       "75%      2.888150e+04\n",
       "max      1.416667e+06\n",
       "Name: Valeur, dtype: float64"
      ]
     },
     "execution_count": 26,
     "metadata": {},
     "output_type": "execute_result"
    }
   ],
   "source": [
    "df_population['Valeur'].describe()"
   ]
  },
  {
   "cell_type": "code",
   "execution_count": 32,
   "id": "b6332e15",
   "metadata": {},
   "outputs": [
    {
     "data": {
      "text/html": [
       "<div>\n",
       "<style scoped>\n",
       "    .dataframe tbody tr th:only-of-type {\n",
       "        vertical-align: middle;\n",
       "    }\n",
       "\n",
       "    .dataframe tbody tr th {\n",
       "        vertical-align: top;\n",
       "    }\n",
       "\n",
       "    .dataframe thead th {\n",
       "        text-align: right;\n",
       "    }\n",
       "</style>\n",
       "<table border=\"1\" class=\"dataframe\">\n",
       "  <thead>\n",
       "    <tr style=\"text-align: right;\">\n",
       "      <th></th>\n",
       "      <th>Zone</th>\n",
       "      <th>Valeur</th>\n",
       "    </tr>\n",
       "  </thead>\n",
       "  <tbody>\n",
       "    <tr>\n",
       "      <th>0</th>\n",
       "      <td>Afghanistan</td>\n",
       "      <td>30552</td>\n",
       "    </tr>\n",
       "    <tr>\n",
       "      <th>1</th>\n",
       "      <td>Afrique du Sud</td>\n",
       "      <td>52776</td>\n",
       "    </tr>\n",
       "    <tr>\n",
       "      <th>2</th>\n",
       "      <td>Albanie</td>\n",
       "      <td>3173</td>\n",
       "    </tr>\n",
       "    <tr>\n",
       "      <th>3</th>\n",
       "      <td>Algérie</td>\n",
       "      <td>39208</td>\n",
       "    </tr>\n",
       "    <tr>\n",
       "      <th>4</th>\n",
       "      <td>Allemagne</td>\n",
       "      <td>82727</td>\n",
       "    </tr>\n",
       "    <tr>\n",
       "      <th>...</th>\n",
       "      <td>...</td>\n",
       "      <td>...</td>\n",
       "    </tr>\n",
       "    <tr>\n",
       "      <th>170</th>\n",
       "      <td>Venezuela (République bolivarienne du)</td>\n",
       "      <td>30405</td>\n",
       "    </tr>\n",
       "    <tr>\n",
       "      <th>171</th>\n",
       "      <td>Viet Nam</td>\n",
       "      <td>91680</td>\n",
       "    </tr>\n",
       "    <tr>\n",
       "      <th>172</th>\n",
       "      <td>Yémen</td>\n",
       "      <td>24407</td>\n",
       "    </tr>\n",
       "    <tr>\n",
       "      <th>173</th>\n",
       "      <td>Zambie</td>\n",
       "      <td>14539</td>\n",
       "    </tr>\n",
       "    <tr>\n",
       "      <th>174</th>\n",
       "      <td>Zimbabwe</td>\n",
       "      <td>14150</td>\n",
       "    </tr>\n",
       "  </tbody>\n",
       "</table>\n",
       "<p>175 rows × 2 columns</p>\n",
       "</div>"
      ],
      "text/plain": [
       "                                       Zone  Valeur\n",
       "0                               Afghanistan   30552\n",
       "1                            Afrique du Sud   52776\n",
       "2                                   Albanie    3173\n",
       "3                                   Algérie   39208\n",
       "4                                 Allemagne   82727\n",
       "..                                      ...     ...\n",
       "170  Venezuela (République bolivarienne du)   30405\n",
       "171                                Viet Nam   91680\n",
       "172                                   Yémen   24407\n",
       "173                                  Zambie   14539\n",
       "174                                Zimbabwe   14150\n",
       "\n",
       "[175 rows x 2 columns]"
      ]
     },
     "execution_count": 32,
     "metadata": {},
     "output_type": "execute_result"
    }
   ],
   "source": [
    "df_population[['Zone' , 'Valeur']]"
   ]
  },
  {
   "cell_type": "code",
   "execution_count": null,
   "id": "613e6d4c",
   "metadata": {},
   "outputs": [],
   "source": []
  }
 ],
 "metadata": {
  "kernelspec": {
   "display_name": "Python 3",
   "language": "python",
   "name": "python3"
  },
  "language_info": {
   "codemirror_mode": {
    "name": "ipython",
    "version": 3
   },
   "file_extension": ".py",
   "mimetype": "text/x-python",
   "name": "python",
   "nbconvert_exporter": "python",
   "pygments_lexer": "ipython3",
   "version": "3.8.8"
  }
 },
 "nbformat": 4,
 "nbformat_minor": 5
}

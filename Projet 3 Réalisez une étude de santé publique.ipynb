{
 "cells": [
  {
   "cell_type": "markdown",
   "id": "5d036509",
   "metadata": {},
   "source": [
    "# Projet 3 Réalisez une étude de santé publique"
   ]
  },
  {
   "cell_type": "markdown",
   "id": "4cacae5e",
   "metadata": {},
   "source": [
    "# Identifiez les grandes tendances"
   ]
  },
  {
   "cell_type": "code",
   "execution_count": 1,
   "id": "4c6a9290",
   "metadata": {},
   "outputs": [],
   "source": [
    "import pandas as pd\n",
    "import numpy as np\n",
    "import matplotlib.pyplot as plt\n",
    "%matplotlib inline"
   ]
  },
  {
   "cell_type": "code",
   "execution_count": null,
   "id": "c47eb4c5",
   "metadata": {},
   "outputs": [],
   "source": []
  }
 ],
 "metadata": {
  "kernelspec": {
   "display_name": "Python 3",
   "language": "python",
   "name": "python3"
  },
  "language_info": {
   "codemirror_mode": {
    "name": "ipython",
    "version": 3
   },
   "file_extension": ".py",
   "mimetype": "text/x-python",
   "name": "python",
   "nbconvert_exporter": "python",
   "pygments_lexer": "ipython3",
   "version": "3.8.8"
  }
 },
 "nbformat": 4,
 "nbformat_minor": 5
}
